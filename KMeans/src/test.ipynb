{
 "cells": [
  {
   "cell_type": "code",
   "execution_count": 1,
   "metadata": {
    "collapsed": true,
    "pycharm": {
     "name": "#%%\n"
    }
   },
   "outputs": [],
   "source": [
    "import matplotlib.pyplot as plt\n",
    "import pandas as pd\n",
    "import numpy as np\n",
    "from sklearn.preprocessing import StandardScaler\n",
    "from tqdm import tqdm"
   ]
  },
  {
   "cell_type": "code",
   "execution_count": 86,
   "outputs": [],
   "source": [
    "np.random.seed(10)"
   ],
   "metadata": {
    "collapsed": false,
    "pycharm": {
     "name": "#%%\n"
    }
   }
  },
  {
   "cell_type": "code",
   "execution_count": 237,
   "outputs": [],
   "source": [
    "class KMeans:\n",
    "    def __init__(self, n_clusters, tune=False):\n",
    "        self.tune = tune\n",
    "        self.n_clusters = n_clusters\n",
    "        self.n_rows, self.n_features = None, None\n",
    "        self.max_iterations = 100000\n",
    "        self._inertia = 0  # SSE\n",
    "        self.metrics = {\n",
    "            'L1': lambda x, y: np.sum(np.absolute(x - y), axis=1),\n",
    "            'L2': lambda x, y: np.sum(np.sqrt((x - y) ** 2), axis=1)\n",
    "        }\n",
    "\n",
    "    def init_centroids(self, X):\n",
    "        self.n_rows, self.n_features = df.shape\n",
    "        centroids = np.zeros((self.n_clusters, self.n_features))\n",
    "        for k in range(self.n_clusters):  # iterations of\n",
    "            centroid = X[np.random.choice(range(self.n_rows))]  # random centroids\n",
    "            centroids[k] = centroid\n",
    "        return centroids  # return random centroids\n",
    "\n",
    "    def create_clusters(self, X, centroids, metric):\n",
    "        clusters = [[] for _ in range(self.n_clusters)]\n",
    "        self._inertia = 0\n",
    "        for point_idx, point in enumerate(X):\n",
    "            running_metric = self.metrics[metric](point, centroids)\n",
    "            closest_centroid = np.argmin(running_metric)\n",
    "            clusters[closest_centroid].append(point_idx)\n",
    "\n",
    "        # calculate inertia\n",
    "        if self.tune:\n",
    "            for i, cluster in enumerate(clusters):\n",
    "                points = X[cluster]\n",
    "                self._inertia += np.sum(self.metrics[metric](points, centroids[i]))\n",
    "        return clusters\n",
    "\n",
    "    def calculate_new_centroids(self, cluster, X):\n",
    "        centroids = np.zeros((self.n_clusters, self.n_features))\n",
    "        # row , column full with zero\n",
    "        for idx, cluster in enumerate(cluster):\n",
    "            new_centroid = np.mean(X[cluster], axis=0)  # find the value for new centroids\n",
    "            centroids[idx] = new_centroid\n",
    "        return centroids\n",
    "\n",
    "    def fit(self, df, metric='L2'):\n",
    "        X = df.values\n",
    "        centroids = self.init_centroids(X)\n",
    "        for _ in range(self.max_iterations):\n",
    "                clusters = self.create_clusters(X, centroids, metric)\n",
    "            previous_centroids = centroids\n",
    "            centroids = self.calculate_new_centroids(clusters, X)  # calculate new centroids\n",
    "            diff = centroids - previous_centroids  # calculate difference\n",
    "            if not diff.any():\n",
    "                break\n",
    "        return clusters, centroids\n",
    "\n",
    "\n",
    "def elbow(n_clusters, df):\n",
    "    SSE = []\n",
    "    for i in range(n_clusters):\n",
    "        kmeans = KMeans(n_clusters=i + 1, tune=True)\n",
    "        kmeans.fit(df)\n",
    "        SSE.append(kmeans._inertia)\n",
    "    frame = pd.DataFrame({'Cluster': range(1, n_clusters + 1), 'SSE': SSE})\n",
    "    plt.figure(figsize=(12, 6))\n",
    "    plt.plot(frame['Cluster'], frame['SSE'], marker=\"*\")\n",
    "    plt.xlabel('Number of clusters')\n",
    "    plt.ylabel('Inertia')\n",
    "    plt.show()"
   ],
   "metadata": {
    "collapsed": false,
    "pycharm": {
     "name": "#%%\n"
    }
   }
  },
  {
   "cell_type": "code",
   "execution_count": 238,
   "outputs": [
    {
     "data": {
      "text/plain": "     Channel  Region  Fresh   Milk  Grocery  Frozen  Detergents_Paper  \\\n0          2       3  12669   9656     7561     214              2674   \n1          2       3   7057   9810     9568    1762              3293   \n2          2       3   6353   8808     7684    2405              3516   \n3          1       3  13265   1196     4221    6404               507   \n4          2       3  22615   5410     7198    3915              1777   \n..       ...     ...    ...    ...      ...     ...               ...   \n435        1       3  29703  12051    16027   13135               182   \n436        1       3  39228   1431      764    4510                93   \n437        2       3  14531  15488    30243     437             14841   \n438        1       3  10290   1981     2232    1038               168   \n439        1       3   2787   1698     2510      65               477   \n\n     Delicassen  \n0          1338  \n1          1776  \n2          7844  \n3          1788  \n4          5185  \n..          ...  \n435        2204  \n436        2346  \n437        1867  \n438        2125  \n439          52  \n\n[440 rows x 8 columns]",
      "text/html": "<div>\n<style scoped>\n    .dataframe tbody tr th:only-of-type {\n        vertical-align: middle;\n    }\n\n    .dataframe tbody tr th {\n        vertical-align: top;\n    }\n\n    .dataframe thead th {\n        text-align: right;\n    }\n</style>\n<table border=\"1\" class=\"dataframe\">\n  <thead>\n    <tr style=\"text-align: right;\">\n      <th></th>\n      <th>Channel</th>\n      <th>Region</th>\n      <th>Fresh</th>\n      <th>Milk</th>\n      <th>Grocery</th>\n      <th>Frozen</th>\n      <th>Detergents_Paper</th>\n      <th>Delicassen</th>\n    </tr>\n  </thead>\n  <tbody>\n    <tr>\n      <th>0</th>\n      <td>2</td>\n      <td>3</td>\n      <td>12669</td>\n      <td>9656</td>\n      <td>7561</td>\n      <td>214</td>\n      <td>2674</td>\n      <td>1338</td>\n    </tr>\n    <tr>\n      <th>1</th>\n      <td>2</td>\n      <td>3</td>\n      <td>7057</td>\n      <td>9810</td>\n      <td>9568</td>\n      <td>1762</td>\n      <td>3293</td>\n      <td>1776</td>\n    </tr>\n    <tr>\n      <th>2</th>\n      <td>2</td>\n      <td>3</td>\n      <td>6353</td>\n      <td>8808</td>\n      <td>7684</td>\n      <td>2405</td>\n      <td>3516</td>\n      <td>7844</td>\n    </tr>\n    <tr>\n      <th>3</th>\n      <td>1</td>\n      <td>3</td>\n      <td>13265</td>\n      <td>1196</td>\n      <td>4221</td>\n      <td>6404</td>\n      <td>507</td>\n      <td>1788</td>\n    </tr>\n    <tr>\n      <th>4</th>\n      <td>2</td>\n      <td>3</td>\n      <td>22615</td>\n      <td>5410</td>\n      <td>7198</td>\n      <td>3915</td>\n      <td>1777</td>\n      <td>5185</td>\n    </tr>\n    <tr>\n      <th>...</th>\n      <td>...</td>\n      <td>...</td>\n      <td>...</td>\n      <td>...</td>\n      <td>...</td>\n      <td>...</td>\n      <td>...</td>\n      <td>...</td>\n    </tr>\n    <tr>\n      <th>435</th>\n      <td>1</td>\n      <td>3</td>\n      <td>29703</td>\n      <td>12051</td>\n      <td>16027</td>\n      <td>13135</td>\n      <td>182</td>\n      <td>2204</td>\n    </tr>\n    <tr>\n      <th>436</th>\n      <td>1</td>\n      <td>3</td>\n      <td>39228</td>\n      <td>1431</td>\n      <td>764</td>\n      <td>4510</td>\n      <td>93</td>\n      <td>2346</td>\n    </tr>\n    <tr>\n      <th>437</th>\n      <td>2</td>\n      <td>3</td>\n      <td>14531</td>\n      <td>15488</td>\n      <td>30243</td>\n      <td>437</td>\n      <td>14841</td>\n      <td>1867</td>\n    </tr>\n    <tr>\n      <th>438</th>\n      <td>1</td>\n      <td>3</td>\n      <td>10290</td>\n      <td>1981</td>\n      <td>2232</td>\n      <td>1038</td>\n      <td>168</td>\n      <td>2125</td>\n    </tr>\n    <tr>\n      <th>439</th>\n      <td>1</td>\n      <td>3</td>\n      <td>2787</td>\n      <td>1698</td>\n      <td>2510</td>\n      <td>65</td>\n      <td>477</td>\n      <td>52</td>\n    </tr>\n  </tbody>\n</table>\n<p>440 rows × 8 columns</p>\n</div>"
     },
     "execution_count": 238,
     "metadata": {},
     "output_type": "execute_result"
    }
   ],
   "source": [
    "df = pd.read_csv('../data/Wholesale customers data.csv')\n",
    "columns = list(df.columns)\n",
    "df"
   ],
   "metadata": {
    "collapsed": false,
    "pycharm": {
     "name": "#%%\n"
    }
   }
  },
  {
   "cell_type": "code",
   "execution_count": 239,
   "outputs": [
    {
     "data": {
      "text/plain": "            0         1         2         3         4         5         6  \\\n0    1.448652  0.590668  0.052933  0.523568 -0.041115 -0.589367 -0.043569   \n1    1.448652  0.590668 -0.391302  0.544458  0.170318 -0.270136  0.086407   \n2    1.448652  0.590668 -0.447029  0.408538 -0.028157 -0.137536  0.133232   \n3   -0.690297  0.590668  0.100111 -0.624020 -0.392977  0.687144 -0.498588   \n4    1.448652  0.590668  0.840239 -0.052396 -0.079356  0.173859 -0.231918   \n..        ...       ...       ...       ...       ...       ...       ...   \n435 -0.690297  0.590668  1.401312  0.848446  0.850760  2.075222 -0.566831   \n436 -0.690297  0.590668  2.155293 -0.592142 -0.757165  0.296561 -0.585519   \n437  1.448652  0.590668  0.200326  1.314671  2.348386 -0.543380  2.511218   \n438 -0.690297  0.590668 -0.135384 -0.517536 -0.602514 -0.419441 -0.569770   \n439 -0.690297  0.590668 -0.729307 -0.555924 -0.573227 -0.620094 -0.504888   \n\n            7  \n0   -0.066339  \n1    0.089151  \n2    2.243293  \n3    0.093411  \n4    1.299347  \n..        ...  \n435  0.241091  \n436  0.291501  \n437  0.121456  \n438  0.213046  \n439 -0.522869  \n\n[440 rows x 8 columns]",
      "text/html": "<div>\n<style scoped>\n    .dataframe tbody tr th:only-of-type {\n        vertical-align: middle;\n    }\n\n    .dataframe tbody tr th {\n        vertical-align: top;\n    }\n\n    .dataframe thead th {\n        text-align: right;\n    }\n</style>\n<table border=\"1\" class=\"dataframe\">\n  <thead>\n    <tr style=\"text-align: right;\">\n      <th></th>\n      <th>0</th>\n      <th>1</th>\n      <th>2</th>\n      <th>3</th>\n      <th>4</th>\n      <th>5</th>\n      <th>6</th>\n      <th>7</th>\n    </tr>\n  </thead>\n  <tbody>\n    <tr>\n      <th>0</th>\n      <td>1.448652</td>\n      <td>0.590668</td>\n      <td>0.052933</td>\n      <td>0.523568</td>\n      <td>-0.041115</td>\n      <td>-0.589367</td>\n      <td>-0.043569</td>\n      <td>-0.066339</td>\n    </tr>\n    <tr>\n      <th>1</th>\n      <td>1.448652</td>\n      <td>0.590668</td>\n      <td>-0.391302</td>\n      <td>0.544458</td>\n      <td>0.170318</td>\n      <td>-0.270136</td>\n      <td>0.086407</td>\n      <td>0.089151</td>\n    </tr>\n    <tr>\n      <th>2</th>\n      <td>1.448652</td>\n      <td>0.590668</td>\n      <td>-0.447029</td>\n      <td>0.408538</td>\n      <td>-0.028157</td>\n      <td>-0.137536</td>\n      <td>0.133232</td>\n      <td>2.243293</td>\n    </tr>\n    <tr>\n      <th>3</th>\n      <td>-0.690297</td>\n      <td>0.590668</td>\n      <td>0.100111</td>\n      <td>-0.624020</td>\n      <td>-0.392977</td>\n      <td>0.687144</td>\n      <td>-0.498588</td>\n      <td>0.093411</td>\n    </tr>\n    <tr>\n      <th>4</th>\n      <td>1.448652</td>\n      <td>0.590668</td>\n      <td>0.840239</td>\n      <td>-0.052396</td>\n      <td>-0.079356</td>\n      <td>0.173859</td>\n      <td>-0.231918</td>\n      <td>1.299347</td>\n    </tr>\n    <tr>\n      <th>...</th>\n      <td>...</td>\n      <td>...</td>\n      <td>...</td>\n      <td>...</td>\n      <td>...</td>\n      <td>...</td>\n      <td>...</td>\n      <td>...</td>\n    </tr>\n    <tr>\n      <th>435</th>\n      <td>-0.690297</td>\n      <td>0.590668</td>\n      <td>1.401312</td>\n      <td>0.848446</td>\n      <td>0.850760</td>\n      <td>2.075222</td>\n      <td>-0.566831</td>\n      <td>0.241091</td>\n    </tr>\n    <tr>\n      <th>436</th>\n      <td>-0.690297</td>\n      <td>0.590668</td>\n      <td>2.155293</td>\n      <td>-0.592142</td>\n      <td>-0.757165</td>\n      <td>0.296561</td>\n      <td>-0.585519</td>\n      <td>0.291501</td>\n    </tr>\n    <tr>\n      <th>437</th>\n      <td>1.448652</td>\n      <td>0.590668</td>\n      <td>0.200326</td>\n      <td>1.314671</td>\n      <td>2.348386</td>\n      <td>-0.543380</td>\n      <td>2.511218</td>\n      <td>0.121456</td>\n    </tr>\n    <tr>\n      <th>438</th>\n      <td>-0.690297</td>\n      <td>0.590668</td>\n      <td>-0.135384</td>\n      <td>-0.517536</td>\n      <td>-0.602514</td>\n      <td>-0.419441</td>\n      <td>-0.569770</td>\n      <td>0.213046</td>\n    </tr>\n    <tr>\n      <th>439</th>\n      <td>-0.690297</td>\n      <td>0.590668</td>\n      <td>-0.729307</td>\n      <td>-0.555924</td>\n      <td>-0.573227</td>\n      <td>-0.620094</td>\n      <td>-0.504888</td>\n      <td>-0.522869</td>\n    </tr>\n  </tbody>\n</table>\n<p>440 rows × 8 columns</p>\n</div>"
     },
     "execution_count": 239,
     "metadata": {},
     "output_type": "execute_result"
    }
   ],
   "source": [
    "scaler = StandardScaler()\n",
    "df_scaled = scaler.fit_transform(df)\n",
    "df_scaled = pd.DataFrame(df_scaled)\n",
    "df_scaled"
   ],
   "metadata": {
    "collapsed": false,
    "pycharm": {
     "name": "#%%\n"
    }
   }
  },
  {
   "cell_type": "code",
   "execution_count": 235,
   "outputs": [
    {
     "name": "stderr",
     "output_type": "stream",
     "text": [
      "C:\\Anaconda\\lib\\site-packages\\numpy\\core\\fromnumeric.py:3474: RuntimeWarning:\n",
      "\n",
      "Mean of empty slice.\n",
      "\n",
      "C:\\Anaconda\\lib\\site-packages\\numpy\\core\\_methods.py:181: RuntimeWarning:\n",
      "\n",
      "invalid value encountered in true_divide\n",
      "\n"
     ]
    },
    {
     "data": {
      "text/plain": "<Figure size 864x432 with 1 Axes>",
      "image/png": "[encoded data removed]"
     },
     "metadata": {
      "needs_background": "light"
     },
     "output_type": "display_data"
    }
   ],
   "source": [
    "#elbow(20, df_scaled)\n",
    "#kmeans = KMeans(n_clusters=2)"
   ],
   "metadata": {
    "collapsed": false,
    "pycharm": {
     "name": "#%%\n"
    }
   }
  },
  {
   "cell_type": "code",
   "execution_count": 249,
   "outputs": [],
   "source": [
    "kmeans = KMeans(n_clusters=3)\n",
    "clusters, centroids = kmeans.fit(df_scaled)"
   ],
   "metadata": {
    "collapsed": false,
    "pycharm": {
     "name": "#%%\n"
    }
   }
  },
  {
   "cell_type": "code",
   "execution_count": 250,
   "outputs": [
    {
     "data": {
      "text/plain": "[[0,\n  1,\n  2,\n  7,\n  9,\n  10,\n  12,\n  13,\n  14,\n  16,\n  23,\n  24,\n  28,\n  35,\n  37,\n  38,\n  42,\n  43,\n  44,\n  45,\n  46,\n  47,\n  48,\n  49,\n  53,\n  56,\n  57,\n  60,\n  61,\n  63,\n  65,\n  67,\n  74,\n  77,\n  81,\n  82,\n  85,\n  86,\n  92,\n  94,\n  96,\n  100,\n  101,\n  102,\n  106,\n  107,\n  108,\n  109,\n  111,\n  123,\n  127,\n  145,\n  155,\n  156,\n  158,\n  159,\n  160,\n  163,\n  164,\n  165,\n  166,\n  170,\n  171,\n  173,\n  175,\n  188,\n  189,\n  193,\n  197,\n  200,\n  201,\n  205,\n  209,\n  211,\n  214,\n  216,\n  218,\n  245,\n  251,\n  264,\n  266,\n  268,\n  279,\n  293,\n  297,\n  298,\n  300,\n  301,\n  302,\n  303,\n  304,\n  305,\n  306,\n  309,\n  312,\n  315,\n  319,\n  331,\n  333,\n  335,\n  340,\n  341,\n  343,\n  346,\n  347,\n  349,\n  351,\n  353,\n  357,\n  365,\n  376,\n  396,\n  407,\n  415,\n  416,\n  418,\n  437],\n [196,\n  198,\n  199,\n  202,\n  203,\n  204,\n  206,\n  207,\n  208,\n  210,\n  212,\n  213,\n  215,\n  217,\n  219,\n  220,\n  221,\n  222,\n  223,\n  224,\n  225,\n  226,\n  227,\n  228,\n  229,\n  230,\n  231,\n  232,\n  233,\n  234,\n  235,\n  236,\n  237,\n  238,\n  239,\n  240,\n  241,\n  242,\n  243,\n  244,\n  246,\n  247,\n  248,\n  249,\n  250,\n  252,\n  253,\n  254,\n  255,\n  256,\n  257,\n  258,\n  259,\n  260,\n  261,\n  262,\n  263,\n  265,\n  267,\n  269,\n  270,\n  271,\n  272,\n  294,\n  295,\n  296,\n  299,\n  307,\n  308,\n  310,\n  311,\n  313,\n  314,\n  316,\n  317,\n  318,\n  320,\n  321,\n  322,\n  323,\n  324,\n  326,\n  327,\n  328,\n  329,\n  330,\n  332,\n  336,\n  337,\n  338,\n  339],\n [3,\n  4,\n  5,\n  6,\n  8,\n  11,\n  15,\n  17,\n  18,\n  19,\n  20,\n  21,\n  22,\n  25,\n  26,\n  27,\n  29,\n  30,\n  31,\n  32,\n  33,\n  34,\n  36,\n  39,\n  40,\n  41,\n  50,\n  51,\n  52,\n  54,\n  55,\n  58,\n  59,\n  62,\n  64,\n  66,\n  68,\n  69,\n  70,\n  71,\n  72,\n  73,\n  75,\n  76,\n  78,\n  79,\n  80,\n  83,\n  84,\n  87,\n  88,\n  89,\n  90,\n  91,\n  93,\n  95,\n  97,\n  98,\n  99,\n  103,\n  104,\n  105,\n  110,\n  112,\n  113,\n  114,\n  115,\n  116,\n  117,\n  118,\n  119,\n  120,\n  121,\n  122,\n  124,\n  125,\n  126,\n  128,\n  129,\n  130,\n  131,\n  132,\n  133,\n  134,\n  135,\n  136,\n  137,\n  138,\n  139,\n  140,\n  141,\n  142,\n  143,\n  144,\n  146,\n  147,\n  148,\n  149,\n  150,\n  151,\n  152,\n  153,\n  154,\n  157,\n  161,\n  162,\n  167,\n  168,\n  169,\n  172,\n  174,\n  176,\n  177,\n  178,\n  179,\n  180,\n  181,\n  182,\n  183,\n  184,\n  185,\n  186,\n  187,\n  190,\n  191,\n  192,\n  194,\n  195,\n  273,\n  274,\n  275,\n  276,\n  277,\n  278,\n  280,\n  281,\n  282,\n  283,\n  284,\n  285,\n  286,\n  287,\n  288,\n  289,\n  290,\n  291,\n  292,\n  325,\n  334,\n  342,\n  344,\n  345,\n  348,\n  350,\n  352,\n  354,\n  355,\n  356,\n  358,\n  359,\n  360,\n  361,\n  362,\n  363,\n  364,\n  366,\n  367,\n  368,\n  369,\n  370,\n  371,\n  372,\n  373,\n  374,\n  375,\n  377,\n  378,\n  379,\n  380,\n  381,\n  382,\n  383,\n  384,\n  385,\n  386,\n  387,\n  388,\n  389,\n  390,\n  391,\n  392,\n  393,\n  394,\n  395,\n  397,\n  398,\n  399,\n  400,\n  401,\n  402,\n  403,\n  404,\n  405,\n  406,\n  408,\n  409,\n  410,\n  411,\n  412,\n  413,\n  414,\n  417,\n  419,\n  420,\n  421,\n  422,\n  423,\n  424,\n  425,\n  426,\n  427,\n  428,\n  429,\n  430,\n  431,\n  432,\n  433,\n  434,\n  435,\n  436,\n  438,\n  439]]"
     },
     "execution_count": 250,
     "metadata": {},
     "output_type": "execute_result"
    }
   ],
   "source": [
    "clusters"
   ],
   "metadata": {
    "collapsed": false,
    "pycharm": {
     "name": "#%%\n"
    }
   }
  },
  {
   "cell_type": "code",
   "execution_count": 251,
   "outputs": [
    {
     "data": {
      "text/plain": "array([[ 1.44865163,  0.09335859, -0.35319716,  0.84858429,  1.09849463,\n        -0.33138046,  1.14621304,  0.106097  ],\n       [-0.57277243, -1.59749436,  0.00650393, -0.34331365, -0.39958256,\n         0.05441803, -0.42008232, -0.14571087],\n       [-0.50590496,  0.57952169,  0.17556987, -0.29328802, -0.39724939,\n         0.14577359, -0.41327343,  0.00364802]])"
     },
     "execution_count": 251,
     "metadata": {},
     "output_type": "execute_result"
    }
   ],
   "source": [
    "centroids"
   ],
   "metadata": {
    "collapsed": false,
    "pycharm": {
     "name": "#%%\n"
    }
   }
  },
  {
   "cell_type": "code",
   "execution_count": 252,
   "outputs": [],
   "source": [
    "from sklearn.manifold import TSNE\n",
    "import plotly.express as px"
   ],
   "metadata": {
    "collapsed": false,
    "pycharm": {
     "name": "#%%\n"
    }
   }
  },
  {
   "cell_type": "code",
   "execution_count": 253,
   "outputs": [
    {
     "data": {
      "text/plain": "            0         1         2         3         4         5         6  \\\n438 -0.690297  0.590668 -0.135384 -0.517536 -0.602514 -0.419441 -0.569770   \n439 -0.690297  0.590668 -0.729307 -0.555924 -0.573227 -0.620094 -0.504888   \n\n            7  \n438  0.213046  \n439 -0.522869  ",
      "text/html": "<div>\n<style scoped>\n    .dataframe tbody tr th:only-of-type {\n        vertical-align: middle;\n    }\n\n    .dataframe tbody tr th {\n        vertical-align: top;\n    }\n\n    .dataframe thead th {\n        text-align: right;\n    }\n</style>\n<table border=\"1\" class=\"dataframe\">\n  <thead>\n    <tr style=\"text-align: right;\">\n      <th></th>\n      <th>0</th>\n      <th>1</th>\n      <th>2</th>\n      <th>3</th>\n      <th>4</th>\n      <th>5</th>\n      <th>6</th>\n      <th>7</th>\n    </tr>\n  </thead>\n  <tbody>\n    <tr>\n      <th>438</th>\n      <td>-0.690297</td>\n      <td>0.590668</td>\n      <td>-0.135384</td>\n      <td>-0.517536</td>\n      <td>-0.602514</td>\n      <td>-0.419441</td>\n      <td>-0.569770</td>\n      <td>0.213046</td>\n    </tr>\n    <tr>\n      <th>439</th>\n      <td>-0.690297</td>\n      <td>0.590668</td>\n      <td>-0.729307</td>\n      <td>-0.555924</td>\n      <td>-0.573227</td>\n      <td>-0.620094</td>\n      <td>-0.504888</td>\n      <td>-0.522869</td>\n    </tr>\n  </tbody>\n</table>\n</div>"
     },
     "execution_count": 253,
     "metadata": {},
     "output_type": "execute_result"
    }
   ],
   "source": [
    "df_scaled.iloc[-2:]"
   ],
   "metadata": {
    "collapsed": false,
    "pycharm": {
     "name": "#%%\n"
    }
   }
  },
  {
   "cell_type": "code",
   "execution_count": 254,
   "outputs": [],
   "source": [
    "def compress(df, centroids):\n",
    "    tsne = TSNE(n_components=2)\n",
    "    concat_df = pd.concat([df, pd.DataFrame(centroids)])\n",
    "    tnse_df = tsne.fit_transform(concat_df)\n",
    "\n",
    "    return pd.DataFrame(tnse_df[:-len(centroids)]), pd.DataFrame(tnse_df[-len(centroids):])"
   ],
   "metadata": {
    "collapsed": false,
    "pycharm": {
     "name": "#%%\n"
    }
   }
  },
  {
   "cell_type": "code",
   "execution_count": 255,
   "outputs": [
    {
     "name": "stderr",
     "output_type": "stream",
     "text": [
      "C:\\Anaconda\\lib\\site-packages\\sklearn\\manifold\\_t_sne.py:795: FutureWarning:\n",
      "\n",
      "The default initialization in TSNE will change from 'random' to 'pca' in 1.2.\n",
      "\n",
      "C:\\Anaconda\\lib\\site-packages\\sklearn\\manifold\\_t_sne.py:805: FutureWarning:\n",
      "\n",
      "The default learning rate in TSNE will change from 200.0 to 'auto' in 1.2.\n",
      "\n"
     ]
    }
   ],
   "source": [
    "tnse_df, tnse_centroids = compress(df_scaled, centroids)"
   ],
   "metadata": {
    "collapsed": false,
    "pycharm": {
     "name": "#%%\n"
    }
   }
  },
  {
   "cell_type": "code",
   "execution_count": 256,
   "outputs": [],
   "source": [
    "tnse_centroids = pd.DataFrame(tnse_centroids)\n",
    "tnse_df = pd.DataFrame(tnse_df)"
   ],
   "metadata": {
    "collapsed": false,
    "pycharm": {
     "name": "#%%\n"
    }
   }
  },
  {
   "cell_type": "code",
   "execution_count": 257,
   "outputs": [
    {
     "data": {
      "application/vnd.plotly.v1+json": {
       "data": [
        {
         "hovertemplate": "0=%{x}<br>1=%{y}<extra></extra>",
         "legendgroup": "",
         "marker": {
          "color": "#636efa",
          "symbol": "circle"
         },
         "mode": "markers",
         "name": "",
         "orientation": "v",
         "showlegend": false,
         "x": [
          18.660802841186523,
          16.748855590820312,
          16.490617752075195,
          -6.174476623535156,
          21.180557250976562,
          18.90936279296875,
          20.44514274597168,
          17.16119956970215,
          -25.92210578918457,
          10.64052677154541,
          12.690340042114258,
          21.646780014038086,
          19.862409591674805,
          18.005020141601562,
          19.4359130859375,
          -16.140825271606445,
          14.337824821472168,
          -16.878393173217773,
          20.3331298828125,
          -26.28466033935547,
          20.681474685668945,
          -18.13825798034668,
          -2.9168612957000732,
          3.243396759033203,
          20.93370246887207,
          20.58226776123047,
          -13.3186674118042,
          -12.221524238586426,
          4.288076877593994,
          -2.817499876022339,
          -12.20650863647461,
          -23.493013381958008,
          -9.028234481811523,
          -4.003350257873535,
          -23.410747528076172,
          16.291799545288086,
          -5.84856653213501,
          13.828719139099121,
          10.270182609558105,
          -0.5902550220489502,
          -3.0652639865875244,
          -11.885358810424805,
          13.24564266204834,
          8.439404487609863,
          18.84343719482422,
          4.245720863342285,
          9.660969734191895,
          3.125227689743042,
          17.82962989807129,
          6.127501010894775,
          -13.02780818939209,
          -26.542715072631836,
          20.99540901184082,
          13.101757049560547,
          -6.79272985458374,
          -25.469640731811523,
          5.415167808532715,
          12.685441017150879,
          -12.549588203430176,
          -26.876008987426758,
          20.09994888305664,
          3.2852540016174316,
          18.266504287719727,
          11.394893646240234,
          -18.868764877319336,
          4.529124736785889,
          -28.702054977416992,
          18.470115661621094,
          -15.488943099975586,
          -17.288423538208008,
          -2.863734006881714,
          -6.887088298797607,
          -7.176602840423584,
          22.368913650512695,
          17.932758331298828,
          -7.26377010345459,
          -8.170995712280273,
          6.430221080780029,
          -14.422809600830078,
          -24.530160903930664,
          -18.363733291625977,
          11.425942420959473,
          17.2501220703125,
          -8.402902603149414,
          20.69466209411621,
          2.9613516330718994,
          3.0880002975463867,
          -6.843353271484375,
          -6.029888153076172,
          -5.565809726715088,
          -13.391716003417969,
          -5.1340532302856445,
          5.059621334075928,
          0.9464041590690613,
          13.565587997436523,
          -26.017507553100586,
          17.269731521606445,
          -22.400249481201172,
          -22.134742736816406,
          -7.8810133934021,
          12.992693901062012,
          11.087512016296387,
          16.875734329223633,
          0.23423081636428833,
          -12.082408905029297,
          -11.103009223937988,
          14.323362350463867,
          11.583227157592773,
          17.130125045776367,
          9.452227592468262,
          -11.975937843322754,
          11.789743423461914,
          -3.792245626449585,
          -10.513964653015137,
          -9.518107414245605,
          -13.435754776000977,
          -14.792464256286621,
          -23.266965866088867,
          -7.020636081695557,
          -13.633851051330566,
          -9.902155876159668,
          -20.663928985595703,
          -12.75599479675293,
          18.793806076049805,
          -3.161146879196167,
          0.4181060194969177,
          -4.031580924987793,
          19.980087280273438,
          -27.36026954650879,
          -2.7812888622283936,
          -7.877945423126221,
          -21.829740524291992,
          -11.936432838439941,
          -16.7520809173584,
          -18.078882217407227,
          -18.87041473388672,
          -23.644670486450195,
          -27.29729652404785,
          -13.978272438049316,
          -24.237794876098633,
          -12.310664176940918,
          -7.558579921722412,
          -4.279687404632568,
          -5.98756742477417,
          -10.12057113647461,
          5.457973480224609,
          -17.83600616455078,
          -16.856342315673828,
          -17.255340576171875,
          -4.306652069091797,
          -10.95777416229248,
          -24.486881256103516,
          -8.603177070617676,
          -27.306034088134766,
          -22.54405403137207,
          7.9966912269592285,
          14.008792877197266,
          -8.73426628112793,
          16.148801803588867,
          11.201576232910156,
          15.340554237365723,
          -14.788036346435547,
          -10.298312187194824,
          6.698193550109863,
          17.933069229125977,
          11.323222160339355,
          15.935192108154297,
          -25.26482582092285,
          -19.785810470581055,
          -19.391681671142578,
          11.978048324584961,
          4.15665864944458,
          -27.41455078125,
          9.004708290100098,
          -22.047536849975586,
          15.111441612243652,
          -1.6127498149871826,
          -13.89597225189209,
          -21.97256851196289,
          -15.416897773742676,
          -13.4343900680542,
          1.164760708808899,
          -28.30501937866211,
          2.791196584701538,
          -24.39082908630371,
          -21.659326553344727,
          -18.12104606628418,
          -23.60930061340332,
          13.434746742248535,
          14.648543357849121,
          -3.8313839435577393,
          -13.076770782470703,
          -19.29859733581543,
          9.960916519165039,
          -17.959142684936523,
          -4.381463527679443,
          12.133273124694824,
          12.16810131072998,
          17.73646354675293,
          19.150413513183594,
          9.094877243041992,
          8.495911598205566,
          14.416522026062012,
          21.019847869873047,
          20.921937942504883,
          9.579238891601562,
          19.80658531188965,
          12.773226737976074,
          22.332439422607422,
          9.446300506591797,
          15.95138931274414,
          5.988377094268799,
          19.995779037475586,
          23.058914184570312,
          11.984859466552734,
          24.28851890563965,
          7.8314208984375,
          16.552900314331055,
          10.702750205993652,
          19.813756942749023,
          17.52275848388672,
          23.57628059387207,
          18.101116180419922,
          13.689903259277344,
          19.657896041870117,
          18.618743896484375,
          14.080777168273926,
          20.19189453125,
          21.731555938720703,
          17.686777114868164,
          14.008684158325195,
          22.701858520507812,
          15.41133975982666,
          21.59316635131836,
          15.77994441986084,
          21.909446716308594,
          18.82155418395996,
          15.899735450744629,
          19.381635665893555,
          12.379801750183105,
          12.666154861450195,
          15.354347229003906,
          16.54823112487793,
          19.3474063873291,
          23.69891929626465,
          11.086549758911133,
          18.932844161987305,
          17.82307243347168,
          18.062780380249023,
          18.109092712402344,
          20.518142700195312,
          6.176346302032471,
          17.354570388793945,
          15.018492698669434,
          14.84995174407959,
          14.523259162902832,
          19.251487731933594,
          19.315393447875977,
          12.229660987854004,
          12.335783958435059,
          19.91883087158203,
          18.178024291992188,
          15.978139877319336,
          20.408496856689453,
          11.250697135925293,
          14.759891510009766,
          10.32784652709961,
          14.974906921386719,
          10.743046760559082,
          17.323768615722656,
          18.688894271850586,
          21.185895919799805,
          22.51741600036621,
          -3.065126419067383,
          -23.49595069885254,
          -22.377670288085938,
          -4.946890830993652,
          -0.2955595850944519,
          -6.791015625,
          19.41973304748535,
          -23.373069763183594,
          19.20196533203125,
          -1.5684715509414673,
          -2.434448003768921,
          0.06605050712823868,
          -3.1494245529174805,
          -17.86037826538086,
          -4.725924968719482,
          -11.529815673828125,
          -2.6604068279266357,
          -24.013086318969727,
          -20.78826904296875,
          -19.793607711791992,
          12.282584190368652,
          8.52563190460205,
          15.23831844329834,
          7.68348503112793,
          14.969077110290527,
          14.459576606750488,
          4.793498516082764,
          16.314990997314453,
          9.377382278442383,
          13.805170059204102,
          13.31461238861084,
          8.544496536254883,
          12.295469284057617,
          9.368866920471191,
          7.76893949508667,
          5.775227069854736,
          10.748720169067383,
          2.5494189262390137,
          9.055488586425781,
          6.313064098358154,
          5.532402515411377,
          6.8798933029174805,
          11.781476020812988,
          5.516005039215088,
          5.5846734046936035,
          6.631540775299072,
          7.404821872711182,
          5.137336730957031,
          6.126623153686523,
          6.80247163772583,
          7.549647808074951,
          8.765286445617676,
          1.3829278945922852,
          5.001883029937744,
          4.821970462799072,
          4.299121856689453,
          4.88277006149292,
          5.908810615539551,
          8.681975364685059,
          8.749754905700684,
          3.844717502593994,
          14.606192588806152,
          17.35761070251465,
          7.317933082580566,
          3.881300926208496,
          1.923583984375,
          3.0668656826019287,
          14.601266860961914,
          15.216935157775879,
          -27.628772735595703,
          6.654993057250977,
          -20.538747787475586,
          -28.415681838989258,
          11.98344612121582,
          18.884235382080078,
          -22.345056533813477,
          7.533853054046631,
          -21.183757781982422,
          7.625858783721924,
          -22.790210723876953,
          9.319112777709961,
          -4.968477725982666,
          -23.28462028503418,
          -7.3893537521362305,
          9.6815185546875,
          -15.730424880981445,
          -26.25994300842285,
          -8.570679664611816,
          -20.449993133544922,
          -23.10904884338379,
          -25.02720069885254,
          -21.886505126953125,
          16.288942337036133,
          -16.43654441833496,
          -21.0914363861084,
          -8.059870719909668,
          -19.757558822631836,
          21.03118133544922,
          -3.934156894683838,
          -17.07806396484375,
          20.286399841308594,
          -18.96552848815918,
          -19.693058013916016,
          12.52599048614502,
          -3.5040035247802734,
          -24.352964401245117,
          18.789138793945312,
          -6.365890026092529,
          -3.283151149749756,
          -5.281650066375732,
          -18.885639190673828,
          -15.698166847229004,
          -12.541792869567871,
          -23.267913818359375,
          -8.718948364257812,
          -15.26298999786377,
          -13.93093490600586,
          -9.716108322143555,
          -24.02586555480957,
          -25.7264347076416,
          -2.9634816646575928,
          -13.432539939880371,
          -14.368880271911621,
          15.888996124267578,
          -6.719689846038818,
          -7.9173102378845215,
          -15.442412376403809,
          -18.084861755371094,
          -1.729252815246582,
          -7.813594341278076,
          -7.716658592224121,
          -8.192441940307617,
          -18.57282066345215,
          -2.636052370071411,
          10.42141342163086,
          19.860706329345703,
          -16.324968338012695,
          -17.996564865112305,
          -17.148042678833008,
          -28.342226028442383,
          -0.08213632553815842,
          -8.745985984802246,
          17.537113189697266,
          12.846173286437988,
          -27.182077407836914,
          10.395079612731934,
          -17.280431747436523,
          -27.90826988220215,
          19.821157455444336,
          -7.443968296051025,
          21.331724166870117,
          20.599531173706055,
          -0.6181023716926575,
          -26.764005661010742,
          -0.7380011081695557,
          -24.264978408813477,
          -15.691288948059082,
          -26.17704200744629,
          -1.0081225633621216,
          -9.214239120483398,
          -23.52928352355957,
          -11.344579696655273,
          -0.8033725619316101,
          -2.774500608444214,
          5.930146217346191,
          -15.370463371276855,
          -23.73641586303711
         ],
         "xaxis": "x",
         "y": [
          -29.873289108276367,
          -30.29339599609375,
          -27.954299926757812,
          7.901383399963379,
          -27.178943634033203,
          -30.344783782958984,
          -31.305208206176758,
          -31.07512664794922,
          14.055514335632324,
          -29.005752563476562,
          -33.42778778076172,
          -31.161466598510742,
          -25.880916595458984,
          -26.728591918945312,
          -26.425399780273438,
          9.05530071258545,
          -31.703927993774414,
          2.9140079021453857,
          -27.781503677368164,
          15.09604263305664,
          -29.113903045654297,
          12.665307998657227,
          4.066788673400879,
          -21.39009666442871,
          -26.64667510986328,
          -30.720752716064453,
          9.381786346435547,
          12.48406982421875,
          -23.1895694732666,
          -0.5344304442405701,
          3.2892022132873535,
          12.559540748596191,
          13.721404075622559,
          2.4770236015319824,
          8.493995666503906,
          -33.55060577392578,
          1.6480650901794434,
          -28.36984634399414,
          -29.51116943359375,
          0.9815816879272461,
          4.170137882232666,
          3.534950017929077,
          -29.129138946533203,
          -30.061769485473633,
          -31.712608337402344,
          -23.073545455932617,
          -29.00568389892578,
          -25.696718215942383,
          -29.410289764404297,
          -26.870708465576172,
          6.900259971618652,
          13.905365943908691,
          -24.60764503479004,
          -31.376585006713867,
          12.733540534973145,
          13.710585594177246,
          -26.097387313842773,
          -30.5130615234375,
          12.842748641967773,
          15.462392807006836,
          -32.1852912902832,
          -26.056745529174805,
          -32.29314422607422,
          -28.547616958618164,
          13.378765106201172,
          -26.83835792541504,
          14.595735549926758,
          -27.2060546875,
          0.8552430868148804,
          10.207136154174805,
          7.333136558532715,
          -3.790142059326172,
          5.509222030639648,
          -29.08906364440918,
          -30.717525482177734,
          10.871710777282715,
          5.212109565734863,
          -28.146259307861328,
          10.838617324829102,
          11.49831485748291,
          8.458828926086426,
          -31.170637130737305,
          -29.786075592041016,
          12.185624122619629,
          -31.676334381103516,
          -26.68397331237793,
          -25.235509872436523,
          -3.7530837059020996,
          5.947124004364014,
          2.2961678504943848,
          9.907940864562988,
          6.994715690612793,
          -25.844301223754883,
          7.659233093261719,
          -30.730384826660156,
          9.945361137390137,
          -34.139793395996094,
          6.948846817016602,
          7.034992694854736,
          7.204972267150879,
          -27.84499168395996,
          -30.14027214050293,
          -32.346492767333984,
          1.7292735576629639,
          13.733323097229004,
          11.947023391723633,
          -32.842247009277344,
          -28.789302825927734,
          -32.898841857910156,
          -29.612424850463867,
          9.10766887664795,
          -28.253604888916016,
          6.094233512878418,
          9.602919578552246,
          11.610337257385254,
          10.243120193481445,
          11.761317253112793,
          13.843497276306152,
          10.082345008850098,
          8.595205307006836,
          11.411284446716309,
          12.042915344238281,
          10.697985649108887,
          -30.8990535736084,
          1.0133346319198608,
          1.3572349548339844,
          7.091975688934326,
          -27.46086883544922,
          12.134608268737793,
          -0.19010740518569946,
          6.643824100494385,
          7.565952301025391,
          13.344721794128418,
          9.396923065185547,
          9.19476318359375,
          9.330024719238281,
          17.06661605834961,
          12.875631332397461,
          3.7787234783172607,
          13.126551628112793,
          3.567018747329712,
          0.5515726208686829,
          0.5410191416740417,
          6.544754981994629,
          13.759638786315918,
          -28.504261016845703,
          9.423599243164062,
          10.92572021484375,
          13.111098289489746,
          -0.56704181432724,
          12.506241798400879,
          10.832387924194336,
          11.2825345993042,
          11.236483573913574,
          6.452183246612549,
          -29.15169334411621,
          -33.21739196777344,
          10.91447639465332,
          -32.32575988769531,
          -31.555578231811523,
          -33.215789794921875,
          6.451531410217285,
          10.884520530700684,
          -27.667325973510742,
          -32.40430450439453,
          -27.495777130126953,
          -31.229568481445312,
          12.259546279907227,
          9.645051956176758,
          11.454903602600098,
          -31.450040817260742,
          -22.960468292236328,
          14.337064743041992,
          -30.900882720947266,
          12.420260429382324,
          -31.987028121948242,
          1.0599393844604492,
          3.503648281097412,
          15.12285041809082,
          1.194312572479248,
          3.4790706634521484,
          0.8482952117919922,
          16.60807228088379,
          -20.610841751098633,
          7.287922382354736,
          14.817317008972168,
          13.495174407958984,
          17.228271484375,
          -29.64241600036621,
          -30.948017120361328,
          8.17383098602295,
          12.556927680969238,
          8.604355812072754,
          -32.76958084106445,
          8.087236404418945,
          7.886890411376953,
          6.994232654571533,
          -20.909635543823242,
          8.12609577178955,
          9.665282249450684,
          -22.627946853637695,
          -23.062536239624023,
          6.95103120803833,
          7.7869696617126465,
          8.466176986694336,
          -22.354883193969727,
          8.684462547302246,
          -20.57756805419922,
          8.015131950378418,
          -22.804855346679688,
          9.770822525024414,
          -24.529497146606445,
          9.492413520812988,
          8.569437980651855,
          -21.167490005493164,
          8.70119571685791,
          -23.375572204589844,
          9.848257064819336,
          -20.29420280456543,
          7.748611927032471,
          9.823729515075684,
          8.655438423156738,
          5.466959476470947,
          -19.46892547607422,
          9.06253719329834,
          10.301870346069336,
          -20.761932373046875,
          8.115921020507812,
          6.957124710083008,
          6.091664791107178,
          -19.186960220336914,
          9.838417053222656,
          11.075359344482422,
          9.089338302612305,
          8.307825088500977,
          9.323126792907715,
          8.335458755493164,
          8.948773384094238,
          8.534689903259277,
          10.742110252380371,
          7.089237213134766,
          10.427703857421875,
          9.271790504455566,
          11.229058265686035,
          8.912083625793457,
          -21.07113265991211,
          9.082030296325684,
          9.364702224731445,
          10.850054740905762,
          6.223299026489258,
          8.5603609085083,
          -24.3374080657959,
          5.662100315093994,
          12.11773681640625,
          5.377833843231201,
          10.637510299682617,
          10.562983512878418,
          6.004880428314209,
          10.714276313781738,
          10.822369575500488,
          10.308910369873047,
          5.781889915466309,
          10.776484489440918,
          6.3154473304748535,
          -21.526124954223633,
          5.1615729331970215,
          -21.3491268157959,
          8.560127258300781,
          -21.96160888671875,
          9.440667152404785,
          6.335083961486816,
          9.693164825439453,
          9.828266143798828,
          0.9351438283920288,
          9.770333290100098,
          7.989033222198486,
          2.2587361335754395,
          8.794217109680176,
          7.768285274505615,
          -28.510438919067383,
          10.719273567199707,
          -29.66495132446289,
          0.6057817339897156,
          6.211071968078613,
          0.9068116545677185,
          -0.9657551050186157,
          10.670995712280273,
          7.095277786254883,
          12.938958168029785,
          -0.9545606374740601,
          10.455626487731934,
          12.765953063964844,
          13.769935607910156,
          -24.074520111083984,
          13.206145286560059,
          -22.953533172607422,
          12.900650978088379,
          -23.002099990844727,
          -23.09943199157715,
          15.828076362609863,
          -23.4499454498291,
          -25.114578247070312,
          -23.242259979248047,
          -23.3264217376709,
          -26.382709503173828,
          -24.21906852722168,
          -25.192304611206055,
          13.469503402709961,
          15.200804710388184,
          -24.909364700317383,
          10.493797302246094,
          11.993843078613281,
          -30.31063461303711,
          13.253607749938965,
          14.76118278503418,
          -24.65606117248535,
          14.386364936828613,
          15.970309257507324,
          13.848005294799805,
          -25.295671463012695,
          15.776298522949219,
          14.267236709594727,
          12.93272590637207,
          15.051807403564453,
          12.477582931518555,
          7.253585338592529,
          14.278833389282227,
          15.782108306884766,
          11.482179641723633,
          13.387222290039062,
          13.746777534484863,
          -25.20266342163086,
          12.905755996704102,
          -27.392913818359375,
          -18.534557342529297,
          -24.036052703857422,
          13.869610786437988,
          11.476948738098145,
          10.048619270324707,
          10.938241958618164,
          -33.73521041870117,
          -32.661075592041016,
          14.887313842773438,
          -29.49148941040039,
          10.828327178955078,
          14.79843807220459,
          -32.38155746459961,
          -26.431331634521484,
          10.373332023620605,
          -28.08103370666504,
          10.497401237487793,
          -29.012754440307617,
          7.675396919250488,
          -31.455366134643555,
          8.697114944458008,
          7.115242958068848,
          11.845460891723633,
          -32.83385467529297,
          -0.4638626277446747,
          11.229608535766602,
          11.743860244750977,
          9.126585006713867,
          9.001664161682129,
          8.148327827453613,
          8.832010269165039,
          -31.384971618652344,
          10.261763572692871,
          8.98409652709961,
          12.641135215759277,
          9.169563293457031,
          -24.60332679748535,
          6.947406768798828,
          2.9526824951171875,
          -28.439355850219727,
          10.172776222229004,
          8.400014877319336,
          -33.769554138183594,
          -0.31781205534935,
          10.222790718078613,
          -33.57733917236328,
          12.084611892700195,
          7.339417934417725,
          1.1251802444458008,
          14.066012382507324,
          -0.7641581892967224,
          9.821334838867188,
          12.001618385314941,
          12.484055519104004,
          10.516303062438965,
          9.427112579345703,
          6.367713928222656,
          10.929357528686523,
          10.767172813415527,
          6.308341979980469,
          11.826835632324219,
          9.866401672363281,
          -30.055198669433594,
          7.155367851257324,
          7.62087345123291,
          10.446503639221191,
          13.069619178771973,
          6.26217794418335,
          14.226727485656738,
          0.5695861577987671,
          9.850987434387207,
          10.80028247833252,
          5.974143981933594,
          -28.531003952026367,
          -32.07625198364258,
          2.9913923740386963,
          5.915093898773193,
          2.933412790298462,
          15.424891471862793,
          8.410890579223633,
          6.451023101806641,
          -31.112300872802734,
          -30.627578735351562,
          15.848880767822266,
          -31.26526641845703,
          6.368341445922852,
          16.749969482421875,
          -28.886310577392578,
          13.572188377380371,
          -30.290977478027344,
          -30.072595596313477,
          8.398677825927734,
          17.775522232055664,
          5.142525672912598,
          13.972537994384766,
          5.60793399810791,
          16.387351989746094,
          8.342432975769043,
          14.080647468566895,
          11.286712646484375,
          14.994540214538574,
          5.051643371582031,
          0.6344037055969238,
          -27.784940719604492,
          5.995601654052734,
          7.8949294090271
         ],
         "yaxis": "y",
         "type": "scatter"
        },
        {
         "x": [
          10.099340438842773,
          17.373207092285156,
          -9.751934051513672
         ],
         "y": [
          -27.84722328186035,
          8.243987083435059,
          9.247664451599121
         ],
         "type": "scatter"
        }
       ],
       "layout": {
        "template": {
         "data": {
          "histogram2dcontour": [
           {
            "type": "histogram2dcontour",
            "colorbar": {
             "outlinewidth": 0,
             "ticks": ""
            },
            "colorscale": [
             [
              0.0,
              "#0d0887"
             ],
             [
              0.1111111111111111,
              "#46039f"
             ],
             [
              0.2222222222222222,
              "#7201a8"
             ],
             [
              0.3333333333333333,
              "#9c179e"
             ],
             [
              0.4444444444444444,
              "#bd3786"
             ],
             [
              0.5555555555555556,
              "#d8576b"
             ],
             [
              0.6666666666666666,
              "#ed7953"
             ],
             [
              0.7777777777777778,
              "#fb9f3a"
             ],
             [
              0.8888888888888888,
              "#fdca26"
             ],
             [
              1.0,
              "#f0f921"
             ]
            ]
           }
          ],
          "choropleth": [
           {
            "type": "choropleth",
            "colorbar": {
             "outlinewidth": 0,
             "ticks": ""
            }
           }
          ],
          "histogram2d": [
           {
            "type": "histogram2d",
            "colorbar": {
             "outlinewidth": 0,
             "ticks": ""
            },
            "colorscale": [
             [
              0.0,
              "#0d0887"
             ],
             [
              0.1111111111111111,
              "#46039f"
             ],
             [
              0.2222222222222222,
              "#7201a8"
             ],
             [
              0.3333333333333333,
              "#9c179e"
             ],
             [
              0.4444444444444444,
              "#bd3786"
             ],
             [
              0.5555555555555556,
              "#d8576b"
             ],
             [
              0.6666666666666666,
              "#ed7953"
             ],
             [
              0.7777777777777778,
              "#fb9f3a"
             ],
             [
              0.8888888888888888,
              "#fdca26"
             ],
             [
              1.0,
              "#f0f921"
             ]
            ]
           }
          ],
          "heatmap": [
           {
            "type": "heatmap",
            "colorbar": {
             "outlinewidth": 0,
             "ticks": ""
            },
            "colorscale": [
             [
              0.0,
              "#0d0887"
             ],
             [
              0.1111111111111111,
              "#46039f"
             ],
             [
              0.2222222222222222,
              "#7201a8"
             ],
             [
              0.3333333333333333,
              "#9c179e"
             ],
             [
              0.4444444444444444,
              "#bd3786"
             ],
             [
              0.5555555555555556,
              "#d8576b"
             ],
             [
              0.6666666666666666,
              "#ed7953"
             ],
             [
              0.7777777777777778,
              "#fb9f3a"
             ],
             [
              0.8888888888888888,
              "#fdca26"
             ],
             [
              1.0,
              "#f0f921"
             ]
            ]
           }
          ],
          "heatmapgl": [
           {
            "type": "heatmapgl",
            "colorbar": {
             "outlinewidth": 0,
             "ticks": ""
            },
            "colorscale": [
             [
              0.0,
              "#0d0887"
             ],
             [
              0.1111111111111111,
              "#46039f"
             ],
             [
              0.2222222222222222,
              "#7201a8"
             ],
             [
              0.3333333333333333,
              "#9c179e"
             ],
             [
              0.4444444444444444,
              "#bd3786"
             ],
             [
              0.5555555555555556,
              "#d8576b"
             ],
             [
              0.6666666666666666,
              "#ed7953"
             ],
             [
              0.7777777777777778,
              "#fb9f3a"
             ],
             [
              0.8888888888888888,
              "#fdca26"
             ],
             [
              1.0,
              "#f0f921"
             ]
            ]
           }
          ],
          "contourcarpet": [
           {
            "type": "contourcarpet",
            "colorbar": {
             "outlinewidth": 0,
             "ticks": ""
            }
           }
          ],
          "contour": [
           {
            "type": "contour",
            "colorbar": {
             "outlinewidth": 0,
             "ticks": ""
            },
            "colorscale": [
             [
              0.0,
              "#0d0887"
             ],
             [
              0.1111111111111111,
              "#46039f"
             ],
             [
              0.2222222222222222,
              "#7201a8"
             ],
             [
              0.3333333333333333,
              "#9c179e"
             ],
             [
              0.4444444444444444,
              "#bd3786"
             ],
             [
              0.5555555555555556,
              "#d8576b"
             ],
             [
              0.6666666666666666,
              "#ed7953"
             ],
             [
              0.7777777777777778,
              "#fb9f3a"
             ],
             [
              0.8888888888888888,
              "#fdca26"
             ],
             [
              1.0,
              "#f0f921"
             ]
            ]
           }
          ],
          "surface": [
           {
            "type": "surface",
            "colorbar": {
             "outlinewidth": 0,
             "ticks": ""
            },
            "colorscale": [
             [
              0.0,
              "#0d0887"
             ],
             [
              0.1111111111111111,
              "#46039f"
             ],
             [
              0.2222222222222222,
              "#7201a8"
             ],
             [
              0.3333333333333333,
              "#9c179e"
             ],
             [
              0.4444444444444444,
              "#bd3786"
             ],
             [
              0.5555555555555556,
              "#d8576b"
             ],
             [
              0.6666666666666666,
              "#ed7953"
             ],
             [
              0.7777777777777778,
              "#fb9f3a"
             ],
             [
              0.8888888888888888,
              "#fdca26"
             ],
             [
              1.0,
              "#f0f921"
             ]
            ]
           }
          ],
          "mesh3d": [
           {
            "type": "mesh3d",
            "colorbar": {
             "outlinewidth": 0,
             "ticks": ""
            }
           }
          ],
          "scatter": [
           {
            "marker": {
             "line": {
              "color": "#283442"
             }
            },
            "type": "scatter"
           }
          ],
          "parcoords": [
           {
            "type": "parcoords",
            "line": {
             "colorbar": {
              "outlinewidth": 0,
              "ticks": ""
             }
            }
           }
          ],
          "scatterpolargl": [
           {
            "type": "scatterpolargl",
            "marker": {
             "colorbar": {
              "outlinewidth": 0,
              "ticks": ""
             }
            }
           }
          ],
          "bar": [
           {
            "error_x": {
             "color": "#f2f5fa"
            },
            "error_y": {
             "color": "#f2f5fa"
            },
            "marker": {
             "line": {
              "color": "rgb(17,17,17)",
              "width": 0.5
             },
             "pattern": {
              "fillmode": "overlay",
              "size": 10,
              "solidity": 0.2
             }
            },
            "type": "bar"
           }
          ],
          "scattergeo": [
           {
            "type": "scattergeo",
            "marker": {
             "colorbar": {
              "outlinewidth": 0,
              "ticks": ""
             }
            }
           }
          ],
          "scatterpolar": [
           {
            "type": "scatterpolar",
            "marker": {
             "colorbar": {
              "outlinewidth": 0,
              "ticks": ""
             }
            }
           }
          ],
          "histogram": [
           {
            "marker": {
             "pattern": {
              "fillmode": "overlay",
              "size": 10,
              "solidity": 0.2
             }
            },
            "type": "histogram"
           }
          ],
          "scattergl": [
           {
            "marker": {
             "line": {
              "color": "#283442"
             }
            },
            "type": "scattergl"
           }
          ],
          "scatter3d": [
           {
            "type": "scatter3d",
            "line": {
             "colorbar": {
              "outlinewidth": 0,
              "ticks": ""
             }
            },
            "marker": {
             "colorbar": {
              "outlinewidth": 0,
              "ticks": ""
             }
            }
           }
          ],
          "scattermapbox": [
           {
            "type": "scattermapbox",
            "marker": {
             "colorbar": {
              "outlinewidth": 0,
              "ticks": ""
             }
            }
           }
          ],
          "scatterternary": [
           {
            "type": "scatterternary",
            "marker": {
             "colorbar": {
              "outlinewidth": 0,
              "ticks": ""
             }
            }
           }
          ],
          "scattercarpet": [
           {
            "type": "scattercarpet",
            "marker": {
             "colorbar": {
              "outlinewidth": 0,
              "ticks": ""
             }
            }
           }
          ],
          "carpet": [
           {
            "aaxis": {
             "endlinecolor": "#A2B1C6",
             "gridcolor": "#506784",
             "linecolor": "#506784",
             "minorgridcolor": "#506784",
             "startlinecolor": "#A2B1C6"
            },
            "baxis": {
             "endlinecolor": "#A2B1C6",
             "gridcolor": "#506784",
             "linecolor": "#506784",
             "minorgridcolor": "#506784",
             "startlinecolor": "#A2B1C6"
            },
            "type": "carpet"
           }
          ],
          "table": [
           {
            "cells": {
             "fill": {
              "color": "#506784"
             },
             "line": {
              "color": "rgb(17,17,17)"
             }
            },
            "header": {
             "fill": {
              "color": "#2a3f5f"
             },
             "line": {
              "color": "rgb(17,17,17)"
             }
            },
            "type": "table"
           }
          ],
          "barpolar": [
           {
            "marker": {
             "line": {
              "color": "rgb(17,17,17)",
              "width": 0.5
             },
             "pattern": {
              "fillmode": "overlay",
              "size": 10,
              "solidity": 0.2
             }
            },
            "type": "barpolar"
           }
          ],
          "pie": [
           {
            "automargin": true,
            "type": "pie"
           }
          ]
         },
         "layout": {
          "autotypenumbers": "strict",
          "colorway": [
           "#636efa",
           "#EF553B",
           "#00cc96",
           "#ab63fa",
           "#FFA15A",
           "#19d3f3",
           "#FF6692",
           "#B6E880",
           "#FF97FF",
           "#FECB52"
          ],
          "font": {
           "color": "#f2f5fa"
          },
          "hovermode": "closest",
          "hoverlabel": {
           "align": "left"
          },
          "paper_bgcolor": "rgb(17,17,17)",
          "plot_bgcolor": "rgb(17,17,17)",
          "polar": {
           "bgcolor": "rgb(17,17,17)",
           "angularaxis": {
            "gridcolor": "#506784",
            "linecolor": "#506784",
            "ticks": ""
           },
           "radialaxis": {
            "gridcolor": "#506784",
            "linecolor": "#506784",
            "ticks": ""
           }
          },
          "ternary": {
           "bgcolor": "rgb(17,17,17)",
           "aaxis": {
            "gridcolor": "#506784",
            "linecolor": "#506784",
            "ticks": ""
           },
           "baxis": {
            "gridcolor": "#506784",
            "linecolor": "#506784",
            "ticks": ""
           },
           "caxis": {
            "gridcolor": "#506784",
            "linecolor": "#506784",
            "ticks": ""
           }
          },
          "coloraxis": {
           "colorbar": {
            "outlinewidth": 0,
            "ticks": ""
           }
          },
          "colorscale": {
           "sequential": [
            [
             0.0,
             "#0d0887"
            ],
            [
             0.1111111111111111,
             "#46039f"
            ],
            [
             0.2222222222222222,
             "#7201a8"
            ],
            [
             0.3333333333333333,
             "#9c179e"
            ],
            [
             0.4444444444444444,
             "#bd3786"
            ],
            [
             0.5555555555555556,
             "#d8576b"
            ],
            [
             0.6666666666666666,
             "#ed7953"
            ],
            [
             0.7777777777777778,
             "#fb9f3a"
            ],
            [
             0.8888888888888888,
             "#fdca26"
            ],
            [
             1.0,
             "#f0f921"
            ]
           ],
           "sequentialminus": [
            [
             0.0,
             "#0d0887"
            ],
            [
             0.1111111111111111,
             "#46039f"
            ],
            [
             0.2222222222222222,
             "#7201a8"
            ],
            [
             0.3333333333333333,
             "#9c179e"
            ],
            [
             0.4444444444444444,
             "#bd3786"
            ],
            [
             0.5555555555555556,
             "#d8576b"
            ],
            [
             0.6666666666666666,
             "#ed7953"
            ],
            [
             0.7777777777777778,
             "#fb9f3a"
            ],
            [
             0.8888888888888888,
             "#fdca26"
            ],
            [
             1.0,
             "#f0f921"
            ]
           ],
           "diverging": [
            [
             0,
             "#8e0152"
            ],
            [
             0.1,
             "#c51b7d"
            ],
            [
             0.2,
             "#de77ae"
            ],
            [
             0.3,
             "#f1b6da"
            ],
            [
             0.4,
             "#fde0ef"
            ],
            [
             0.5,
             "#f7f7f7"
            ],
            [
             0.6,
             "#e6f5d0"
            ],
            [
             0.7,
             "#b8e186"
            ],
            [
             0.8,
             "#7fbc41"
            ],
            [
             0.9,
             "#4d9221"
            ],
            [
             1,
             "#276419"
            ]
           ]
          },
          "xaxis": {
           "gridcolor": "#283442",
           "linecolor": "#506784",
           "ticks": "",
           "title": {
            "standoff": 15
           },
           "zerolinecolor": "#283442",
           "automargin": true,
           "zerolinewidth": 2
          },
          "yaxis": {
           "gridcolor": "#283442",
           "linecolor": "#506784",
           "ticks": "",
           "title": {
            "standoff": 15
           },
           "zerolinecolor": "#283442",
           "automargin": true,
           "zerolinewidth": 2
          },
          "scene": {
           "xaxis": {
            "backgroundcolor": "rgb(17,17,17)",
            "gridcolor": "#506784",
            "linecolor": "#506784",
            "showbackground": true,
            "ticks": "",
            "zerolinecolor": "#C8D4E3",
            "gridwidth": 2
           },
           "yaxis": {
            "backgroundcolor": "rgb(17,17,17)",
            "gridcolor": "#506784",
            "linecolor": "#506784",
            "showbackground": true,
            "ticks": "",
            "zerolinecolor": "#C8D4E3",
            "gridwidth": 2
           },
           "zaxis": {
            "backgroundcolor": "rgb(17,17,17)",
            "gridcolor": "#506784",
            "linecolor": "#506784",
            "showbackground": true,
            "ticks": "",
            "zerolinecolor": "#C8D4E3",
            "gridwidth": 2
           }
          },
          "shapedefaults": {
           "line": {
            "color": "#f2f5fa"
           }
          },
          "annotationdefaults": {
           "arrowcolor": "#f2f5fa",
           "arrowhead": 0,
           "arrowwidth": 1
          },
          "geo": {
           "bgcolor": "rgb(17,17,17)",
           "landcolor": "rgb(17,17,17)",
           "subunitcolor": "#506784",
           "showland": true,
           "showlakes": true,
           "lakecolor": "rgb(17,17,17)"
          },
          "title": {
           "x": 0.05
          },
          "updatemenudefaults": {
           "bgcolor": "#506784",
           "borderwidth": 0
          },
          "sliderdefaults": {
           "bgcolor": "#C8D4E3",
           "borderwidth": 1,
           "bordercolor": "rgb(17,17,17)",
           "tickwidth": 0
          },
          "mapbox": {
           "style": "dark"
          }
         }
        },
        "xaxis": {
         "anchor": "y",
         "domain": [
          0.0,
          1.0
         ],
         "title": {
          "text": "0"
         }
        },
        "yaxis": {
         "anchor": "x",
         "domain": [
          0.0,
          1.0
         ],
         "title": {
          "text": "1"
         }
        },
        "legend": {
         "tracegroupgap": 0
        },
        "margin": {
         "t": 60
        }
       },
       "config": {
        "plotlyServerURL": "https://plot.ly"
       }
      },
      "text/html": "<div>                            <div id=\"ee464449-6feb-47e6-8a8e-7e95407d4a05\" class=\"plotly-graph-div\" style=\"height:525px; width:100%;\"></div>            <script type=\"text/javascript\">                require([\"plotly\"], function(Plotly) {                    window.PLOTLYENV=window.PLOTLYENV || {};                                    if (document.getElementById(\"ee464449-6feb-47e6-8a8e-7e95407d4a05\")) {                    Plotly.newPlot(                        \"ee464449-6feb-47e6-8a8e-7e95407d4a05\",                        [{\"hovertemplate\":\"0=%{x}<br>1=%{y}<extra></extra>\",\"legendgroup\":\"\",\"marker\":{\"color\":\"#636efa\",\"symbol\":\"circle\"},\"mode\":\"markers\",\"name\":\"\",\"orientation\":\"v\",\"showlegend\":false,\"x\":[18.660802841186523,16.748855590820312,16.490617752075195,-6.174476623535156,21.180557250976562,18.90936279296875,20.44514274597168,17.16119956970215,-25.92210578918457,10.64052677154541,12.690340042114258,21.646780014038086,19.862409591674805,18.005020141601562,19.4359130859375,-16.140825271606445,14.337824821472168,-16.878393173217773,20.3331298828125,-26.28466033935547,20.681474685668945,-18.13825798034668,-2.9168612957000732,3.243396759033203,20.93370246887207,20.58226776123047,-13.3186674118042,-12.221524238586426,4.288076877593994,-2.817499876022339,-12.20650863647461,-23.493013381958008,-9.028234481811523,-4.003350257873535,-23.410747528076172,16.291799545288086,-5.84856653213501,13.828719139099121,10.270182609558105,-0.5902550220489502,-3.0652639865875244,-11.885358810424805,13.24564266204834,8.439404487609863,18.84343719482422,4.245720863342285,9.660969734191895,3.125227689743042,17.82962989807129,6.127501010894775,-13.02780818939209,-26.542715072631836,20.99540901184082,13.101757049560547,-6.79272985458374,-25.469640731811523,5.415167808532715,12.685441017150879,-12.549588203430176,-26.876008987426758,20.09994888305664,3.2852540016174316,18.266504287719727,11.394893646240234,-18.868764877319336,4.529124736785889,-28.702054977416992,18.470115661621094,-15.488943099975586,-17.288423538208008,-2.863734006881714,-6.887088298797607,-7.176602840423584,22.368913650512695,17.932758331298828,-7.26377010345459,-8.170995712280273,6.430221080780029,-14.422809600830078,-24.530160903930664,-18.363733291625977,11.425942420959473,17.2501220703125,-8.402902603149414,20.69466209411621,2.9613516330718994,3.0880002975463867,-6.843353271484375,-6.029888153076172,-5.565809726715088,-13.391716003417969,-5.1340532302856445,5.059621334075928,0.9464041590690613,13.565587997436523,-26.017507553100586,17.269731521606445,-22.400249481201172,-22.134742736816406,-7.8810133934021,12.992693901062012,11.087512016296387,16.875734329223633,0.23423081636428833,-12.082408905029297,-11.103009223937988,14.323362350463867,11.583227157592773,17.130125045776367,9.452227592468262,-11.975937843322754,11.789743423461914,-3.792245626449585,-10.513964653015137,-9.518107414245605,-13.435754776000977,-14.792464256286621,-23.266965866088867,-7.020636081695557,-13.633851051330566,-9.902155876159668,-20.663928985595703,-12.75599479675293,18.793806076049805,-3.161146879196167,0.4181060194969177,-4.031580924987793,19.980087280273438,-27.36026954650879,-2.7812888622283936,-7.877945423126221,-21.829740524291992,-11.936432838439941,-16.7520809173584,-18.078882217407227,-18.87041473388672,-23.644670486450195,-27.29729652404785,-13.978272438049316,-24.237794876098633,-12.310664176940918,-7.558579921722412,-4.279687404632568,-5.98756742477417,-10.12057113647461,5.457973480224609,-17.83600616455078,-16.856342315673828,-17.255340576171875,-4.306652069091797,-10.95777416229248,-24.486881256103516,-8.603177070617676,-27.306034088134766,-22.54405403137207,7.9966912269592285,14.008792877197266,-8.73426628112793,16.148801803588867,11.201576232910156,15.340554237365723,-14.788036346435547,-10.298312187194824,6.698193550109863,17.933069229125977,11.323222160339355,15.935192108154297,-25.26482582092285,-19.785810470581055,-19.391681671142578,11.978048324584961,4.15665864944458,-27.41455078125,9.004708290100098,-22.047536849975586,15.111441612243652,-1.6127498149871826,-13.89597225189209,-21.97256851196289,-15.416897773742676,-13.4343900680542,1.164760708808899,-28.30501937866211,2.791196584701538,-24.39082908630371,-21.659326553344727,-18.12104606628418,-23.60930061340332,13.434746742248535,14.648543357849121,-3.8313839435577393,-13.076770782470703,-19.29859733581543,9.960916519165039,-17.959142684936523,-4.381463527679443,12.133273124694824,12.16810131072998,17.73646354675293,19.150413513183594,9.094877243041992,8.495911598205566,14.416522026062012,21.019847869873047,20.921937942504883,9.579238891601562,19.80658531188965,12.773226737976074,22.332439422607422,9.446300506591797,15.95138931274414,5.988377094268799,19.995779037475586,23.058914184570312,11.984859466552734,24.28851890563965,7.8314208984375,16.552900314331055,10.702750205993652,19.813756942749023,17.52275848388672,23.57628059387207,18.101116180419922,13.689903259277344,19.657896041870117,18.618743896484375,14.080777168273926,20.19189453125,21.731555938720703,17.686777114868164,14.008684158325195,22.701858520507812,15.41133975982666,21.59316635131836,15.77994441986084,21.909446716308594,18.82155418395996,15.899735450744629,19.381635665893555,12.379801750183105,12.666154861450195,15.354347229003906,16.54823112487793,19.3474063873291,23.69891929626465,11.086549758911133,18.932844161987305,17.82307243347168,18.062780380249023,18.109092712402344,20.518142700195312,6.176346302032471,17.354570388793945,15.018492698669434,14.84995174407959,14.523259162902832,19.251487731933594,19.315393447875977,12.229660987854004,12.335783958435059,19.91883087158203,18.178024291992188,15.978139877319336,20.408496856689453,11.250697135925293,14.759891510009766,10.32784652709961,14.974906921386719,10.743046760559082,17.323768615722656,18.688894271850586,21.185895919799805,22.51741600036621,-3.065126419067383,-23.49595069885254,-22.377670288085938,-4.946890830993652,-0.2955595850944519,-6.791015625,19.41973304748535,-23.373069763183594,19.20196533203125,-1.5684715509414673,-2.434448003768921,0.06605050712823868,-3.1494245529174805,-17.86037826538086,-4.725924968719482,-11.529815673828125,-2.6604068279266357,-24.013086318969727,-20.78826904296875,-19.793607711791992,12.282584190368652,8.52563190460205,15.23831844329834,7.68348503112793,14.969077110290527,14.459576606750488,4.793498516082764,16.314990997314453,9.377382278442383,13.805170059204102,13.31461238861084,8.544496536254883,12.295469284057617,9.368866920471191,7.76893949508667,5.775227069854736,10.748720169067383,2.5494189262390137,9.055488586425781,6.313064098358154,5.532402515411377,6.8798933029174805,11.781476020812988,5.516005039215088,5.5846734046936035,6.631540775299072,7.404821872711182,5.137336730957031,6.126623153686523,6.80247163772583,7.549647808074951,8.765286445617676,1.3829278945922852,5.001883029937744,4.821970462799072,4.299121856689453,4.88277006149292,5.908810615539551,8.681975364685059,8.749754905700684,3.844717502593994,14.606192588806152,17.35761070251465,7.317933082580566,3.881300926208496,1.923583984375,3.0668656826019287,14.601266860961914,15.216935157775879,-27.628772735595703,6.654993057250977,-20.538747787475586,-28.415681838989258,11.98344612121582,18.884235382080078,-22.345056533813477,7.533853054046631,-21.183757781982422,7.625858783721924,-22.790210723876953,9.319112777709961,-4.968477725982666,-23.28462028503418,-7.3893537521362305,9.6815185546875,-15.730424880981445,-26.25994300842285,-8.570679664611816,-20.449993133544922,-23.10904884338379,-25.02720069885254,-21.886505126953125,16.288942337036133,-16.43654441833496,-21.0914363861084,-8.059870719909668,-19.757558822631836,21.03118133544922,-3.934156894683838,-17.07806396484375,20.286399841308594,-18.96552848815918,-19.693058013916016,12.52599048614502,-3.5040035247802734,-24.352964401245117,18.789138793945312,-6.365890026092529,-3.283151149749756,-5.281650066375732,-18.885639190673828,-15.698166847229004,-12.541792869567871,-23.267913818359375,-8.718948364257812,-15.26298999786377,-13.93093490600586,-9.716108322143555,-24.02586555480957,-25.7264347076416,-2.9634816646575928,-13.432539939880371,-14.368880271911621,15.888996124267578,-6.719689846038818,-7.9173102378845215,-15.442412376403809,-18.084861755371094,-1.729252815246582,-7.813594341278076,-7.716658592224121,-8.192441940307617,-18.57282066345215,-2.636052370071411,10.42141342163086,19.860706329345703,-16.324968338012695,-17.996564865112305,-17.148042678833008,-28.342226028442383,-0.08213632553815842,-8.745985984802246,17.537113189697266,12.846173286437988,-27.182077407836914,10.395079612731934,-17.280431747436523,-27.90826988220215,19.821157455444336,-7.443968296051025,21.331724166870117,20.599531173706055,-0.6181023716926575,-26.764005661010742,-0.7380011081695557,-24.264978408813477,-15.691288948059082,-26.17704200744629,-1.0081225633621216,-9.214239120483398,-23.52928352355957,-11.344579696655273,-0.8033725619316101,-2.774500608444214,5.930146217346191,-15.370463371276855,-23.73641586303711],\"xaxis\":\"x\",\"y\":[-29.873289108276367,-30.29339599609375,-27.954299926757812,7.901383399963379,-27.178943634033203,-30.344783782958984,-31.305208206176758,-31.07512664794922,14.055514335632324,-29.005752563476562,-33.42778778076172,-31.161466598510742,-25.880916595458984,-26.728591918945312,-26.425399780273438,9.05530071258545,-31.703927993774414,2.9140079021453857,-27.781503677368164,15.09604263305664,-29.113903045654297,12.665307998657227,4.066788673400879,-21.39009666442871,-26.64667510986328,-30.720752716064453,9.381786346435547,12.48406982421875,-23.1895694732666,-0.5344304442405701,3.2892022132873535,12.559540748596191,13.721404075622559,2.4770236015319824,8.493995666503906,-33.55060577392578,1.6480650901794434,-28.36984634399414,-29.51116943359375,0.9815816879272461,4.170137882232666,3.534950017929077,-29.129138946533203,-30.061769485473633,-31.712608337402344,-23.073545455932617,-29.00568389892578,-25.696718215942383,-29.410289764404297,-26.870708465576172,6.900259971618652,13.905365943908691,-24.60764503479004,-31.376585006713867,12.733540534973145,13.710585594177246,-26.097387313842773,-30.5130615234375,12.842748641967773,15.462392807006836,-32.1852912902832,-26.056745529174805,-32.29314422607422,-28.547616958618164,13.378765106201172,-26.83835792541504,14.595735549926758,-27.2060546875,0.8552430868148804,10.207136154174805,7.333136558532715,-3.790142059326172,5.509222030639648,-29.08906364440918,-30.717525482177734,10.871710777282715,5.212109565734863,-28.146259307861328,10.838617324829102,11.49831485748291,8.458828926086426,-31.170637130737305,-29.786075592041016,12.185624122619629,-31.676334381103516,-26.68397331237793,-25.235509872436523,-3.7530837059020996,5.947124004364014,2.2961678504943848,9.907940864562988,6.994715690612793,-25.844301223754883,7.659233093261719,-30.730384826660156,9.945361137390137,-34.139793395996094,6.948846817016602,7.034992694854736,7.204972267150879,-27.84499168395996,-30.14027214050293,-32.346492767333984,1.7292735576629639,13.733323097229004,11.947023391723633,-32.842247009277344,-28.789302825927734,-32.898841857910156,-29.612424850463867,9.10766887664795,-28.253604888916016,6.094233512878418,9.602919578552246,11.610337257385254,10.243120193481445,11.761317253112793,13.843497276306152,10.082345008850098,8.595205307006836,11.411284446716309,12.042915344238281,10.697985649108887,-30.8990535736084,1.0133346319198608,1.3572349548339844,7.091975688934326,-27.46086883544922,12.134608268737793,-0.19010740518569946,6.643824100494385,7.565952301025391,13.344721794128418,9.396923065185547,9.19476318359375,9.330024719238281,17.06661605834961,12.875631332397461,3.7787234783172607,13.126551628112793,3.567018747329712,0.5515726208686829,0.5410191416740417,6.544754981994629,13.759638786315918,-28.504261016845703,9.423599243164062,10.92572021484375,13.111098289489746,-0.56704181432724,12.506241798400879,10.832387924194336,11.2825345993042,11.236483573913574,6.452183246612549,-29.15169334411621,-33.21739196777344,10.91447639465332,-32.32575988769531,-31.555578231811523,-33.215789794921875,6.451531410217285,10.884520530700684,-27.667325973510742,-32.40430450439453,-27.495777130126953,-31.229568481445312,12.259546279907227,9.645051956176758,11.454903602600098,-31.450040817260742,-22.960468292236328,14.337064743041992,-30.900882720947266,12.420260429382324,-31.987028121948242,1.0599393844604492,3.503648281097412,15.12285041809082,1.194312572479248,3.4790706634521484,0.8482952117919922,16.60807228088379,-20.610841751098633,7.287922382354736,14.817317008972168,13.495174407958984,17.228271484375,-29.64241600036621,-30.948017120361328,8.17383098602295,12.556927680969238,8.604355812072754,-32.76958084106445,8.087236404418945,7.886890411376953,6.994232654571533,-20.909635543823242,8.12609577178955,9.665282249450684,-22.627946853637695,-23.062536239624023,6.95103120803833,7.7869696617126465,8.466176986694336,-22.354883193969727,8.684462547302246,-20.57756805419922,8.015131950378418,-22.804855346679688,9.770822525024414,-24.529497146606445,9.492413520812988,8.569437980651855,-21.167490005493164,8.70119571685791,-23.375572204589844,9.848257064819336,-20.29420280456543,7.748611927032471,9.823729515075684,8.655438423156738,5.466959476470947,-19.46892547607422,9.06253719329834,10.301870346069336,-20.761932373046875,8.115921020507812,6.957124710083008,6.091664791107178,-19.186960220336914,9.838417053222656,11.075359344482422,9.089338302612305,8.307825088500977,9.323126792907715,8.335458755493164,8.948773384094238,8.534689903259277,10.742110252380371,7.089237213134766,10.427703857421875,9.271790504455566,11.229058265686035,8.912083625793457,-21.07113265991211,9.082030296325684,9.364702224731445,10.850054740905762,6.223299026489258,8.5603609085083,-24.3374080657959,5.662100315093994,12.11773681640625,5.377833843231201,10.637510299682617,10.562983512878418,6.004880428314209,10.714276313781738,10.822369575500488,10.308910369873047,5.781889915466309,10.776484489440918,6.3154473304748535,-21.526124954223633,5.1615729331970215,-21.3491268157959,8.560127258300781,-21.96160888671875,9.440667152404785,6.335083961486816,9.693164825439453,9.828266143798828,0.9351438283920288,9.770333290100098,7.989033222198486,2.2587361335754395,8.794217109680176,7.768285274505615,-28.510438919067383,10.719273567199707,-29.66495132446289,0.6057817339897156,6.211071968078613,0.9068116545677185,-0.9657551050186157,10.670995712280273,7.095277786254883,12.938958168029785,-0.9545606374740601,10.455626487731934,12.765953063964844,13.769935607910156,-24.074520111083984,13.206145286560059,-22.953533172607422,12.900650978088379,-23.002099990844727,-23.09943199157715,15.828076362609863,-23.4499454498291,-25.114578247070312,-23.242259979248047,-23.3264217376709,-26.382709503173828,-24.21906852722168,-25.192304611206055,13.469503402709961,15.200804710388184,-24.909364700317383,10.493797302246094,11.993843078613281,-30.31063461303711,13.253607749938965,14.76118278503418,-24.65606117248535,14.386364936828613,15.970309257507324,13.848005294799805,-25.295671463012695,15.776298522949219,14.267236709594727,12.93272590637207,15.051807403564453,12.477582931518555,7.253585338592529,14.278833389282227,15.782108306884766,11.482179641723633,13.387222290039062,13.746777534484863,-25.20266342163086,12.905755996704102,-27.392913818359375,-18.534557342529297,-24.036052703857422,13.869610786437988,11.476948738098145,10.048619270324707,10.938241958618164,-33.73521041870117,-32.661075592041016,14.887313842773438,-29.49148941040039,10.828327178955078,14.79843807220459,-32.38155746459961,-26.431331634521484,10.373332023620605,-28.08103370666504,10.497401237487793,-29.012754440307617,7.675396919250488,-31.455366134643555,8.697114944458008,7.115242958068848,11.845460891723633,-32.83385467529297,-0.4638626277446747,11.229608535766602,11.743860244750977,9.126585006713867,9.001664161682129,8.148327827453613,8.832010269165039,-31.384971618652344,10.261763572692871,8.98409652709961,12.641135215759277,9.169563293457031,-24.60332679748535,6.947406768798828,2.9526824951171875,-28.439355850219727,10.172776222229004,8.400014877319336,-33.769554138183594,-0.31781205534935,10.222790718078613,-33.57733917236328,12.084611892700195,7.339417934417725,1.1251802444458008,14.066012382507324,-0.7641581892967224,9.821334838867188,12.001618385314941,12.484055519104004,10.516303062438965,9.427112579345703,6.367713928222656,10.929357528686523,10.767172813415527,6.308341979980469,11.826835632324219,9.866401672363281,-30.055198669433594,7.155367851257324,7.62087345123291,10.446503639221191,13.069619178771973,6.26217794418335,14.226727485656738,0.5695861577987671,9.850987434387207,10.80028247833252,5.974143981933594,-28.531003952026367,-32.07625198364258,2.9913923740386963,5.915093898773193,2.933412790298462,15.424891471862793,8.410890579223633,6.451023101806641,-31.112300872802734,-30.627578735351562,15.848880767822266,-31.26526641845703,6.368341445922852,16.749969482421875,-28.886310577392578,13.572188377380371,-30.290977478027344,-30.072595596313477,8.398677825927734,17.775522232055664,5.142525672912598,13.972537994384766,5.60793399810791,16.387351989746094,8.342432975769043,14.080647468566895,11.286712646484375,14.994540214538574,5.051643371582031,0.6344037055969238,-27.784940719604492,5.995601654052734,7.8949294090271],\"yaxis\":\"y\",\"type\":\"scatter\"},{\"x\":[10.099340438842773,17.373207092285156,-9.751934051513672],\"y\":[-27.84722328186035,8.243987083435059,9.247664451599121],\"type\":\"scatter\"}],                        {\"template\":{\"data\":{\"histogram2dcontour\":[{\"type\":\"histogram2dcontour\",\"colorbar\":{\"outlinewidth\":0,\"ticks\":\"\"},\"colorscale\":[[0.0,\"#0d0887\"],[0.1111111111111111,\"#46039f\"],[0.2222222222222222,\"#7201a8\"],[0.3333333333333333,\"#9c179e\"],[0.4444444444444444,\"#bd3786\"],[0.5555555555555556,\"#d8576b\"],[0.6666666666666666,\"#ed7953\"],[0.7777777777777778,\"#fb9f3a\"],[0.8888888888888888,\"#fdca26\"],[1.0,\"#f0f921\"]]}],\"choropleth\":[{\"type\":\"choropleth\",\"colorbar\":{\"outlinewidth\":0,\"ticks\":\"\"}}],\"histogram2d\":[{\"type\":\"histogram2d\",\"colorbar\":{\"outlinewidth\":0,\"ticks\":\"\"},\"colorscale\":[[0.0,\"#0d0887\"],[0.1111111111111111,\"#46039f\"],[0.2222222222222222,\"#7201a8\"],[0.3333333333333333,\"#9c179e\"],[0.4444444444444444,\"#bd3786\"],[0.5555555555555556,\"#d8576b\"],[0.6666666666666666,\"#ed7953\"],[0.7777777777777778,\"#fb9f3a\"],[0.8888888888888888,\"#fdca26\"],[1.0,\"#f0f921\"]]}],\"heatmap\":[{\"type\":\"heatmap\",\"colorbar\":{\"outlinewidth\":0,\"ticks\":\"\"},\"colorscale\":[[0.0,\"#0d0887\"],[0.1111111111111111,\"#46039f\"],[0.2222222222222222,\"#7201a8\"],[0.3333333333333333,\"#9c179e\"],[0.4444444444444444,\"#bd3786\"],[0.5555555555555556,\"#d8576b\"],[0.6666666666666666,\"#ed7953\"],[0.7777777777777778,\"#fb9f3a\"],[0.8888888888888888,\"#fdca26\"],[1.0,\"#f0f921\"]]}],\"heatmapgl\":[{\"type\":\"heatmapgl\",\"colorbar\":{\"outlinewidth\":0,\"ticks\":\"\"},\"colorscale\":[[0.0,\"#0d0887\"],[0.1111111111111111,\"#46039f\"],[0.2222222222222222,\"#7201a8\"],[0.3333333333333333,\"#9c179e\"],[0.4444444444444444,\"#bd3786\"],[0.5555555555555556,\"#d8576b\"],[0.6666666666666666,\"#ed7953\"],[0.7777777777777778,\"#fb9f3a\"],[0.8888888888888888,\"#fdca26\"],[1.0,\"#f0f921\"]]}],\"contourcarpet\":[{\"type\":\"contourcarpet\",\"colorbar\":{\"outlinewidth\":0,\"ticks\":\"\"}}],\"contour\":[{\"type\":\"contour\",\"colorbar\":{\"outlinewidth\":0,\"ticks\":\"\"},\"colorscale\":[[0.0,\"#0d0887\"],[0.1111111111111111,\"#46039f\"],[0.2222222222222222,\"#7201a8\"],[0.3333333333333333,\"#9c179e\"],[0.4444444444444444,\"#bd3786\"],[0.5555555555555556,\"#d8576b\"],[0.6666666666666666,\"#ed7953\"],[0.7777777777777778,\"#fb9f3a\"],[0.8888888888888888,\"#fdca26\"],[1.0,\"#f0f921\"]]}],\"surface\":[{\"type\":\"surface\",\"colorbar\":{\"outlinewidth\":0,\"ticks\":\"\"},\"colorscale\":[[0.0,\"#0d0887\"],[0.1111111111111111,\"#46039f\"],[0.2222222222222222,\"#7201a8\"],[0.3333333333333333,\"#9c179e\"],[0.4444444444444444,\"#bd3786\"],[0.5555555555555556,\"#d8576b\"],[0.6666666666666666,\"#ed7953\"],[0.7777777777777778,\"#fb9f3a\"],[0.8888888888888888,\"#fdca26\"],[1.0,\"#f0f921\"]]}],\"mesh3d\":[{\"type\":\"mesh3d\",\"colorbar\":{\"outlinewidth\":0,\"ticks\":\"\"}}],\"scatter\":[{\"marker\":{\"line\":{\"color\":\"#283442\"}},\"type\":\"scatter\"}],\"parcoords\":[{\"type\":\"parcoords\",\"line\":{\"colorbar\":{\"outlinewidth\":0,\"ticks\":\"\"}}}],\"scatterpolargl\":[{\"type\":\"scatterpolargl\",\"marker\":{\"colorbar\":{\"outlinewidth\":0,\"ticks\":\"\"}}}],\"bar\":[{\"error_x\":{\"color\":\"#f2f5fa\"},\"error_y\":{\"color\":\"#f2f5fa\"},\"marker\":{\"line\":{\"color\":\"rgb(17,17,17)\",\"width\":0.5},\"pattern\":{\"fillmode\":\"overlay\",\"size\":10,\"solidity\":0.2}},\"type\":\"bar\"}],\"scattergeo\":[{\"type\":\"scattergeo\",\"marker\":{\"colorbar\":{\"outlinewidth\":0,\"ticks\":\"\"}}}],\"scatterpolar\":[{\"type\":\"scatterpolar\",\"marker\":{\"colorbar\":{\"outlinewidth\":0,\"ticks\":\"\"}}}],\"histogram\":[{\"marker\":{\"pattern\":{\"fillmode\":\"overlay\",\"size\":10,\"solidity\":0.2}},\"type\":\"histogram\"}],\"scattergl\":[{\"marker\":{\"line\":{\"color\":\"#283442\"}},\"type\":\"scattergl\"}],\"scatter3d\":[{\"type\":\"scatter3d\",\"line\":{\"colorbar\":{\"outlinewidth\":0,\"ticks\":\"\"}},\"marker\":{\"colorbar\":{\"outlinewidth\":0,\"ticks\":\"\"}}}],\"scattermapbox\":[{\"type\":\"scattermapbox\",\"marker\":{\"colorbar\":{\"outlinewidth\":0,\"ticks\":\"\"}}}],\"scatterternary\":[{\"type\":\"scatterternary\",\"marker\":{\"colorbar\":{\"outlinewidth\":0,\"ticks\":\"\"}}}],\"scattercarpet\":[{\"type\":\"scattercarpet\",\"marker\":{\"colorbar\":{\"outlinewidth\":0,\"ticks\":\"\"}}}],\"carpet\":[{\"aaxis\":{\"endlinecolor\":\"#A2B1C6\",\"gridcolor\":\"#506784\",\"linecolor\":\"#506784\",\"minorgridcolor\":\"#506784\",\"startlinecolor\":\"#A2B1C6\"},\"baxis\":{\"endlinecolor\":\"#A2B1C6\",\"gridcolor\":\"#506784\",\"linecolor\":\"#506784\",\"minorgridcolor\":\"#506784\",\"startlinecolor\":\"#A2B1C6\"},\"type\":\"carpet\"}],\"table\":[{\"cells\":{\"fill\":{\"color\":\"#506784\"},\"line\":{\"color\":\"rgb(17,17,17)\"}},\"header\":{\"fill\":{\"color\":\"#2a3f5f\"},\"line\":{\"color\":\"rgb(17,17,17)\"}},\"type\":\"table\"}],\"barpolar\":[{\"marker\":{\"line\":{\"color\":\"rgb(17,17,17)\",\"width\":0.5},\"pattern\":{\"fillmode\":\"overlay\",\"size\":10,\"solidity\":0.2}},\"type\":\"barpolar\"}],\"pie\":[{\"automargin\":true,\"type\":\"pie\"}]},\"layout\":{\"autotypenumbers\":\"strict\",\"colorway\":[\"#636efa\",\"#EF553B\",\"#00cc96\",\"#ab63fa\",\"#FFA15A\",\"#19d3f3\",\"#FF6692\",\"#B6E880\",\"#FF97FF\",\"#FECB52\"],\"font\":{\"color\":\"#f2f5fa\"},\"hovermode\":\"closest\",\"hoverlabel\":{\"align\":\"left\"},\"paper_bgcolor\":\"rgb(17,17,17)\",\"plot_bgcolor\":\"rgb(17,17,17)\",\"polar\":{\"bgcolor\":\"rgb(17,17,17)\",\"angularaxis\":{\"gridcolor\":\"#506784\",\"linecolor\":\"#506784\",\"ticks\":\"\"},\"radialaxis\":{\"gridcolor\":\"#506784\",\"linecolor\":\"#506784\",\"ticks\":\"\"}},\"ternary\":{\"bgcolor\":\"rgb(17,17,17)\",\"aaxis\":{\"gridcolor\":\"#506784\",\"linecolor\":\"#506784\",\"ticks\":\"\"},\"baxis\":{\"gridcolor\":\"#506784\",\"linecolor\":\"#506784\",\"ticks\":\"\"},\"caxis\":{\"gridcolor\":\"#506784\",\"linecolor\":\"#506784\",\"ticks\":\"\"}},\"coloraxis\":{\"colorbar\":{\"outlinewidth\":0,\"ticks\":\"\"}},\"colorscale\":{\"sequential\":[[0.0,\"#0d0887\"],[0.1111111111111111,\"#46039f\"],[0.2222222222222222,\"#7201a8\"],[0.3333333333333333,\"#9c179e\"],[0.4444444444444444,\"#bd3786\"],[0.5555555555555556,\"#d8576b\"],[0.6666666666666666,\"#ed7953\"],[0.7777777777777778,\"#fb9f3a\"],[0.8888888888888888,\"#fdca26\"],[1.0,\"#f0f921\"]],\"sequentialminus\":[[0.0,\"#0d0887\"],[0.1111111111111111,\"#46039f\"],[0.2222222222222222,\"#7201a8\"],[0.3333333333333333,\"#9c179e\"],[0.4444444444444444,\"#bd3786\"],[0.5555555555555556,\"#d8576b\"],[0.6666666666666666,\"#ed7953\"],[0.7777777777777778,\"#fb9f3a\"],[0.8888888888888888,\"#fdca26\"],[1.0,\"#f0f921\"]],\"diverging\":[[0,\"#8e0152\"],[0.1,\"#c51b7d\"],[0.2,\"#de77ae\"],[0.3,\"#f1b6da\"],[0.4,\"#fde0ef\"],[0.5,\"#f7f7f7\"],[0.6,\"#e6f5d0\"],[0.7,\"#b8e186\"],[0.8,\"#7fbc41\"],[0.9,\"#4d9221\"],[1,\"#276419\"]]},\"xaxis\":{\"gridcolor\":\"#283442\",\"linecolor\":\"#506784\",\"ticks\":\"\",\"title\":{\"standoff\":15},\"zerolinecolor\":\"#283442\",\"automargin\":true,\"zerolinewidth\":2},\"yaxis\":{\"gridcolor\":\"#283442\",\"linecolor\":\"#506784\",\"ticks\":\"\",\"title\":{\"standoff\":15},\"zerolinecolor\":\"#283442\",\"automargin\":true,\"zerolinewidth\":2},\"scene\":{\"xaxis\":{\"backgroundcolor\":\"rgb(17,17,17)\",\"gridcolor\":\"#506784\",\"linecolor\":\"#506784\",\"showbackground\":true,\"ticks\":\"\",\"zerolinecolor\":\"#C8D4E3\",\"gridwidth\":2},\"yaxis\":{\"backgroundcolor\":\"rgb(17,17,17)\",\"gridcolor\":\"#506784\",\"linecolor\":\"#506784\",\"showbackground\":true,\"ticks\":\"\",\"zerolinecolor\":\"#C8D4E3\",\"gridwidth\":2},\"zaxis\":{\"backgroundcolor\":\"rgb(17,17,17)\",\"gridcolor\":\"#506784\",\"linecolor\":\"#506784\",\"showbackground\":true,\"ticks\":\"\",\"zerolinecolor\":\"#C8D4E3\",\"gridwidth\":2}},\"shapedefaults\":{\"line\":{\"color\":\"#f2f5fa\"}},\"annotationdefaults\":{\"arrowcolor\":\"#f2f5fa\",\"arrowhead\":0,\"arrowwidth\":1},\"geo\":{\"bgcolor\":\"rgb(17,17,17)\",\"landcolor\":\"rgb(17,17,17)\",\"subunitcolor\":\"#506784\",\"showland\":true,\"showlakes\":true,\"lakecolor\":\"rgb(17,17,17)\"},\"title\":{\"x\":0.05},\"updatemenudefaults\":{\"bgcolor\":\"#506784\",\"borderwidth\":0},\"sliderdefaults\":{\"bgcolor\":\"#C8D4E3\",\"borderwidth\":1,\"bordercolor\":\"rgb(17,17,17)\",\"tickwidth\":0},\"mapbox\":{\"style\":\"dark\"}}},\"xaxis\":{\"anchor\":\"y\",\"domain\":[0.0,1.0],\"title\":{\"text\":\"0\"}},\"yaxis\":{\"anchor\":\"x\",\"domain\":[0.0,1.0],\"title\":{\"text\":\"1\"}},\"legend\":{\"tracegroupgap\":0},\"margin\":{\"t\":60}},                        {\"responsive\": true}                    ).then(function(){\n                            \nvar gd = document.getElementById('ee464449-6feb-47e6-8a8e-7e95407d4a05');\nvar x = new MutationObserver(function (mutations, observer) {{\n        var display = window.getComputedStyle(gd).display;\n        if (!display || display === 'none') {{\n            console.log([gd, 'removed!']);\n            Plotly.purge(gd);\n            observer.disconnect();\n        }}\n}});\n\n// Listen for the removal of the full notebook cells\nvar notebookContainer = gd.closest('#notebook-container');\nif (notebookContainer) {{\n    x.observe(notebookContainer, {childList: true});\n}}\n\n// Listen for the clearing of the current output cell\nvar outputEl = gd.closest('.output');\nif (outputEl) {{\n    x.observe(outputEl, {childList: true});\n}}\n\n                        })                };                });            </script>        </div>"
     },
     "metadata": {},
     "output_type": "display_data"
    }
   ],
   "source": [
    "#plt.scatter(x=tnse_centroids[0], y=tnse_centroids[1],s=100, color=['red','blue'])\n",
    "# plt.scatter(x=tnse_df[0], y=tnse_df[1])\n",
    "# plt.show()\n",
    "fig = px.scatter(tnse_df, x=0, y=1)\n",
    "fig.add_scatter(x=tnse_centroids[0], y=tnse_centroids[1])\n",
    "fig.show()"
   ],
   "metadata": {
    "collapsed": false,
    "pycharm": {
     "name": "#%%\n"
    }
   }
  },
  {
   "cell_type": "code",
   "execution_count": null,
   "outputs": [],
   "source": [],
   "metadata": {
    "collapsed": false,
    "pycharm": {
     "name": "#%%\n"
    }
   }
  }
 ],
 "metadata": {
  "kernelspec": {
   "display_name": "Python 3",
   "language": "python",
   "name": "python3"
  },
  "language_info": {
   "codemirror_mode": {
    "name": "ipython",
    "version": 2
   },
   "file_extension": ".py",
   "mimetype": "text/x-python",
   "name": "python",
   "nbconvert_exporter": "python",
   "pygments_lexer": "ipython2",
   "version": "2.7.6"
  }
 },
 "nbformat": 4,
 "nbformat_minor": 0
}