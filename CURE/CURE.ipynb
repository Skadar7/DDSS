{
 "nbformat": 4,
 "nbformat_minor": 0,
 "metadata": {
  "colab": {
   "name": "CureAlgorithm.ipynb",
   "provenance": [],
   "collapsed_sections": [],
   "toc_visible": true,
   "authorship_tag": "ABX9TyO7Ena0T47h9lcGYTYU2stL",
   "include_colab_link": true
  },
  "kernelspec": {
   "name": "python3",
   "display_name": "Python 3"
  }
 },
 "cells": [
  {
   "cell_type": "markdown",
   "metadata": {
    "id": "view-in-github",
    "colab_type": "text",
    "pycharm": {
     "name": "#%% md\n"
    }
   },
   "source": [
    "<a href=\"https://colab.research.google.com/github/Makstarr/CURE-algorithm/blob/main/CURE.ipynb\" target=\"_parent\"><img src=\"https://colab.research.google.com/assets/colab-badge.svg\" alt=\"Open In Colab\"/></a>"
   ]
  },
  {
   "cell_type": "markdown",
   "metadata": {
    "id": "bggWEEvhL7DN",
    "pycharm": {
     "name": "#%% md\n"
    }
   },
   "source": [
    "# Немного о данных"
   ]
  },
  {
   "cell_type": "markdown",
   "metadata": {
    "id": "oNZBbMH572rQ",
    "pycharm": {
     "name": "#%% md\n"
    }
   },
   "source": [
    "# Алгоритм CURE\n",
    "\n"
   ]
  },
  {
   "cell_type": "code",
   "metadata": {
    "id": "eg1Y-rJ_71iy",
    "colab": {
     "base_uri": "https://localhost:8080/"
    },
    "outputId": "a59f3980-38a1-4ea0-8b33-97e66326e349",
    "pycharm": {
     "name": "#%%\n"
    }
   },
   "source": [
    "import pandas as pd\n",
    "import numpy as np\n",
    "import sys\n",
    "from sklearn.preprocessing import StandardScaler, normalize"
   ],
   "execution_count": 1,
   "outputs": []
  },
  {
   "cell_type": "code",
   "metadata": {
    "id": "eCSB_0hoFr_Y",
    "pycharm": {
     "name": "#%%\n"
    }
   },
   "source": [
    "lenght_data = 1"
   ],
   "execution_count": 2,
   "outputs": []
  },
  {
   "cell_type": "markdown",
   "metadata": {
    "id": "zZKzKFsiN3tI",
    "pycharm": {
     "name": "#%% md\n"
    }
   },
   "source": [
    "Алгоритм нельзя применять сразу к большой базе данных, ввиду большой сложности вычислений. Для того, чтобы применять алгоритм используют небольшую случайную выборку точек, для которой осуществляется разделение на n заданных кластеров. \n",
    "Затем в алгоритм вводится весь датасет и распределяется по полученным на первом этапе кластреам, что важно, за один проход."
   ]
  },
  {
   "cell_type": "markdown",
   "metadata": {
    "id": "ZF2XbYg0PZnr",
    "pycharm": {
     "name": "#%% md\n"
    }
   },
   "source": [
    "### Первый шаг алгоритма\n",
    "Для кластеризации выборки используется иерархическая кластеризация, которую можно описать следующим образом. "
   ]
  },
  {
   "cell_type": "markdown",
   "metadata": {
    "id": "EVjQOLFZSDq8",
    "pycharm": {
     "name": "#%% md\n"
    }
   },
   "source": [
    "\n",
    "---\n",
    "\n",
    "```\n",
    " \n",
    "*Провести кластеризацию для создания начальных кластеров *\n",
    "\n",
    "  1) Присвоение точкам индексов и создание кластеров для каждой из точек\n",
    "\n",
    "  2) Определение ближайших кластеров\n",
    "      Для всех кластеров\n",
    "        Берем найденную на предыдущем запуске цикла дистанцию (или очень большое число при первом запуске)\n",
    "        Находим новую минимальную дистанцию\n",
    "        Присваиваем найденный ближайший кластер тому, для которого вызвана функция\n",
    "\n",
    "  3) Пока число кластеров больше заданного при запуске алгоритма\n",
    "        3.1) Найти индекс кластера, который можно обьединить с соседом\n",
    "                Для всех кластеров\n",
    "                   Берем найденную на предыдущем запуске цикла дистанцию (или очень большое число при первом запуске)\n",
    "                   Находим новую минимальную дистанцию\n",
    "\n",
    "        3.2) Создаем новый кластер из двух соседей\n",
    "        3.3) Пересчет связей в списке кластеров\n",
    "              Для всех кластеров\n",
    "                Дистанция до нового кластера\n",
    "                Если найденная дистанция меньше самой близкой\n",
    "                  Обьявляем кластер ближайшим соседом нового\n",
    "                Если ближайший кластер текущего был одним из обьединенных\n",
    "                  Если этот кластер ближе чем новая минималная дистанция\n",
    "                    Присваиваем ему новый ближайший\n",
    "                  Есои нет\n",
    "                    То самый ближайший к нему новый, обьединенный\n",
    "                Если не был\n",
    "                  Если его ближайший сосед дальше чем новый кластер\n",
    "                    То самый ближайший к нему новый, обьединенный\n",
    "        3.4) Добавляем новый кластер в список\n",
    "\n",
    "На выходе получаем n кластеров\n",
    "\n",
    "\n",
    "```\n",
    "---\n",
    "\n",
    "\n",
    "\n",
    "\n"
   ]
  },
  {
   "cell_type": "markdown",
   "metadata": {
    "id": "NXnJow5pTgRu",
    "pycharm": {
     "name": "#%% md\n"
    }
   },
   "source": [
    "Для каждого кластера необходимо найти точки-предтавители. Их число - параметр принимаемы на вход алгоритмом (rep_count). Для расчета точек представителей необходимо взять rep_count точек внутри каждого кластера на максимальном удалении друг от друга. Это необходимо для максимальной интерпретации начальной формы кластера. Первая точка выбирается случайно, остальные по расстоянию от нее.\n",
    "Затем точки необходимо сдвинуть на заданнвый (alpha) процент расстояния в сторону центроиа кластера. Получаемые таким образом синтетические точки и будут представлять форму кластера в дальнейшем."
   ]
  },
  {
   "cell_type": "markdown",
   "metadata": {
    "id": "Y7cKpjSoTbyG",
    "pycharm": {
     "name": "#%% md\n"
    }
   },
   "source": [
    "### Второй шаг алгоритма"
   ]
  },
  {
   "cell_type": "markdown",
   "metadata": {
    "id": "PpJfX8TPVPVQ",
    "pycharm": {
     "name": "#%% md\n"
    }
   },
   "source": [
    "Берется весь датасет, и сканируется каждая его точка. Каждая точка присваевается к самому ближайшему кластеру ( на основании расчета расстояния до всех его точек представителей )\n",
    "```\n",
    "Финальная кластеризация\n",
    "\n",
    "  1) Словарь для n кластеров\n",
    "  2) Для всех точек в массиве\n",
    "        Подбираем к какому классу пренадлежит точка\n",
    "          Для всех кластеров\n",
    "            Минимальная дистанция = большое число\n",
    "            Минимальное растояние от точки до кластера\n",
    "            Если дистанция меньше чем минимальная\n",
    "               Минимальная дистанция =  новая минимальная дистанция \n",
    "            Возвращаем индекс кластера для которого дистанция минимальна\n",
    "        Присваиваем в словарь, в массив одного из классов \n",
    "  3) Возвращаем массивы индексов точек распределенные по классам\n",
    "      \n",
    "\n",
    "На выходе получаем кластеризованный набор данных.\n",
    "\n",
    "\n",
    "```\n",
    "\n"
   ]
  },
  {
   "cell_type": "markdown",
   "metadata": {
    "id": "2ibDpU4eXCXf",
    "pycharm": {
     "name": "#%% md\n"
    }
   },
   "source": [
    "Вот так просто можно описать работу алгоритма CURE.\n",
    "\n",
    "Далее представлены методы кластеризации разделенные на методы кластера и методы иерархической кластеризации. Для всех действий в коде добавлены комментарии."
   ]
  },
  {
   "cell_type": "code",
   "metadata": {
    "id": "1u1Ay0yyE83t",
    "pycharm": {
     "name": "#%%\n"
    }
   },
   "source": [
    "class Cluster(object):\n",
    "    COUNTER = 0\n",
    "    # Создание кластера на основе точек, их индексов и входных параметров\n",
    "    def __init__(self, points, p_ids, rep_count, alpha):\n",
    "        # Счетчик числа кластеров\n",
    "        Cluster.COUNTER += 1\n",
    "        self.id = Cluster.COUNTER\n",
    "        # Добавление точе в формате массива\n",
    "        self.points = np.array(points) if type(points) == type([]) else points\n",
    "        # Число точек и число измерений\n",
    "        self.n_points, self.dimensions = self.points.shape\n",
    "        # Индексы точек\n",
    "        self.p_ids = p_ids\n",
    "        # Среднее значение по кластеру \n",
    "        self.mean = None\n",
    "        # Параметры алгоритма\n",
    "        self.alpha = alpha\n",
    "        self.rep_count = rep_count\n",
    "        # Считает точки-представители\n",
    "        self.reps = self.assignReps()\n",
    "        # Переменная ближайшего кластера\n",
    "        self.closest = None\n",
    "        # Переменная дистанции до ближайшего кластера\n",
    "        self.closestDist = sys.maxsize\n",
    "\n",
    "    #  Расчет центроида\n",
    "    def getMean(self):\n",
    "        # Если он уже посчитан возвращает значение\n",
    "        if self.mean is not None:\n",
    "            return self.mean\n",
    "        # Если нет считает как сумма координат точек/число точек\n",
    "        self.mean = self.points.sum(axis=0)/(self.n_points*1.0)\n",
    "        return self.mean\n",
    "\n",
    "    # Считает точки-представители\n",
    "    def assignReps(self):\n",
    "        # Если точек в кластере меньше чем точек-представителей\n",
    "        # То все они и есть представители\n",
    "        if self.n_points <= self.rep_count:\n",
    "            return self.points[:,:]\n",
    "        # Пустой сет и пустой массив\n",
    "        tmp_set = set()\n",
    "        reps = []\n",
    "        # Для всех точек представителей\n",
    "        for i in range(self.rep_count):\n",
    "            max_dist = 0\n",
    "            # Для всех точек в кластере (ищем самые далекие точки)\n",
    "            for j in range(self.n_points):\n",
    "                # Если точек представителей 0\n",
    "                if i == 0:\n",
    "                    # Расстояние между точкой и центроидом\n",
    "                    min_dist = Cluster.p_distance(self.points[j], self.getMean())\n",
    "                # Если точек представителей > 0\n",
    "                else:\n",
    "                    # Поиск минимального расстояния между точкой и массивом точек-представителей\n",
    "                    min_dist = self.getClosestDist(self.points[j], reps)\n",
    "                # Если расстояние больше максимального, новое максимальное\n",
    "                if min_dist >= max_dist:\n",
    "                    # максимальное расстояние\n",
    "                    max_dist = min_dist\n",
    "                    # индекс найденной точки \n",
    "                    max_point = j\n",
    "            # если этой точки нет в списке\n",
    "            if max_point not in tmp_set:\n",
    "                # добавить\n",
    "                tmp_set.add(max_point)\n",
    "                # если есть массив представителей\n",
    "                if reps is not None:\n",
    "                    # Находим точку по индексу\n",
    "                    point = self.points[max_point]\n",
    "                    # Добавляем представителя сдвинутого на Alpha в сторону центроида \n",
    "                    reps.append(point + self.alpha * (self.getMean() - point))\n",
    "\n",
    "                # если нет массива представителей\n",
    "                else:\n",
    "                    # Добавляем представителя сдвинутого на Alpha в сторону центроида \n",
    "                    point = self.points[max_point]\n",
    "                    reps = [point + self.alpha * (self.getMean() - point)]\n",
    "        # Возвращаем точки представители\n",
    "        reps = np.array(reps)\n",
    "        return reps\n",
    "            \n",
    "    # Поиск минимального расстояния между точкой и массивом точек\n",
    "    def getClosestDist(self, point, points):\n",
    "        points = np.array(points)\n",
    "        k=np.empty(points.shape[0])\n",
    "        for j in range(points.shape[0]):\n",
    "            k[j]+=sum(((points[j]-point)**2)**0.5)\n",
    "\n",
    "        return min(k)\n",
    "\n",
    "    \n",
    "    def __str__(self):\n",
    "        return \"[ID:%d] PointCount=%d, ClosestDist=%0.2f with [ID:%d]\"%(self.id, self.n_points, self.closestDist, self.closest.id if self.closest else -1)\n",
    "    \n",
    "    def __repr(self):\n",
    "        return self.__str__()\n",
    "    \n",
    "\n",
    "\n",
    "    @classmethod\n",
    "    # Создаем новый кластер из двух соседей \n",
    "    def merge(cls, cluster1, cluster2):\n",
    "        # Проверка что оба кластера в одном измерении\n",
    "        if cluster1.dimensions != cluster2.dimensions:\n",
    "            raise ValueError('Ошибка! Измерения точек не совпадают!')\n",
    "        # Обьединяем точки кластеров в общий массив с сохранением\n",
    "        combined_points = np.concatenate((cluster1.points, cluster2.points))\n",
    "        # Обьединяем индексы точек кластеров в общий массив (Они не np.array поэтому просто +)\n",
    "        combined_p_ids = cluster1.p_ids + cluster2.p_ids\n",
    "        # Создаем новенький кластер\n",
    "        new_cluster = Cluster(combined_points, combined_p_ids, cluster1.rep_count, cluster1.alpha)\n",
    "        # Присваиваем ему среднее значение по кластеру\n",
    "        new_cluster.mean = (cluster1.getMean()*cluster1.n_points + cluster2.getMean()*cluster2.n_points)/(new_cluster.n_points*1.0)\n",
    "        return new_cluster\n",
    "    \n",
    "    # Минимальное растояние от точки до кластера\n",
    "    def pointToClusterDistance(self, point):\n",
    "        min_dist = sys.maxsize\n",
    "        # Для всех точек-представителей\n",
    "        for rep_index in range(len(self.reps)):\n",
    "            # Вычисляется расстояние между точкой и точкой представителем\n",
    "            dist = Cluster.p_distance(self.reps[rep_index], point)\n",
    "            # Поиск минимального\n",
    "            min_dist = min(min_dist, dist)\n",
    "        return min_dist\n",
    "    \n",
    "    @staticmethod\n",
    "    # Вычисляется расстояние между точкой и точкой представителем\n",
    "    def p_distance(point1, point2):\n",
    "        i=0\n",
    "        for j in range(len(point1)):\n",
    "          i+=((point1[j]-point2[j])**2)**0.5\n",
    "        return ((1-(6*i**2)/lenght_data*(lenght_data**2-1))**2)**0.5\n",
    "\n",
    "    @staticmethod\n",
    "    # Расчет дистанции между текущим кластером и другим кластером\n",
    "    def c_distance(cluster1, cluster2):\n",
    "        min_dist = sys.maxsize\n",
    "        # Для всех точек-представителей одного\n",
    "        for rep_1_index in range(len(cluster1.reps)):\n",
    "            # Для всех точек-представителей другого\n",
    "            for rep_2_index in range(len(cluster2.reps)):\n",
    "                #  Вычисляется расстояние между точками представителями\n",
    "                dist = Cluster.p_distance(cluster1.reps[rep_1_index], cluster2.reps[rep_2_index])\n",
    "                #  Берется минимальная\n",
    "                min_dist = min(min_dist, dist)\n",
    "        return min_dist"
   ],
   "execution_count": 3,
   "outputs": []
  },
  {
   "cell_type": "code",
   "metadata": {
    "id": "cdtQhpiNE8Vj",
    "pycharm": {
     "name": "#%%\n"
    }
   },
   "source": [
    "# Иерархическая кластеризация\n",
    "class HeirarchicalClustering(object):\n",
    "    # Создание обьекта метода, на основе входных параметров\n",
    "    def __init__(self, cluster_count, rep_count, alpha):\n",
    "        self.cluster_count = cluster_count\n",
    "        self.clusters = []\n",
    "        self.rep_count = rep_count\n",
    "        self.alpha = alpha\n",
    "    #\n",
    "    #\n",
    "    #\n",
    "    # №1 ПЕРВНОНАЧАЛЬНАЯ КЛАСТЕРИЗАЦИЯ НА ОСНОВЕ МАЛЕНЬКОЙ ВЫБОРКИ\n",
    "    #\n",
    "    #\n",
    "    #\n",
    "    def fit(self, points):\n",
    "        # Присвоение точкам индексов и создание кластеров для каждой из точек\n",
    "        for p_index, point in enumerate(points):\n",
    "            self.clusters.append(Cluster([point], [p_index], self.rep_count, self.alpha))\n",
    "        \n",
    "        # Определение ближайших кластеров\n",
    "        for index in range(len(self.clusters)):\n",
    "            self.assignClosestCluster(self.clusters[index])\n",
    "          \n",
    "        # Пока число кластеров больше заданного при запуске алгоритма\n",
    "        while len(self.clusters) > self.cluster_count:\n",
    "\n",
    "            # Найти индекс кластера, который можно обьединить с соседом\n",
    "            u_index = self.getMergeCandidate()\n",
    "            # Убрать кластер из массива кластеров и привоить переменной \n",
    "            # и привоить переменной u-кластер\n",
    "            u_cluster = self.clusters.pop(u_index)\n",
    "            # v-кластер равен соседу убранного\n",
    "            v_cluster = u_cluster.closest\n",
    "            # Найти ближайший и убрать его из массива\n",
    "            self.removeCluster(v_cluster)\n",
    "            # Создаем новый кластер из двух соседей (метод класса Cluster)\n",
    "            new_cluster = Cluster.merge(u_cluster, v_cluster)\n",
    "            # Пересчет связей в списке кластеров\n",
    "            self.rebuildClosestClusterLinks(new_cluster, u_cluster.id, v_cluster.id)\n",
    "            # Добавляем новый кластер в список\n",
    "            self.clusters.append(new_cluster)\n",
    "\n",
    "    # Определение ближайших кластеров\n",
    "    def assignClosestCluster(self, cluster):\n",
    "        # задание минимальной дистанции в ввиде очень большого int\n",
    "        min_dist = sys.maxsize\n",
    "        # переменная для ближайшего кластера\n",
    "        closest = None\n",
    "        # Для всех кластеров\n",
    "        for i in range(len(self.clusters)):\n",
    "            # Если индекс кластера тот же самый что и у текущего (уже обьедденины) ничего не делай\n",
    "            if cluster.id == self.clusters[i].id: continue\n",
    "            # Расчет дистанции между текущим кластером и кластером для которого вызвана функция (метод кластера)\n",
    "            dist = Cluster.c_distance(cluster, self.clusters[i])\n",
    "            # Если дистанция меньше минимальной (изначально огромного числа), значит это новая минимальная дистанция     \n",
    "            if dist < min_dist:\n",
    "                min_dist = dist\n",
    "                # Значит текущий кластер самый близкий к тому, для которого вызвана функция\n",
    "                closest = self.clusters[i]\n",
    "        # Присваиваем найденный ближайший кластер тому, для которого вызвана функция\n",
    "        cluster.closest = closest\n",
    "        # Присваиваем дистанцию между ними\n",
    "        cluster.closestDist = min_dist\n",
    "\n",
    "    # Найти подходящие для обьединения кластеры\n",
    "    def getMergeCandidate(self):\n",
    "        # задание минимальной дистанции в ввиде очень большого int\n",
    "        min_dist = sys.maxsize\n",
    "        # Индекс подходящего для обьединения кластера\n",
    "        cluster_index = 0\n",
    "        # Для всех кластеров\n",
    "        for i in range(len(self.clusters)):\n",
    "            # Берем найденную на предыдущем шаге дистанцию до ближайшего кластера\n",
    "            dist = self.clusters[i].closestDist\n",
    "            # Ели дистанция меньше минимальной (изначально большое число)\n",
    "            if dist < min_dist:\n",
    "              # Новая минимальная дистанция между кластерами\n",
    "              min_dist = dist\n",
    "              cluster_index = i\n",
    "        # Возвращаем айди кластера, который может быть объединен с соседом\n",
    "        return cluster_index\n",
    "\n",
    "    # Найти и убрать кластер из массива\n",
    "    def removeCluster(self, cluster):\n",
    "        # Для всех кластеров\n",
    "        for i in range(len(self.clusters)):\n",
    "            # Находим кластер в списке\n",
    "            if self.clusters[i].id == cluster.id:\n",
    "                # Убираем кластер из списка\n",
    "                self.clusters[i] = self.clusters[-1]\n",
    "                self.clusters.pop()\n",
    "                return\n",
    "        return \"Кластер не был найден в списке\"\n",
    "\n",
    "    # Пересчет связей в списке кластеров\n",
    "    def rebuildClosestClusterLinks(self, new_cluster, u_cluster_id, v_cluster_id):\n",
    "        min_dist = sys.maxsize\n",
    "        # Для всех кластеров\n",
    "        for i in range(len(self.clusters)):\n",
    "            # Дистанция между новым и текущим\n",
    "            new_dist = Cluster.c_distance(new_cluster, self.clusters[i])\n",
    "            # Если найденная дистанция меньше самой близкой\n",
    "            # Обьявляем кластер ближайшим соседом нового\n",
    "            if new_cluster.closestDist > new_dist:\n",
    "                new_cluster.closestDist = new_dist\n",
    "                new_cluster.closest = self.clusters[i]\n",
    "            # Если ближайший кластер текущего был одним из обьединенных\n",
    "            if self.clusters[i].closest.id in (u_cluster_id, v_cluster_id):\n",
    "                # Если этот кластер ближе чем новая минималная дистанция\n",
    "                # Присваиваем ему новый ближайший\n",
    "                if self.clusters[i].closestDist < new_dist:\n",
    "                    self.assignClosestCluster(self.clusters[i])\n",
    "                # Есои нет\n",
    "                # То самый ближайший к нему новый, обьединенный\n",
    "                else:\n",
    "                    self.clusters[i].closestDist = new_dist\n",
    "                    self.clusters[i].closest = new_cluster\n",
    "            # Если не был\n",
    "            else:\n",
    "              # Если его ближайший сосед дальше чем новый кластер\n",
    "              # То самый ближайший к нему новый, обьединенный\n",
    "                if self.clusters[i].closestDist > new_dist:\n",
    "                    self.clusters[i].closestDist = new_dist\n",
    "                    self.clusters[i].closest = new_cluster\n",
    "    #\n",
    "    #\n",
    "    #\n",
    "    # №2 КЛАСТЕРИЗАЦИЯ НА ОСНОВЕ ВСЕЙ ВЫБОРКИ\n",
    "    #\n",
    "    #\n",
    "    #\n",
    "    def predict(self, points):\n",
    "        points = np.array(points)\n",
    "        # Новый словарь, с пустым массивом, для каждого кластера \n",
    "        predictions = {cluster.id:[] for cluster in self.clusters}\n",
    "        # Для всех точек в массиве\n",
    "        for i in range(len(points)):\n",
    "            # Подбираем к какому классу пренадлежит точка \n",
    "            label = self.predict_point(points[i])\n",
    "            # Присваиваем в словарь, в массив одного из классов\n",
    "            predictions[label].append(i)\n",
    "        # Возвращаем массивы индексов точек распределенные по классам\n",
    "        return predictions.values()\n",
    "\n",
    "    #  Подбираем к какому классу пренадлежит точка \n",
    "    def predict_point(self, point):\n",
    "        point = np.array(point)\n",
    "        min_dist = sys.maxsize\n",
    "        label = None\n",
    "        # Для всех кластеров\n",
    "        for i in range(len(self.clusters)):\n",
    "            # Минимальное растояние от точки до кластера (Метод кластера)\n",
    "            dist = self.clusters[i].pointToClusterDistance(point)\n",
    "            # Если дистанция меньше чем минимальная, тогда относим к соответсвующему кластеру\n",
    "            if dist < min_dist:\n",
    "                min_dist = dist\n",
    "                label = self.clusters[i].id\n",
    "        # Возвращаем индекс кластера\n",
    "        return label"
   ],
   "execution_count": 4,
   "outputs": []
  },
  {
   "cell_type": "code",
   "metadata": {
    "id": "egcJ5OjIH-0m",
    "pycharm": {
     "name": "#%%\n"
    }
   },
   "source": [
    "cluster_count = 3"
   ],
   "execution_count": 5,
   "outputs": []
  },
  {
   "cell_type": "markdown",
   "metadata": {
    "id": "3Y7iDPwKZZ9t",
    "pycharm": {
     "name": "#%% md\n"
    }
   },
   "source": [
    "Комбинация числа точек представителей и коэфициента сжатия определяется подбором. (Т.к. данных о классах нет даже для небольшой выборки)\n",
    "В качестве критерия правильности распределения взят общий рэйтинг счастья."
   ]
  },
  {
   "cell_type": "code",
   "metadata": {
    "id": "mFYu-vA1H-oc",
    "pycharm": {
     "name": "#%%\n"
    }
   },
   "source": [
    "rep_count = 19\n",
    "alpha = 0.1"
   ],
   "execution_count": 7,
   "outputs": []
  },
  {
   "cell_type": "code",
   "execution_count": 9,
   "outputs": [
    {
     "data": {
      "text/plain": "     Channel  Region  Fresh   Milk  Grocery  Frozen  Detergents_Paper  \\\n0          2       3  12669   9656     7561     214              2674   \n1          2       3   7057   9810     9568    1762              3293   \n2          2       3   6353   8808     7684    2405              3516   \n3          1       3  13265   1196     4221    6404               507   \n4          2       3  22615   5410     7198    3915              1777   \n..       ...     ...    ...    ...      ...     ...               ...   \n435        1       3  29703  12051    16027   13135               182   \n436        1       3  39228   1431      764    4510                93   \n437        2       3  14531  15488    30243     437             14841   \n438        1       3  10290   1981     2232    1038               168   \n439        1       3   2787   1698     2510      65               477   \n\n     Delicassen  \n0          1338  \n1          1776  \n2          7844  \n3          1788  \n4          5185  \n..          ...  \n435        2204  \n436        2346  \n437        1867  \n438        2125  \n439          52  \n\n[440 rows x 8 columns]",
      "text/html": "<div>\n<style scoped>\n    .dataframe tbody tr th:only-of-type {\n        vertical-align: middle;\n    }\n\n    .dataframe tbody tr th {\n        vertical-align: top;\n    }\n\n    .dataframe thead th {\n        text-align: right;\n    }\n</style>\n<table border=\"1\" class=\"dataframe\">\n  <thead>\n    <tr style=\"text-align: right;\">\n      <th></th>\n      <th>Channel</th>\n      <th>Region</th>\n      <th>Fresh</th>\n      <th>Milk</th>\n      <th>Grocery</th>\n      <th>Frozen</th>\n      <th>Detergents_Paper</th>\n      <th>Delicassen</th>\n    </tr>\n  </thead>\n  <tbody>\n    <tr>\n      <th>0</th>\n      <td>2</td>\n      <td>3</td>\n      <td>12669</td>\n      <td>9656</td>\n      <td>7561</td>\n      <td>214</td>\n      <td>2674</td>\n      <td>1338</td>\n    </tr>\n    <tr>\n      <th>1</th>\n      <td>2</td>\n      <td>3</td>\n      <td>7057</td>\n      <td>9810</td>\n      <td>9568</td>\n      <td>1762</td>\n      <td>3293</td>\n      <td>1776</td>\n    </tr>\n    <tr>\n      <th>2</th>\n      <td>2</td>\n      <td>3</td>\n      <td>6353</td>\n      <td>8808</td>\n      <td>7684</td>\n      <td>2405</td>\n      <td>3516</td>\n      <td>7844</td>\n    </tr>\n    <tr>\n      <th>3</th>\n      <td>1</td>\n      <td>3</td>\n      <td>13265</td>\n      <td>1196</td>\n      <td>4221</td>\n      <td>6404</td>\n      <td>507</td>\n      <td>1788</td>\n    </tr>\n    <tr>\n      <th>4</th>\n      <td>2</td>\n      <td>3</td>\n      <td>22615</td>\n      <td>5410</td>\n      <td>7198</td>\n      <td>3915</td>\n      <td>1777</td>\n      <td>5185</td>\n    </tr>\n    <tr>\n      <th>...</th>\n      <td>...</td>\n      <td>...</td>\n      <td>...</td>\n      <td>...</td>\n      <td>...</td>\n      <td>...</td>\n      <td>...</td>\n      <td>...</td>\n    </tr>\n    <tr>\n      <th>435</th>\n      <td>1</td>\n      <td>3</td>\n      <td>29703</td>\n      <td>12051</td>\n      <td>16027</td>\n      <td>13135</td>\n      <td>182</td>\n      <td>2204</td>\n    </tr>\n    <tr>\n      <th>436</th>\n      <td>1</td>\n      <td>3</td>\n      <td>39228</td>\n      <td>1431</td>\n      <td>764</td>\n      <td>4510</td>\n      <td>93</td>\n      <td>2346</td>\n    </tr>\n    <tr>\n      <th>437</th>\n      <td>2</td>\n      <td>3</td>\n      <td>14531</td>\n      <td>15488</td>\n      <td>30243</td>\n      <td>437</td>\n      <td>14841</td>\n      <td>1867</td>\n    </tr>\n    <tr>\n      <th>438</th>\n      <td>1</td>\n      <td>3</td>\n      <td>10290</td>\n      <td>1981</td>\n      <td>2232</td>\n      <td>1038</td>\n      <td>168</td>\n      <td>2125</td>\n    </tr>\n    <tr>\n      <th>439</th>\n      <td>1</td>\n      <td>3</td>\n      <td>2787</td>\n      <td>1698</td>\n      <td>2510</td>\n      <td>65</td>\n      <td>477</td>\n      <td>52</td>\n    </tr>\n  </tbody>\n</table>\n<p>440 rows × 8 columns</p>\n</div>"
     },
     "execution_count": 9,
     "metadata": {},
     "output_type": "execute_result"
    }
   ],
   "source": [
    "df = pd.read_csv('data/Wholesale customers data.csv')\n",
    "columns = list(df.columns)\n",
    "df"
   ],
   "metadata": {
    "collapsed": false,
    "pycharm": {
     "name": "#%%\n"
    }
   }
  },
  {
   "cell_type": "code",
   "execution_count": 10,
   "outputs": [
    {
     "data": {
      "text/plain": "            0         1         2         3         4         5         6  \\\n0    1.448652  0.590668  0.052933  0.523568 -0.041115 -0.589367 -0.043569   \n1    1.448652  0.590668 -0.391302  0.544458  0.170318 -0.270136  0.086407   \n2    1.448652  0.590668 -0.447029  0.408538 -0.028157 -0.137536  0.133232   \n3   -0.690297  0.590668  0.100111 -0.624020 -0.392977  0.687144 -0.498588   \n4    1.448652  0.590668  0.840239 -0.052396 -0.079356  0.173859 -0.231918   \n..        ...       ...       ...       ...       ...       ...       ...   \n435 -0.690297  0.590668  1.401312  0.848446  0.850760  2.075222 -0.566831   \n436 -0.690297  0.590668  2.155293 -0.592142 -0.757165  0.296561 -0.585519   \n437  1.448652  0.590668  0.200326  1.314671  2.348386 -0.543380  2.511218   \n438 -0.690297  0.590668 -0.135384 -0.517536 -0.602514 -0.419441 -0.569770   \n439 -0.690297  0.590668 -0.729307 -0.555924 -0.573227 -0.620094 -0.504888   \n\n            7  \n0   -0.066339  \n1    0.089151  \n2    2.243293  \n3    0.093411  \n4    1.299347  \n..        ...  \n435  0.241091  \n436  0.291501  \n437  0.121456  \n438  0.213046  \n439 -0.522869  \n\n[440 rows x 8 columns]",
      "text/html": "<div>\n<style scoped>\n    .dataframe tbody tr th:only-of-type {\n        vertical-align: middle;\n    }\n\n    .dataframe tbody tr th {\n        vertical-align: top;\n    }\n\n    .dataframe thead th {\n        text-align: right;\n    }\n</style>\n<table border=\"1\" class=\"dataframe\">\n  <thead>\n    <tr style=\"text-align: right;\">\n      <th></th>\n      <th>0</th>\n      <th>1</th>\n      <th>2</th>\n      <th>3</th>\n      <th>4</th>\n      <th>5</th>\n      <th>6</th>\n      <th>7</th>\n    </tr>\n  </thead>\n  <tbody>\n    <tr>\n      <th>0</th>\n      <td>1.448652</td>\n      <td>0.590668</td>\n      <td>0.052933</td>\n      <td>0.523568</td>\n      <td>-0.041115</td>\n      <td>-0.589367</td>\n      <td>-0.043569</td>\n      <td>-0.066339</td>\n    </tr>\n    <tr>\n      <th>1</th>\n      <td>1.448652</td>\n      <td>0.590668</td>\n      <td>-0.391302</td>\n      <td>0.544458</td>\n      <td>0.170318</td>\n      <td>-0.270136</td>\n      <td>0.086407</td>\n      <td>0.089151</td>\n    </tr>\n    <tr>\n      <th>2</th>\n      <td>1.448652</td>\n      <td>0.590668</td>\n      <td>-0.447029</td>\n      <td>0.408538</td>\n      <td>-0.028157</td>\n      <td>-0.137536</td>\n      <td>0.133232</td>\n      <td>2.243293</td>\n    </tr>\n    <tr>\n      <th>3</th>\n      <td>-0.690297</td>\n      <td>0.590668</td>\n      <td>0.100111</td>\n      <td>-0.624020</td>\n      <td>-0.392977</td>\n      <td>0.687144</td>\n      <td>-0.498588</td>\n      <td>0.093411</td>\n    </tr>\n    <tr>\n      <th>4</th>\n      <td>1.448652</td>\n      <td>0.590668</td>\n      <td>0.840239</td>\n      <td>-0.052396</td>\n      <td>-0.079356</td>\n      <td>0.173859</td>\n      <td>-0.231918</td>\n      <td>1.299347</td>\n    </tr>\n    <tr>\n      <th>...</th>\n      <td>...</td>\n      <td>...</td>\n      <td>...</td>\n      <td>...</td>\n      <td>...</td>\n      <td>...</td>\n      <td>...</td>\n      <td>...</td>\n    </tr>\n    <tr>\n      <th>435</th>\n      <td>-0.690297</td>\n      <td>0.590668</td>\n      <td>1.401312</td>\n      <td>0.848446</td>\n      <td>0.850760</td>\n      <td>2.075222</td>\n      <td>-0.566831</td>\n      <td>0.241091</td>\n    </tr>\n    <tr>\n      <th>436</th>\n      <td>-0.690297</td>\n      <td>0.590668</td>\n      <td>2.155293</td>\n      <td>-0.592142</td>\n      <td>-0.757165</td>\n      <td>0.296561</td>\n      <td>-0.585519</td>\n      <td>0.291501</td>\n    </tr>\n    <tr>\n      <th>437</th>\n      <td>1.448652</td>\n      <td>0.590668</td>\n      <td>0.200326</td>\n      <td>1.314671</td>\n      <td>2.348386</td>\n      <td>-0.543380</td>\n      <td>2.511218</td>\n      <td>0.121456</td>\n    </tr>\n    <tr>\n      <th>438</th>\n      <td>-0.690297</td>\n      <td>0.590668</td>\n      <td>-0.135384</td>\n      <td>-0.517536</td>\n      <td>-0.602514</td>\n      <td>-0.419441</td>\n      <td>-0.569770</td>\n      <td>0.213046</td>\n    </tr>\n    <tr>\n      <th>439</th>\n      <td>-0.690297</td>\n      <td>0.590668</td>\n      <td>-0.729307</td>\n      <td>-0.555924</td>\n      <td>-0.573227</td>\n      <td>-0.620094</td>\n      <td>-0.504888</td>\n      <td>-0.522869</td>\n    </tr>\n  </tbody>\n</table>\n<p>440 rows × 8 columns</p>\n</div>"
     },
     "execution_count": 10,
     "metadata": {},
     "output_type": "execute_result"
    }
   ],
   "source": [
    "scaler = StandardScaler()\n",
    "df_scaled = scaler.fit_transform(df)\n",
    "df_scaled = pd.DataFrame(df_scaled)\n",
    "df_scaled"
   ],
   "metadata": {
    "collapsed": false,
    "pycharm": {
     "name": "#%%\n"
    }
   }
  },
  {
   "cell_type": "markdown",
   "metadata": {
    "id": "PMYdBxm7II6A",
    "pycharm": {
     "name": "#%% md\n"
    }
   },
   "source": [
    "## Расчет"
   ]
  },
  {
   "cell_type": "code",
   "metadata": {
    "id": "RIIxdPTpIIiB",
    "pycharm": {
     "name": "#%%\n"
    }
   },
   "source": [
    "hc = HeirarchicalClustering(cluster_count, rep_count, alpha)\n",
    "hc.fit(df_scaled.sample(100).values)\n",
    "predictions = hc.predict(df_scaled.values)"
   ],
   "execution_count": 41,
   "outputs": []
  },
  {
   "cell_type": "code",
   "execution_count": 42,
   "outputs": [],
   "source": [
    "centroids = [cluster.getMean() for cluster in hc.clusters]"
   ],
   "metadata": {
    "collapsed": false,
    "pycharm": {
     "name": "#%%\n"
    }
   }
  },
  {
   "cell_type": "code",
   "execution_count": 43,
   "outputs": [
    {
     "data": {
      "text/plain": "[array([-0.69029709, -1.99534212, -0.79508735, -0.66539277, -0.28710225,\n        -0.34829415, -0.60399652, -0.06988906]),\n array([ 1.44865163,  0.59066829, -0.79247513,  0.66382849,  1.21241984,\n        -0.58544895,  1.82585376,  0.22298614]),\n array([-0.01369086, -0.04264038,  0.17264202, -0.00978063, -0.04866554,\n         0.02026796, -0.09823124,  0.10773423])]"
     },
     "execution_count": 43,
     "metadata": {},
     "output_type": "execute_result"
    }
   ],
   "source": [
    "centroids"
   ],
   "metadata": {
    "collapsed": false,
    "pycharm": {
     "name": "#%%\n"
    }
   }
  },
  {
   "cell_type": "code",
   "execution_count": 44,
   "outputs": [],
   "source": [
    "from sklearn.manifold import TSNE\n",
    "import plotly.express as px"
   ],
   "metadata": {
    "collapsed": false,
    "pycharm": {
     "name": "#%%\n"
    }
   }
  },
  {
   "cell_type": "code",
   "execution_count": 45,
   "outputs": [],
   "source": [
    "def compress(df, centroids):\n",
    "    tsne = TSNE(n_components=2)\n",
    "    concat_df = pd.concat([df, pd.DataFrame(centroids)])\n",
    "    tnse_df = tsne.fit_transform(concat_df)\n",
    "\n",
    "    return pd.DataFrame(tnse_df[:-len(centroids)]), pd.DataFrame(tnse_df[-len(centroids):])"
   ],
   "metadata": {
    "collapsed": false,
    "pycharm": {
     "name": "#%%\n"
    }
   }
  },
  {
   "cell_type": "code",
   "execution_count": 46,
   "outputs": [
    {
     "name": "stderr",
     "output_type": "stream",
     "text": [
      "C:\\Anaconda\\lib\\site-packages\\sklearn\\manifold\\_t_sne.py:795: FutureWarning:\n",
      "\n",
      "The default initialization in TSNE will change from 'random' to 'pca' in 1.2.\n",
      "\n",
      "C:\\Anaconda\\lib\\site-packages\\sklearn\\manifold\\_t_sne.py:805: FutureWarning:\n",
      "\n",
      "The default learning rate in TSNE will change from 200.0 to 'auto' in 1.2.\n",
      "\n"
     ]
    }
   ],
   "source": [
    "tnse_df, tnse_centroids = compress(df_scaled, centroids)"
   ],
   "metadata": {
    "collapsed": false,
    "pycharm": {
     "name": "#%%\n"
    }
   }
  },
  {
   "cell_type": "code",
   "execution_count": 47,
   "outputs": [
    {
     "data": {
      "application/vnd.plotly.v1+json": {
       "data": [
        {
         "hovertemplate": "0=%{x}<br>1=%{y}<extra></extra>",
         "legendgroup": "",
         "marker": {
          "color": "#636efa",
          "symbol": "circle"
         },
         "mode": "markers",
         "name": "",
         "orientation": "v",
         "showlegend": false,
         "x": [
          -8.177833557128906,
          -6.7508416175842285,
          -11.815160751342773,
          9.729193687438965,
          -11.239590644836426,
          -7.584343433380127,
          -7.045470714569092,
          -6.350006580352783,
          13.209368705749512,
          -2.8326518535614014,
          -6.4822611808776855,
          -7.357914924621582,
          -11.988834381103516,
          -10.768081665039062,
          -11.346302032470703,
          13.0519437789917,
          -4.307509422302246,
          4.148051738739014,
          -10.453835487365723,
          12.818948745727539,
          -9.182662010192871,
          10.027785301208496,
          5.245828151702881,
          6.4312567710876465,
          -11.781237602233887,
          -7.666962623596191,
          9.106718063354492,
          7.195947170257568,
          4.849575519561768,
          0.10441534966230392,
          2.5273733139038086,
          11.599588394165039,
          3.8356399536132812,
          3.581542491912842,
          15.865540504455566,
          -3.7133991718292236,
          2.989017963409424,
          -5.89218807220459,
          -2.6809258460998535,
          0.8246201872825623,
          5.333932399749756,
          2.305631160736084,
          -5.193482398986816,
          -0.9588361382484436,
          -7.906405448913574,
          4.98410701751709,
          -2.2130324840545654,
          4.545251846313477,
          -8.066534996032715,
          2.3518807888031006,
          8.124712944030762,
          13.608452796936035,
          -13.603459358215332,
          -3.825261116027832,
          3.1467649936676025,
          13.153829574584961,
          3.19437313079834,
          -4.230345249176025,
          6.872230052947998,
          12.703089714050293,
          -6.064718246459961,
          4.144848346710205,
          -5.932760715484619,
          -4.082404136657715,
          8.900483131408691,
          2.8831706047058105,
          14.959007263183594,
          -10.429534912109375,
          6.338522434234619,
          12.902097702026367,
          9.542379379272461,
          3.375004768371582,
          12.175110816955566,
          -9.282026290893555,
          -6.93010950088501,
          5.881365776062012,
          6.601949214935303,
          0.9878278374671936,
          10.48085880279541,
          13.64983081817627,
          14.76894760131836,
          -2.736828327178955,
          -7.344786167144775,
          5.012209415435791,
          -6.756680965423584,
          3.5786044597625732,
          5.0642266273498535,
          3.366521120071411,
          11.445460319519043,
          3.5415124893188477,
          9.307896614074707,
          10.189762115478516,
          3.5022268295288086,
          10.19946002960205,
          -4.744476318359375,
          15.00416374206543,
          -3.6720151901245117,
          17.23310089111328,
          17.09062957763672,
          11.00173282623291,
          -6.074809551239014,
          -2.938936710357666,
          -5.158869743347168,
          1.310335636138916,
          5.717677593231201,
          6.819835662841797,
          -3.2819769382476807,
          -4.073447227478027,
          -4.663388729095459,
          -2.6135451793670654,
          9.886724472045898,
          -4.618507385253906,
          8.12289810180664,
          8.502930641174316,
          6.051543235778809,
          9.447038650512695,
          11.544272422790527,
          10.4630708694458,
          6.659029960632324,
          9.095880508422852,
          6.4553375244140625,
          11.767518997192383,
          9.485671043395996,
          -8.311509132385254,
          1.6143865585327148,
          0.8956621885299683,
          9.216375350952148,
          -10.632574081420898,
          10.827900886535645,
          0.36925405263900757,
          11.572647094726562,
          16.480323791503906,
          6.111327648162842,
          13.545068740844727,
          13.917509078979492,
          13.94761848449707,
          6.4956769943237305,
          11.041671752929688,
          2.9615540504455566,
          11.159161567687988,
          2.2549691200256348,
          0.5949059128761292,
          0.9040740132331848,
          10.978008270263672,
          4.572409629821777,
          0.6796025633811951,
          13.58833122253418,
          12.758583068847656,
          9.549087524414062,
          1.917904019355774,
          6.208158016204834,
          13.447503089904785,
          6.081279277801514,
          9.951136589050293,
          17.762170791625977,
          -0.022078365087509155,
          -2.5885813236236572,
          6.508272647857666,
          -4.747251987457275,
          -2.456263542175293,
          -3.626638650894165,
          10.836458206176758,
          7.195907115936279,
          1.4989737272262573,
          -5.465049743652344,
          -4.620486736297607,
          -5.599125385284424,
          13.937174797058105,
          13.851981163024902,
          11.698888778686523,
          -3.1023106575012207,
          5.1620707511901855,
          13.712066650390625,
          -0.9496248960494995,
          10.137492179870605,
          -4.529413223266602,
          0.9548245072364807,
          2.6761205196380615,
          8.80444049835205,
          6.991115570068359,
          2.5806868076324463,
          0.3503604829311371,
          13.535920143127441,
          3.3450844287872314,
          17.316370010375977,
          8.953336715698242,
          9.996040344238281,
          6.526423931121826,
          -5.38162899017334,
          -5.1143317222595215,
          8.791318893432617,
          7.49716329574585,
          14.804893493652344,
          -1.1339219808578491,
          14.818924903869629,
          8.096312522888184,
          -15.440916061401367,
          4.401161193847656,
          -19.866836547851562,
          -21.376066207885742,
          5.193073749542236,
          5.197721481323242,
          -19.85910987854004,
          -23.430755615234375,
          -23.471479415893555,
          5.074294090270996,
          -21.992341995239258,
          4.208958625793457,
          -24.91031837463379,
          4.769183158874512,
          -18.318164825439453,
          4.832463264465332,
          -22.225595474243164,
          -25.248075485229492,
          4.330329895019531,
          -25.902624130249023,
          5.405085563659668,
          -18.811298370361328,
          5.896263122558594,
          -22.124223709106445,
          -19.754104614257812,
          -25.668180465698242,
          -19.667749404907227,
          4.317653179168701,
          -21.861797332763672,
          -20.87195587158203,
          3.104020357131958,
          -22.529111862182617,
          -24.55268096923828,
          -19.358219146728516,
          4.253720283508301,
          -24.179845809936523,
          -17.712356567382812,
          -23.880441665649414,
          -17.724958419799805,
          -23.96200180053711,
          -20.953052520751953,
          -18.113943099975586,
          -21.56261444091797,
          -14.310303688049316,
          -15.951841354370117,
          -17.614229202270508,
          -18.738201141357422,
          -21.50140953063965,
          -25.409809112548828,
          5.046769618988037,
          -21.19260025024414,
          -20.01125144958496,
          -20.299476623535156,
          -19.8449764251709,
          -22.79318618774414,
          4.982356071472168,
          -18.910354614257812,
          -17.571487426757812,
          -23.869905471801758,
          -16.73672103881836,
          -21.541833877563477,
          -21.08531379699707,
          -14.12743854522705,
          -14.251364707946777,
          -22.091358184814453,
          -19.819143295288086,
          -18.261737823486328,
          -22.307292938232422,
          4.557831764221191,
          -23.899381637573242,
          5.35405158996582,
          -17.18253517150879,
          4.603031635284424,
          -19.517053604125977,
          -20.451231002807617,
          -23.295106887817383,
          -24.218809127807617,
          1.5054080486297607,
          14.659760475158691,
          16.1961727142334,
          3.419128179550171,
          11.057333946228027,
          10.103639602661133,
          -9.494423866271973,
          13.36649227142334,
          -8.173401832580566,
          0.6169446706771851,
          7.950972080230713,
          0.5320035219192505,
          -0.09592542797327042,
          12.405669212341309,
          9.715087890625,
          6.533698558807373,
          -0.3483428955078125,
          14.216447830200195,
          11.111783981323242,
          8.857105255126953,
          2.0563559532165527,
          -13.002303123474121,
          1.0431458950042725,
          -12.087580680847168,
          1.1935056447982788,
          1.3789095878601074,
          -10.590282440185547,
          0.6310146450996399,
          3.2421517372131348,
          1.4937864542007446,
          1.25192391872406,
          2.2685186862945557,
          1.973130226135254,
          3.241342782974243,
          -12.43929672241211,
          -11.255409240722656,
          2.3623311519622803,
          -7.310683250427246,
          -12.826665878295898,
          1.7474106550216675,
          -10.313445091247559,
          -12.132266998291016,
          1.9351141452789307,
          -10.70434284210205,
          -11.450465202331543,
          -11.556634902954102,
          3.852588176727295,
          -10.93554973602295,
          -11.23391342163086,
          -11.3218994140625,
          -12.881474494934082,
          -12.852161407470703,
          9.976991653442383,
          -10.171490669250488,
          -10.599937438964844,
          -8.996821403503418,
          -9.759530067443848,
          -10.829529762268066,
          3.526122808456421,
          -13.10427474975586,
          2.6396331787109375,
          4.229215145111084,
          0.10657860338687897,
          -12.201483726501465,
          -8.574193000793457,
          -6.742873668670654,
          -7.743710041046143,
          -2.7907233238220215,
          -4.048388957977295,
          13.646722793579102,
          1.371632695198059,
          12.809423446655273,
          14.601543426513672,
          -3.650603771209717,
          -11.237515449523926,
          13.857891082763672,
          0.3472311198711395,
          13.293285369873047,
          0.48908454179763794,
          16.559938430786133,
          -1.0058023929595947,
          7.909689903259277,
          17.240690231323242,
          4.8637824058532715,
          -0.9032987952232361,
          4.556855201721191,
          11.943028450012207,
          5.53524112701416,
          14.581793785095215,
          15.248307228088379,
          16.533815383911133,
          15.206854820251465,
          -5.675084114074707,
          12.332538604736328,
          14.841418266296387,
          4.335336208343506,
          14.357620239257812,
          -13.625130653381348,
          8.912107467651367,
          13.805484771728516,
          -9.821589469909668,
          13.061128616333008,
          15.154295921325684,
          -6.8922858238220215,
          0.6493337750434875,
          13.727533340454102,
          -4.676723003387451,
          3.8175208568573,
          9.066120147705078,
          2.326350688934326,
          9.562559127807617,
          4.1742448806762695,
          9.591628074645996,
          12.000619888305664,
          4.849294185638428,
          11.12728214263916,
          9.483811378479004,
          12.087321281433105,
          13.351903915405273,
          12.637836456298828,
          7.399393558502197,
          8.26988410949707,
          9.972319602966309,
          -6.517850875854492,
          10.708892822265625,
          10.770854949951172,
          11.254297256469727,
          9.549448013305664,
          8.102837562561035,
          2.1820194721221924,
          0.7203259468078613,
          7.096607685089111,
          12.067142486572266,
          7.499669075012207,
          -3.267251491546631,
          -6.266839981079102,
          3.750669479370117,
          15.869719505310059,
          4.446045875549316,
          14.449687957763672,
          10.640238761901855,
          7.737610816955566,
          -6.470560073852539,
          -4.27486515045166,
          12.786059379577637,
          -2.0330429077148438,
          14.979361534118652,
          13.07746410369873,
          -9.182843208312988,
          2.915137529373169,
          -8.14640998840332,
          -8.238991737365723,
          10.574926376342773,
          11.577058792114258,
          6.990264892578125,
          10.75805950164795,
          12.042055130004883,
          11.478747367858887,
          10.671451568603516,
          3.627875566482544,
          12.775988578796387,
          3.6319382190704346,
          6.876777648925781,
          1.115056037902832,
          1.469414472579956,
          11.474594116210938,
          16.54266929626465
         ],
         "xaxis": "x",
         "y": [
          -28.56393814086914,
          -30.047975540161133,
          -25.23517608642578,
          7.5362701416015625,
          -26.35135841369629,
          -28.018245697021484,
          -26.258092880249023,
          -29.12635612487793,
          28.39215850830078,
          -35.84550094604492,
          -33.02399444580078,
          -25.054718017578125,
          -28.27940559387207,
          -30.080488204956055,
          -28.55337905883789,
          16.204538345336914,
          -31.47442626953125,
          19.88420867919922,
          -27.109830856323242,
          29.392908096313477,
          -26.435020446777344,
          19.963943481445312,
          3.936293363571167,
          -36.471435546875,
          -26.52687644958496,
          -26.2673282623291,
          16.82512664794922,
          14.211623191833496,
          -36.71640396118164,
          6.840590000152588,
          16.05664825439453,
          24.94063377380371,
          11.980615615844727,
          6.013153553009033,
          23.597728729248047,
          -28.992183685302734,
          7.535991191864014,
          -35.01746368408203,
          -36.866817474365234,
          3.8438687324523926,
          3.8569765090942383,
          15.731864929199219,
          -34.56371307373047,
          -36.25748825073242,
          -30.600719451904297,
          -36.64597702026367,
          -36.821937561035156,
          -40.703800201416016,
          -30.035911560058594,
          -37.85393142700195,
          20.70034408569336,
          28.67597007751465,
          -27.996915817260742,
          -32.53061294555664,
          9.458622932434082,
          27.844161987304688,
          -38.35350036621094,
          -33.36079406738281,
          14.714594841003418,
          30.209896087646484,
          -26.22177505493164,
          -40.60847473144531,
          -27.790205001831055,
          -36.02874755859375,
          20.978933334350586,
          -39.535133361816406,
          29.897083282470703,
          -29.44059944152832,
          23.1771297454834,
          18.040145874023438,
          4.517249584197998,
          -0.6807736754417419,
          6.502345085144043,
          -24.597288131713867,
          -28.457420349121094,
          9.377427101135254,
          21.238740921020508,
          -37.881072998046875,
          16.379629135131836,
          25.751346588134766,
          18.671344757080078,
          -33.78086471557617,
          -29.60862159729004,
          10.869174003601074,
          -25.891515731811523,
          -41.03994369506836,
          -40.69012451171875,
          -0.64311683177948,
          5.784488677978516,
          7.299300670623779,
          16.35207748413086,
          5.958947658538818,
          -38.65903091430664,
          1.1230748891830444,
          -32.63656234741211,
          26.853979110717773,
          -27.79791831970215,
          22.235048294067383,
          21.90996742248535,
          8.702698707580566,
          -35.99870681762695,
          -35.029232025146484,
          -29.0151309967041,
          2.841764211654663,
          14.610058784484863,
          13.118218421936035,
          -31.024019241333008,
          -35.733863830566406,
          -28.513813018798828,
          -38.06782531738281,
          13.832545280456543,
          -36.115360260009766,
          5.14565896987915,
          12.342966079711914,
          11.674903869628906,
          16.055810928344727,
          16.045339584350586,
          25.091936111450195,
          8.815056800842285,
          18.314302444458008,
          11.941060066223145,
          22.21756935119629,
          14.930039405822754,
          -29.118135452270508,
          6.325268268585205,
          2.7590465545654297,
          5.523343563079834,
          -27.63085174560547,
          27.882658004760742,
          6.509153842926025,
          8.39958667755127,
          21.717864990234375,
          14.410232543945312,
          17.373313903808594,
          18.643238067626953,
          19.44068717956543,
          24.493175506591797,
          28.38943862915039,
          17.56946563720703,
          25.833776473999023,
          16.182706832885742,
          10.772712707519531,
          8.054220199584961,
          6.464704513549805,
          13.017171859741211,
          -38.90910339355469,
          18.497163772583008,
          17.202009201049805,
          19.4725399017334,
          8.929486274719238,
          13.272286415100098,
          25.17206573486328,
          10.725799560546875,
          27.260839462280273,
          22.168928146362305,
          -36.06278610229492,
          -31.20676040649414,
          10.679354667663574,
          -29.64394187927246,
          -33.654945373535156,
          -29.92934799194336,
          13.521844863891602,
          11.972738265991211,
          -37.46752166748047,
          -28.176742553710938,
          -37.087276458740234,
          -30.27073097229004,
          26.75493812561035,
          20.410171508789062,
          20.617572784423828,
          -33.31925582885742,
          -36.643394470214844,
          29.68318748474121,
          -35.15776443481445,
          23.39141845703125,
          -30.7182674407959,
          4.854275703430176,
          17.777992248535156,
          25.946805953979492,
          22.818004608154297,
          17.251731872558594,
          2.0171611309051514,
          31.832490921020508,
          -2.236142635345459,
          24.303735733032227,
          25.589223861694336,
          20.68326187133789,
          24.79298210144043,
          -33.935523986816406,
          -31.603151321411133,
          6.3712568283081055,
          14.93421459197998,
          19.604890823364258,
          -33.178802490234375,
          18.10087776184082,
          6.03162956237793,
          0.8784265518188477,
          -28.264060974121094,
          2.1175973415374756,
          3.5307955741882324,
          -31.73057746887207,
          -32.461822509765625,
          7.413267135620117,
          1.5053905248641968,
          2.3163537979125977,
          -31.198652267456055,
          2.357050895690918,
          -27.557886123657227,
          3.0973169803619385,
          -31.607704162597656,
          4.098459720611572,
          -38.85206604003906,
          3.2405893802642822,
          4.221113681793213,
          -28.577756881713867,
          5.460424423217773,
          -33.17726135253906,
          3.9370644092559814,
          -28.956344604492188,
          1.5140553712844849,
          3.743318796157837,
          4.616120338439941,
          -0.49297475814819336,
          -26.08810806274414,
          2.8118655681610107,
          4.251591205596924,
          -26.591482162475586,
          1.999192237854004,
          1.2639832496643066,
          0.2169950157403946,
          -25.63575553894043,
          5.1373066902160645,
          5.375154495239258,
          3.3677711486816406,
          2.845890522003174,
          3.938030958175659,
          2.215324640274048,
          3.0843167304992676,
          2.2207350730895996,
          5.025584697723389,
          1.0385218858718872,
          4.721644401550293,
          3.2325682640075684,
          5.274867534637451,
          5.107076644897461,
          -29.186363220214844,
          3.0042054653167725,
          3.2137553691864014,
          4.800023078918457,
          0.2782967984676361,
          2.493119478225708,
          -38.6761360168457,
          -0.17504847049713135,
          6.590547561645508,
          7.122344017028809,
          5.021297454833984,
          4.520950794219971,
          -0.049721404910087585,
          4.997213363647461,
          5.09683895111084,
          4.222375869750977,
          -0.20015554130077362,
          4.969879627227783,
          0.1491769701242447,
          -29.380138397216797,
          7.393282890319824,
          -29.96094512939453,
          3.4464921951293945,
          -30.073745727539062,
          3.1758782863616943,
          0.22189942002296448,
          3.64496111869812,
          4.670538902282715,
          6.227249622344971,
          24.26523780822754,
          22.393890380859375,
          6.8280558586120605,
          2.675245523452759,
          7.978031635284424,
          -27.88136863708496,
          24.128150939941406,
          -27.804330825805664,
          4.984527111053467,
          4.093724250793457,
          3.216723680496216,
          7.404335021972656,
          18.778276443481445,
          5.914603233337402,
          13.986268997192383,
          6.8896684646606445,
          25.09515380859375,
          22.592926025390625,
          22.254430770874023,
          -30.18145751953125,
          9.794302940368652,
          -27.1669979095459,
          9.876694679260254,
          -27.380474090576172,
          -27.88484764099121,
          13.914938926696777,
          -26.235300064086914,
          -33.015647888183594,
          -28.570240020751953,
          -29.169322967529297,
          -34.203067779541016,
          -30.26457977294922,
          -33.05839920043945,
          10.398735046386719,
          12.911123275756836,
          -31.906322479248047,
          9.178305625915527,
          8.402629852294922,
          -34.82634353637695,
          11.11394214630127,
          12.030444145202637,
          -30.965898513793945,
          12.242549896240234,
          13.722193717956543,
          11.267319679260254,
          -35.200172424316406,
          13.740351676940918,
          11.879778861999512,
          10.324522018432617,
          11.996238708496094,
          8.989375114440918,
          0.5865387320518494,
          12.33296012878418,
          13.86109733581543,
          9.680554389953613,
          11.484209060668945,
          11.469182014465332,
          -33.64326858520508,
          9.402596473693848,
          -40.35269546508789,
          -24.677824020385742,
          -25.626047134399414,
          10.976963996887207,
          9.832328796386719,
          8.890056610107422,
          9.51378059387207,
          -30.400066375732422,
          -30.294578552246094,
          30.463438034057617,
          -36.25688171386719,
          21.515459060668945,
          30.042098999023438,
          -34.1552619934082,
          -29.190380096435547,
          23.109758377075195,
          -37.19935989379883,
          22.0087890625,
          -36.18267059326172,
          22.7570743560791,
          -34.589298248291016,
          6.971261501312256,
          23.119319915771484,
          9.844813346862793,
          -33.21601104736328,
          23.81977081298828,
          26.554794311523438,
          10.83313274383545,
          20.88718032836914,
          23.466825485229492,
          25.31083106994629,
          22.212753295898438,
          -29.884408950805664,
          17.43886947631836,
          21.465734481811523,
          10.734387397766113,
          20.244062423706055,
          -27.962425231933594,
          5.420685291290283,
          13.979076385498047,
          -26.908109664916992,
          19.777921676635742,
          19.901416778564453,
          -33.033573150634766,
          7.319852828979492,
          24.451522827148438,
          -26.894453048706055,
          9.151939392089844,
          4.748377323150635,
          7.403034210205078,
          21.535974502563477,
          23.866498947143555,
          15.158613204956055,
          24.598556518554688,
          11.270938873291016,
          17.00167465209961,
          17.32536506652832,
          10.733559608459473,
          24.894229888916016,
          26.219837188720703,
          4.8567376136779785,
          14.942611694335938,
          17.32179832458496,
          -31.043472290039062,
          7.566684722900391,
          9.009612083435059,
          17.280372619628906,
          20.356657028198242,
          3.3805270195007324,
          10.89648723602295,
          10.930187225341797,
          9.57827377319336,
          19.48298454284668,
          4.2706122398376465,
          -36.485435485839844,
          -26.657697677612305,
          19.492374420166016,
          16.54515266418457,
          20.11388397216797,
          30.65699005126953,
          2.366342782974243,
          19.133150100708008,
          -28.837421417236328,
          -33.18178176879883,
          30.642690658569336,
          -34.43893814086914,
          16.14015769958496,
          31.798126220703125,
          -27.372150421142578,
          10.355355262756348,
          -25.570716857910156,
          -26.427095413208008,
          2.8964736461639404,
          32.182586669921875,
          2.304833173751831,
          26.600658416748047,
          13.766815185546875,
          30.490549087524414,
          3.333028793334961,
          12.350570678710938,
          24.522844314575195,
          14.68854808807373,
          2.3523144721984863,
          6.114078998565674,
          -38.29484176635742,
          13.722535133361816,
          23.764739990234375
         ],
         "yaxis": "y",
         "type": "scatter"
        },
        {
         "x": [
          -23.471479415893555,
          -0.0217471644282341,
          1.0328166484832764
         ],
         "y": [
          2.3163537979125977,
          -36.0621452331543,
          16.290647506713867
         ],
         "type": "scatter"
        }
       ],
       "layout": {
        "template": {
         "data": {
          "histogram2dcontour": [
           {
            "type": "histogram2dcontour",
            "colorbar": {
             "outlinewidth": 0,
             "ticks": ""
            },
            "colorscale": [
             [
              0.0,
              "#0d0887"
             ],
             [
              0.1111111111111111,
              "#46039f"
             ],
             [
              0.2222222222222222,
              "#7201a8"
             ],
             [
              0.3333333333333333,
              "#9c179e"
             ],
             [
              0.4444444444444444,
              "#bd3786"
             ],
             [
              0.5555555555555556,
              "#d8576b"
             ],
             [
              0.6666666666666666,
              "#ed7953"
             ],
             [
              0.7777777777777778,
              "#fb9f3a"
             ],
             [
              0.8888888888888888,
              "#fdca26"
             ],
             [
              1.0,
              "#f0f921"
             ]
            ]
           }
          ],
          "choropleth": [
           {
            "type": "choropleth",
            "colorbar": {
             "outlinewidth": 0,
             "ticks": ""
            }
           }
          ],
          "histogram2d": [
           {
            "type": "histogram2d",
            "colorbar": {
             "outlinewidth": 0,
             "ticks": ""
            },
            "colorscale": [
             [
              0.0,
              "#0d0887"
             ],
             [
              0.1111111111111111,
              "#46039f"
             ],
             [
              0.2222222222222222,
              "#7201a8"
             ],
             [
              0.3333333333333333,
              "#9c179e"
             ],
             [
              0.4444444444444444,
              "#bd3786"
             ],
             [
              0.5555555555555556,
              "#d8576b"
             ],
             [
              0.6666666666666666,
              "#ed7953"
             ],
             [
              0.7777777777777778,
              "#fb9f3a"
             ],
             [
              0.8888888888888888,
              "#fdca26"
             ],
             [
              1.0,
              "#f0f921"
             ]
            ]
           }
          ],
          "heatmap": [
           {
            "type": "heatmap",
            "colorbar": {
             "outlinewidth": 0,
             "ticks": ""
            },
            "colorscale": [
             [
              0.0,
              "#0d0887"
             ],
             [
              0.1111111111111111,
              "#46039f"
             ],
             [
              0.2222222222222222,
              "#7201a8"
             ],
             [
              0.3333333333333333,
              "#9c179e"
             ],
             [
              0.4444444444444444,
              "#bd3786"
             ],
             [
              0.5555555555555556,
              "#d8576b"
             ],
             [
              0.6666666666666666,
              "#ed7953"
             ],
             [
              0.7777777777777778,
              "#fb9f3a"
             ],
             [
              0.8888888888888888,
              "#fdca26"
             ],
             [
              1.0,
              "#f0f921"
             ]
            ]
           }
          ],
          "heatmapgl": [
           {
            "type": "heatmapgl",
            "colorbar": {
             "outlinewidth": 0,
             "ticks": ""
            },
            "colorscale": [
             [
              0.0,
              "#0d0887"
             ],
             [
              0.1111111111111111,
              "#46039f"
             ],
             [
              0.2222222222222222,
              "#7201a8"
             ],
             [
              0.3333333333333333,
              "#9c179e"
             ],
             [
              0.4444444444444444,
              "#bd3786"
             ],
             [
              0.5555555555555556,
              "#d8576b"
             ],
             [
              0.6666666666666666,
              "#ed7953"
             ],
             [
              0.7777777777777778,
              "#fb9f3a"
             ],
             [
              0.8888888888888888,
              "#fdca26"
             ],
             [
              1.0,
              "#f0f921"
             ]
            ]
           }
          ],
          "contourcarpet": [
           {
            "type": "contourcarpet",
            "colorbar": {
             "outlinewidth": 0,
             "ticks": ""
            }
           }
          ],
          "contour": [
           {
            "type": "contour",
            "colorbar": {
             "outlinewidth": 0,
             "ticks": ""
            },
            "colorscale": [
             [
              0.0,
              "#0d0887"
             ],
             [
              0.1111111111111111,
              "#46039f"
             ],
             [
              0.2222222222222222,
              "#7201a8"
             ],
             [
              0.3333333333333333,
              "#9c179e"
             ],
             [
              0.4444444444444444,
              "#bd3786"
             ],
             [
              0.5555555555555556,
              "#d8576b"
             ],
             [
              0.6666666666666666,
              "#ed7953"
             ],
             [
              0.7777777777777778,
              "#fb9f3a"
             ],
             [
              0.8888888888888888,
              "#fdca26"
             ],
             [
              1.0,
              "#f0f921"
             ]
            ]
           }
          ],
          "surface": [
           {
            "type": "surface",
            "colorbar": {
             "outlinewidth": 0,
             "ticks": ""
            },
            "colorscale": [
             [
              0.0,
              "#0d0887"
             ],
             [
              0.1111111111111111,
              "#46039f"
             ],
             [
              0.2222222222222222,
              "#7201a8"
             ],
             [
              0.3333333333333333,
              "#9c179e"
             ],
             [
              0.4444444444444444,
              "#bd3786"
             ],
             [
              0.5555555555555556,
              "#d8576b"
             ],
             [
              0.6666666666666666,
              "#ed7953"
             ],
             [
              0.7777777777777778,
              "#fb9f3a"
             ],
             [
              0.8888888888888888,
              "#fdca26"
             ],
             [
              1.0,
              "#f0f921"
             ]
            ]
           }
          ],
          "mesh3d": [
           {
            "type": "mesh3d",
            "colorbar": {
             "outlinewidth": 0,
             "ticks": ""
            }
           }
          ],
          "scatter": [
           {
            "marker": {
             "line": {
              "color": "#283442"
             }
            },
            "type": "scatter"
           }
          ],
          "parcoords": [
           {
            "type": "parcoords",
            "line": {
             "colorbar": {
              "outlinewidth": 0,
              "ticks": ""
             }
            }
           }
          ],
          "scatterpolargl": [
           {
            "type": "scatterpolargl",
            "marker": {
             "colorbar": {
              "outlinewidth": 0,
              "ticks": ""
             }
            }
           }
          ],
          "bar": [
           {
            "error_x": {
             "color": "#f2f5fa"
            },
            "error_y": {
             "color": "#f2f5fa"
            },
            "marker": {
             "line": {
              "color": "rgb(17,17,17)",
              "width": 0.5
             },
             "pattern": {
              "fillmode": "overlay",
              "size": 10,
              "solidity": 0.2
             }
            },
            "type": "bar"
           }
          ],
          "scattergeo": [
           {
            "type": "scattergeo",
            "marker": {
             "colorbar": {
              "outlinewidth": 0,
              "ticks": ""
             }
            }
           }
          ],
          "scatterpolar": [
           {
            "type": "scatterpolar",
            "marker": {
             "colorbar": {
              "outlinewidth": 0,
              "ticks": ""
             }
            }
           }
          ],
          "histogram": [
           {
            "marker": {
             "pattern": {
              "fillmode": "overlay",
              "size": 10,
              "solidity": 0.2
             }
            },
            "type": "histogram"
           }
          ],
          "scattergl": [
           {
            "marker": {
             "line": {
              "color": "#283442"
             }
            },
            "type": "scattergl"
           }
          ],
          "scatter3d": [
           {
            "type": "scatter3d",
            "line": {
             "colorbar": {
              "outlinewidth": 0,
              "ticks": ""
             }
            },
            "marker": {
             "colorbar": {
              "outlinewidth": 0,
              "ticks": ""
             }
            }
           }
          ],
          "scattermapbox": [
           {
            "type": "scattermapbox",
            "marker": {
             "colorbar": {
              "outlinewidth": 0,
              "ticks": ""
             }
            }
           }
          ],
          "scatterternary": [
           {
            "type": "scatterternary",
            "marker": {
             "colorbar": {
              "outlinewidth": 0,
              "ticks": ""
             }
            }
           }
          ],
          "scattercarpet": [
           {
            "type": "scattercarpet",
            "marker": {
             "colorbar": {
              "outlinewidth": 0,
              "ticks": ""
             }
            }
           }
          ],
          "carpet": [
           {
            "aaxis": {
             "endlinecolor": "#A2B1C6",
             "gridcolor": "#506784",
             "linecolor": "#506784",
             "minorgridcolor": "#506784",
             "startlinecolor": "#A2B1C6"
            },
            "baxis": {
             "endlinecolor": "#A2B1C6",
             "gridcolor": "#506784",
             "linecolor": "#506784",
             "minorgridcolor": "#506784",
             "startlinecolor": "#A2B1C6"
            },
            "type": "carpet"
           }
          ],
          "table": [
           {
            "cells": {
             "fill": {
              "color": "#506784"
             },
             "line": {
              "color": "rgb(17,17,17)"
             }
            },
            "header": {
             "fill": {
              "color": "#2a3f5f"
             },
             "line": {
              "color": "rgb(17,17,17)"
             }
            },
            "type": "table"
           }
          ],
          "barpolar": [
           {
            "marker": {
             "line": {
              "color": "rgb(17,17,17)",
              "width": 0.5
             },
             "pattern": {
              "fillmode": "overlay",
              "size": 10,
              "solidity": 0.2
             }
            },
            "type": "barpolar"
           }
          ],
          "pie": [
           {
            "automargin": true,
            "type": "pie"
           }
          ]
         },
         "layout": {
          "autotypenumbers": "strict",
          "colorway": [
           "#636efa",
           "#EF553B",
           "#00cc96",
           "#ab63fa",
           "#FFA15A",
           "#19d3f3",
           "#FF6692",
           "#B6E880",
           "#FF97FF",
           "#FECB52"
          ],
          "font": {
           "color": "#f2f5fa"
          },
          "hovermode": "closest",
          "hoverlabel": {
           "align": "left"
          },
          "paper_bgcolor": "rgb(17,17,17)",
          "plot_bgcolor": "rgb(17,17,17)",
          "polar": {
           "bgcolor": "rgb(17,17,17)",
           "angularaxis": {
            "gridcolor": "#506784",
            "linecolor": "#506784",
            "ticks": ""
           },
           "radialaxis": {
            "gridcolor": "#506784",
            "linecolor": "#506784",
            "ticks": ""
           }
          },
          "ternary": {
           "bgcolor": "rgb(17,17,17)",
           "aaxis": {
            "gridcolor": "#506784",
            "linecolor": "#506784",
            "ticks": ""
           },
           "baxis": {
            "gridcolor": "#506784",
            "linecolor": "#506784",
            "ticks": ""
           },
           "caxis": {
            "gridcolor": "#506784",
            "linecolor": "#506784",
            "ticks": ""
           }
          },
          "coloraxis": {
           "colorbar": {
            "outlinewidth": 0,
            "ticks": ""
           }
          },
          "colorscale": {
           "sequential": [
            [
             0.0,
             "#0d0887"
            ],
            [
             0.1111111111111111,
             "#46039f"
            ],
            [
             0.2222222222222222,
             "#7201a8"
            ],
            [
             0.3333333333333333,
             "#9c179e"
            ],
            [
             0.4444444444444444,
             "#bd3786"
            ],
            [
             0.5555555555555556,
             "#d8576b"
            ],
            [
             0.6666666666666666,
             "#ed7953"
            ],
            [
             0.7777777777777778,
             "#fb9f3a"
            ],
            [
             0.8888888888888888,
             "#fdca26"
            ],
            [
             1.0,
             "#f0f921"
            ]
           ],
           "sequentialminus": [
            [
             0.0,
             "#0d0887"
            ],
            [
             0.1111111111111111,
             "#46039f"
            ],
            [
             0.2222222222222222,
             "#7201a8"
            ],
            [
             0.3333333333333333,
             "#9c179e"
            ],
            [
             0.4444444444444444,
             "#bd3786"
            ],
            [
             0.5555555555555556,
             "#d8576b"
            ],
            [
             0.6666666666666666,
             "#ed7953"
            ],
            [
             0.7777777777777778,
             "#fb9f3a"
            ],
            [
             0.8888888888888888,
             "#fdca26"
            ],
            [
             1.0,
             "#f0f921"
            ]
           ],
           "diverging": [
            [
             0,
             "#8e0152"
            ],
            [
             0.1,
             "#c51b7d"
            ],
            [
             0.2,
             "#de77ae"
            ],
            [
             0.3,
             "#f1b6da"
            ],
            [
             0.4,
             "#fde0ef"
            ],
            [
             0.5,
             "#f7f7f7"
            ],
            [
             0.6,
             "#e6f5d0"
            ],
            [
             0.7,
             "#b8e186"
            ],
            [
             0.8,
             "#7fbc41"
            ],
            [
             0.9,
             "#4d9221"
            ],
            [
             1,
             "#276419"
            ]
           ]
          },
          "xaxis": {
           "gridcolor": "#283442",
           "linecolor": "#506784",
           "ticks": "",
           "title": {
            "standoff": 15
           },
           "zerolinecolor": "#283442",
           "automargin": true,
           "zerolinewidth": 2
          },
          "yaxis": {
           "gridcolor": "#283442",
           "linecolor": "#506784",
           "ticks": "",
           "title": {
            "standoff": 15
           },
           "zerolinecolor": "#283442",
           "automargin": true,
           "zerolinewidth": 2
          },
          "scene": {
           "xaxis": {
            "backgroundcolor": "rgb(17,17,17)",
            "gridcolor": "#506784",
            "linecolor": "#506784",
            "showbackground": true,
            "ticks": "",
            "zerolinecolor": "#C8D4E3",
            "gridwidth": 2
           },
           "yaxis": {
            "backgroundcolor": "rgb(17,17,17)",
            "gridcolor": "#506784",
            "linecolor": "#506784",
            "showbackground": true,
            "ticks": "",
            "zerolinecolor": "#C8D4E3",
            "gridwidth": 2
           },
           "zaxis": {
            "backgroundcolor": "rgb(17,17,17)",
            "gridcolor": "#506784",
            "linecolor": "#506784",
            "showbackground": true,
            "ticks": "",
            "zerolinecolor": "#C8D4E3",
            "gridwidth": 2
           }
          },
          "shapedefaults": {
           "line": {
            "color": "#f2f5fa"
           }
          },
          "annotationdefaults": {
           "arrowcolor": "#f2f5fa",
           "arrowhead": 0,
           "arrowwidth": 1
          },
          "geo": {
           "bgcolor": "rgb(17,17,17)",
           "landcolor": "rgb(17,17,17)",
           "subunitcolor": "#506784",
           "showland": true,
           "showlakes": true,
           "lakecolor": "rgb(17,17,17)"
          },
          "title": {
           "x": 0.05
          },
          "updatemenudefaults": {
           "bgcolor": "#506784",
           "borderwidth": 0
          },
          "sliderdefaults": {
           "bgcolor": "#C8D4E3",
           "borderwidth": 1,
           "bordercolor": "rgb(17,17,17)",
           "tickwidth": 0
          },
          "mapbox": {
           "style": "dark"
          }
         }
        },
        "xaxis": {
         "anchor": "y",
         "domain": [
          0.0,
          1.0
         ],
         "title": {
          "text": "0"
         }
        },
        "yaxis": {
         "anchor": "x",
         "domain": [
          0.0,
          1.0
         ],
         "title": {
          "text": "1"
         }
        },
        "legend": {
         "tracegroupgap": 0
        },
        "margin": {
         "t": 60
        }
       },
       "config": {
        "plotlyServerURL": "https://plot.ly"
       }
      },
      "text/html": "<div>                            <div id=\"083959a6-0195-4723-9f0b-2485208b4af0\" class=\"plotly-graph-div\" style=\"height:525px; width:100%;\"></div>            <script type=\"text/javascript\">                require([\"plotly\"], function(Plotly) {                    window.PLOTLYENV=window.PLOTLYENV || {};                                    if (document.getElementById(\"083959a6-0195-4723-9f0b-2485208b4af0\")) {                    Plotly.newPlot(                        \"083959a6-0195-4723-9f0b-2485208b4af0\",                        [{\"hovertemplate\":\"0=%{x}<br>1=%{y}<extra></extra>\",\"legendgroup\":\"\",\"marker\":{\"color\":\"#636efa\",\"symbol\":\"circle\"},\"mode\":\"markers\",\"name\":\"\",\"orientation\":\"v\",\"showlegend\":false,\"x\":[-8.177833557128906,-6.7508416175842285,-11.815160751342773,9.729193687438965,-11.239590644836426,-7.584343433380127,-7.045470714569092,-6.350006580352783,13.209368705749512,-2.8326518535614014,-6.4822611808776855,-7.357914924621582,-11.988834381103516,-10.768081665039062,-11.346302032470703,13.0519437789917,-4.307509422302246,4.148051738739014,-10.453835487365723,12.818948745727539,-9.182662010192871,10.027785301208496,5.245828151702881,6.4312567710876465,-11.781237602233887,-7.666962623596191,9.106718063354492,7.195947170257568,4.849575519561768,0.10441534966230392,2.5273733139038086,11.599588394165039,3.8356399536132812,3.581542491912842,15.865540504455566,-3.7133991718292236,2.989017963409424,-5.89218807220459,-2.6809258460998535,0.8246201872825623,5.333932399749756,2.305631160736084,-5.193482398986816,-0.9588361382484436,-7.906405448913574,4.98410701751709,-2.2130324840545654,4.545251846313477,-8.066534996032715,2.3518807888031006,8.124712944030762,13.608452796936035,-13.603459358215332,-3.825261116027832,3.1467649936676025,13.153829574584961,3.19437313079834,-4.230345249176025,6.872230052947998,12.703089714050293,-6.064718246459961,4.144848346710205,-5.932760715484619,-4.082404136657715,8.900483131408691,2.8831706047058105,14.959007263183594,-10.429534912109375,6.338522434234619,12.902097702026367,9.542379379272461,3.375004768371582,12.175110816955566,-9.282026290893555,-6.93010950088501,5.881365776062012,6.601949214935303,0.9878278374671936,10.48085880279541,13.64983081817627,14.76894760131836,-2.736828327178955,-7.344786167144775,5.012209415435791,-6.756680965423584,3.5786044597625732,5.0642266273498535,3.366521120071411,11.445460319519043,3.5415124893188477,9.307896614074707,10.189762115478516,3.5022268295288086,10.19946002960205,-4.744476318359375,15.00416374206543,-3.6720151901245117,17.23310089111328,17.09062957763672,11.00173282623291,-6.074809551239014,-2.938936710357666,-5.158869743347168,1.310335636138916,5.717677593231201,6.819835662841797,-3.2819769382476807,-4.073447227478027,-4.663388729095459,-2.6135451793670654,9.886724472045898,-4.618507385253906,8.12289810180664,8.502930641174316,6.051543235778809,9.447038650512695,11.544272422790527,10.4630708694458,6.659029960632324,9.095880508422852,6.4553375244140625,11.767518997192383,9.485671043395996,-8.311509132385254,1.6143865585327148,0.8956621885299683,9.216375350952148,-10.632574081420898,10.827900886535645,0.36925405263900757,11.572647094726562,16.480323791503906,6.111327648162842,13.545068740844727,13.917509078979492,13.94761848449707,6.4956769943237305,11.041671752929688,2.9615540504455566,11.159161567687988,2.2549691200256348,0.5949059128761292,0.9040740132331848,10.978008270263672,4.572409629821777,0.6796025633811951,13.58833122253418,12.758583068847656,9.549087524414062,1.917904019355774,6.208158016204834,13.447503089904785,6.081279277801514,9.951136589050293,17.762170791625977,-0.022078365087509155,-2.5885813236236572,6.508272647857666,-4.747251987457275,-2.456263542175293,-3.626638650894165,10.836458206176758,7.195907115936279,1.4989737272262573,-5.465049743652344,-4.620486736297607,-5.599125385284424,13.937174797058105,13.851981163024902,11.698888778686523,-3.1023106575012207,5.1620707511901855,13.712066650390625,-0.9496248960494995,10.137492179870605,-4.529413223266602,0.9548245072364807,2.6761205196380615,8.80444049835205,6.991115570068359,2.5806868076324463,0.3503604829311371,13.535920143127441,3.3450844287872314,17.316370010375977,8.953336715698242,9.996040344238281,6.526423931121826,-5.38162899017334,-5.1143317222595215,8.791318893432617,7.49716329574585,14.804893493652344,-1.1339219808578491,14.818924903869629,8.096312522888184,-15.440916061401367,4.401161193847656,-19.866836547851562,-21.376066207885742,5.193073749542236,5.197721481323242,-19.85910987854004,-23.430755615234375,-23.471479415893555,5.074294090270996,-21.992341995239258,4.208958625793457,-24.91031837463379,4.769183158874512,-18.318164825439453,4.832463264465332,-22.225595474243164,-25.248075485229492,4.330329895019531,-25.902624130249023,5.405085563659668,-18.811298370361328,5.896263122558594,-22.124223709106445,-19.754104614257812,-25.668180465698242,-19.667749404907227,4.317653179168701,-21.861797332763672,-20.87195587158203,3.104020357131958,-22.529111862182617,-24.55268096923828,-19.358219146728516,4.253720283508301,-24.179845809936523,-17.712356567382812,-23.880441665649414,-17.724958419799805,-23.96200180053711,-20.953052520751953,-18.113943099975586,-21.56261444091797,-14.310303688049316,-15.951841354370117,-17.614229202270508,-18.738201141357422,-21.50140953063965,-25.409809112548828,5.046769618988037,-21.19260025024414,-20.01125144958496,-20.299476623535156,-19.8449764251709,-22.79318618774414,4.982356071472168,-18.910354614257812,-17.571487426757812,-23.869905471801758,-16.73672103881836,-21.541833877563477,-21.08531379699707,-14.12743854522705,-14.251364707946777,-22.091358184814453,-19.819143295288086,-18.261737823486328,-22.307292938232422,4.557831764221191,-23.899381637573242,5.35405158996582,-17.18253517150879,4.603031635284424,-19.517053604125977,-20.451231002807617,-23.295106887817383,-24.218809127807617,1.5054080486297607,14.659760475158691,16.1961727142334,3.419128179550171,11.057333946228027,10.103639602661133,-9.494423866271973,13.36649227142334,-8.173401832580566,0.6169446706771851,7.950972080230713,0.5320035219192505,-0.09592542797327042,12.405669212341309,9.715087890625,6.533698558807373,-0.3483428955078125,14.216447830200195,11.111783981323242,8.857105255126953,2.0563559532165527,-13.002303123474121,1.0431458950042725,-12.087580680847168,1.1935056447982788,1.3789095878601074,-10.590282440185547,0.6310146450996399,3.2421517372131348,1.4937864542007446,1.25192391872406,2.2685186862945557,1.973130226135254,3.241342782974243,-12.43929672241211,-11.255409240722656,2.3623311519622803,-7.310683250427246,-12.826665878295898,1.7474106550216675,-10.313445091247559,-12.132266998291016,1.9351141452789307,-10.70434284210205,-11.450465202331543,-11.556634902954102,3.852588176727295,-10.93554973602295,-11.23391342163086,-11.3218994140625,-12.881474494934082,-12.852161407470703,9.976991653442383,-10.171490669250488,-10.599937438964844,-8.996821403503418,-9.759530067443848,-10.829529762268066,3.526122808456421,-13.10427474975586,2.6396331787109375,4.229215145111084,0.10657860338687897,-12.201483726501465,-8.574193000793457,-6.742873668670654,-7.743710041046143,-2.7907233238220215,-4.048388957977295,13.646722793579102,1.371632695198059,12.809423446655273,14.601543426513672,-3.650603771209717,-11.237515449523926,13.857891082763672,0.3472311198711395,13.293285369873047,0.48908454179763794,16.559938430786133,-1.0058023929595947,7.909689903259277,17.240690231323242,4.8637824058532715,-0.9032987952232361,4.556855201721191,11.943028450012207,5.53524112701416,14.581793785095215,15.248307228088379,16.533815383911133,15.206854820251465,-5.675084114074707,12.332538604736328,14.841418266296387,4.335336208343506,14.357620239257812,-13.625130653381348,8.912107467651367,13.805484771728516,-9.821589469909668,13.061128616333008,15.154295921325684,-6.8922858238220215,0.6493337750434875,13.727533340454102,-4.676723003387451,3.8175208568573,9.066120147705078,2.326350688934326,9.562559127807617,4.1742448806762695,9.591628074645996,12.000619888305664,4.849294185638428,11.12728214263916,9.483811378479004,12.087321281433105,13.351903915405273,12.637836456298828,7.399393558502197,8.26988410949707,9.972319602966309,-6.517850875854492,10.708892822265625,10.770854949951172,11.254297256469727,9.549448013305664,8.102837562561035,2.1820194721221924,0.7203259468078613,7.096607685089111,12.067142486572266,7.499669075012207,-3.267251491546631,-6.266839981079102,3.750669479370117,15.869719505310059,4.446045875549316,14.449687957763672,10.640238761901855,7.737610816955566,-6.470560073852539,-4.27486515045166,12.786059379577637,-2.0330429077148438,14.979361534118652,13.07746410369873,-9.182843208312988,2.915137529373169,-8.14640998840332,-8.238991737365723,10.574926376342773,11.577058792114258,6.990264892578125,10.75805950164795,12.042055130004883,11.478747367858887,10.671451568603516,3.627875566482544,12.775988578796387,3.6319382190704346,6.876777648925781,1.115056037902832,1.469414472579956,11.474594116210938,16.54266929626465],\"xaxis\":\"x\",\"y\":[-28.56393814086914,-30.047975540161133,-25.23517608642578,7.5362701416015625,-26.35135841369629,-28.018245697021484,-26.258092880249023,-29.12635612487793,28.39215850830078,-35.84550094604492,-33.02399444580078,-25.054718017578125,-28.27940559387207,-30.080488204956055,-28.55337905883789,16.204538345336914,-31.47442626953125,19.88420867919922,-27.109830856323242,29.392908096313477,-26.435020446777344,19.963943481445312,3.936293363571167,-36.471435546875,-26.52687644958496,-26.2673282623291,16.82512664794922,14.211623191833496,-36.71640396118164,6.840590000152588,16.05664825439453,24.94063377380371,11.980615615844727,6.013153553009033,23.597728729248047,-28.992183685302734,7.535991191864014,-35.01746368408203,-36.866817474365234,3.8438687324523926,3.8569765090942383,15.731864929199219,-34.56371307373047,-36.25748825073242,-30.600719451904297,-36.64597702026367,-36.821937561035156,-40.703800201416016,-30.035911560058594,-37.85393142700195,20.70034408569336,28.67597007751465,-27.996915817260742,-32.53061294555664,9.458622932434082,27.844161987304688,-38.35350036621094,-33.36079406738281,14.714594841003418,30.209896087646484,-26.22177505493164,-40.60847473144531,-27.790205001831055,-36.02874755859375,20.978933334350586,-39.535133361816406,29.897083282470703,-29.44059944152832,23.1771297454834,18.040145874023438,4.517249584197998,-0.6807736754417419,6.502345085144043,-24.597288131713867,-28.457420349121094,9.377427101135254,21.238740921020508,-37.881072998046875,16.379629135131836,25.751346588134766,18.671344757080078,-33.78086471557617,-29.60862159729004,10.869174003601074,-25.891515731811523,-41.03994369506836,-40.69012451171875,-0.64311683177948,5.784488677978516,7.299300670623779,16.35207748413086,5.958947658538818,-38.65903091430664,1.1230748891830444,-32.63656234741211,26.853979110717773,-27.79791831970215,22.235048294067383,21.90996742248535,8.702698707580566,-35.99870681762695,-35.029232025146484,-29.0151309967041,2.841764211654663,14.610058784484863,13.118218421936035,-31.024019241333008,-35.733863830566406,-28.513813018798828,-38.06782531738281,13.832545280456543,-36.115360260009766,5.14565896987915,12.342966079711914,11.674903869628906,16.055810928344727,16.045339584350586,25.091936111450195,8.815056800842285,18.314302444458008,11.941060066223145,22.21756935119629,14.930039405822754,-29.118135452270508,6.325268268585205,2.7590465545654297,5.523343563079834,-27.63085174560547,27.882658004760742,6.509153842926025,8.39958667755127,21.717864990234375,14.410232543945312,17.373313903808594,18.643238067626953,19.44068717956543,24.493175506591797,28.38943862915039,17.56946563720703,25.833776473999023,16.182706832885742,10.772712707519531,8.054220199584961,6.464704513549805,13.017171859741211,-38.90910339355469,18.497163772583008,17.202009201049805,19.4725399017334,8.929486274719238,13.272286415100098,25.17206573486328,10.725799560546875,27.260839462280273,22.168928146362305,-36.06278610229492,-31.20676040649414,10.679354667663574,-29.64394187927246,-33.654945373535156,-29.92934799194336,13.521844863891602,11.972738265991211,-37.46752166748047,-28.176742553710938,-37.087276458740234,-30.27073097229004,26.75493812561035,20.410171508789062,20.617572784423828,-33.31925582885742,-36.643394470214844,29.68318748474121,-35.15776443481445,23.39141845703125,-30.7182674407959,4.854275703430176,17.777992248535156,25.946805953979492,22.818004608154297,17.251731872558594,2.0171611309051514,31.832490921020508,-2.236142635345459,24.303735733032227,25.589223861694336,20.68326187133789,24.79298210144043,-33.935523986816406,-31.603151321411133,6.3712568283081055,14.93421459197998,19.604890823364258,-33.178802490234375,18.10087776184082,6.03162956237793,0.8784265518188477,-28.264060974121094,2.1175973415374756,3.5307955741882324,-31.73057746887207,-32.461822509765625,7.413267135620117,1.5053905248641968,2.3163537979125977,-31.198652267456055,2.357050895690918,-27.557886123657227,3.0973169803619385,-31.607704162597656,4.098459720611572,-38.85206604003906,3.2405893802642822,4.221113681793213,-28.577756881713867,5.460424423217773,-33.17726135253906,3.9370644092559814,-28.956344604492188,1.5140553712844849,3.743318796157837,4.616120338439941,-0.49297475814819336,-26.08810806274414,2.8118655681610107,4.251591205596924,-26.591482162475586,1.999192237854004,1.2639832496643066,0.2169950157403946,-25.63575553894043,5.1373066902160645,5.375154495239258,3.3677711486816406,2.845890522003174,3.938030958175659,2.215324640274048,3.0843167304992676,2.2207350730895996,5.025584697723389,1.0385218858718872,4.721644401550293,3.2325682640075684,5.274867534637451,5.107076644897461,-29.186363220214844,3.0042054653167725,3.2137553691864014,4.800023078918457,0.2782967984676361,2.493119478225708,-38.6761360168457,-0.17504847049713135,6.590547561645508,7.122344017028809,5.021297454833984,4.520950794219971,-0.049721404910087585,4.997213363647461,5.09683895111084,4.222375869750977,-0.20015554130077362,4.969879627227783,0.1491769701242447,-29.380138397216797,7.393282890319824,-29.96094512939453,3.4464921951293945,-30.073745727539062,3.1758782863616943,0.22189942002296448,3.64496111869812,4.670538902282715,6.227249622344971,24.26523780822754,22.393890380859375,6.8280558586120605,2.675245523452759,7.978031635284424,-27.88136863708496,24.128150939941406,-27.804330825805664,4.984527111053467,4.093724250793457,3.216723680496216,7.404335021972656,18.778276443481445,5.914603233337402,13.986268997192383,6.8896684646606445,25.09515380859375,22.592926025390625,22.254430770874023,-30.18145751953125,9.794302940368652,-27.1669979095459,9.876694679260254,-27.380474090576172,-27.88484764099121,13.914938926696777,-26.235300064086914,-33.015647888183594,-28.570240020751953,-29.169322967529297,-34.203067779541016,-30.26457977294922,-33.05839920043945,10.398735046386719,12.911123275756836,-31.906322479248047,9.178305625915527,8.402629852294922,-34.82634353637695,11.11394214630127,12.030444145202637,-30.965898513793945,12.242549896240234,13.722193717956543,11.267319679260254,-35.200172424316406,13.740351676940918,11.879778861999512,10.324522018432617,11.996238708496094,8.989375114440918,0.5865387320518494,12.33296012878418,13.86109733581543,9.680554389953613,11.484209060668945,11.469182014465332,-33.64326858520508,9.402596473693848,-40.35269546508789,-24.677824020385742,-25.626047134399414,10.976963996887207,9.832328796386719,8.890056610107422,9.51378059387207,-30.400066375732422,-30.294578552246094,30.463438034057617,-36.25688171386719,21.515459060668945,30.042098999023438,-34.1552619934082,-29.190380096435547,23.109758377075195,-37.19935989379883,22.0087890625,-36.18267059326172,22.7570743560791,-34.589298248291016,6.971261501312256,23.119319915771484,9.844813346862793,-33.21601104736328,23.81977081298828,26.554794311523438,10.83313274383545,20.88718032836914,23.466825485229492,25.31083106994629,22.212753295898438,-29.884408950805664,17.43886947631836,21.465734481811523,10.734387397766113,20.244062423706055,-27.962425231933594,5.420685291290283,13.979076385498047,-26.908109664916992,19.777921676635742,19.901416778564453,-33.033573150634766,7.319852828979492,24.451522827148438,-26.894453048706055,9.151939392089844,4.748377323150635,7.403034210205078,21.535974502563477,23.866498947143555,15.158613204956055,24.598556518554688,11.270938873291016,17.00167465209961,17.32536506652832,10.733559608459473,24.894229888916016,26.219837188720703,4.8567376136779785,14.942611694335938,17.32179832458496,-31.043472290039062,7.566684722900391,9.009612083435059,17.280372619628906,20.356657028198242,3.3805270195007324,10.89648723602295,10.930187225341797,9.57827377319336,19.48298454284668,4.2706122398376465,-36.485435485839844,-26.657697677612305,19.492374420166016,16.54515266418457,20.11388397216797,30.65699005126953,2.366342782974243,19.133150100708008,-28.837421417236328,-33.18178176879883,30.642690658569336,-34.43893814086914,16.14015769958496,31.798126220703125,-27.372150421142578,10.355355262756348,-25.570716857910156,-26.427095413208008,2.8964736461639404,32.182586669921875,2.304833173751831,26.600658416748047,13.766815185546875,30.490549087524414,3.333028793334961,12.350570678710938,24.522844314575195,14.68854808807373,2.3523144721984863,6.114078998565674,-38.29484176635742,13.722535133361816,23.764739990234375],\"yaxis\":\"y\",\"type\":\"scatter\"},{\"x\":[-23.471479415893555,-0.0217471644282341,1.0328166484832764],\"y\":[2.3163537979125977,-36.0621452331543,16.290647506713867],\"type\":\"scatter\"}],                        {\"template\":{\"data\":{\"histogram2dcontour\":[{\"type\":\"histogram2dcontour\",\"colorbar\":{\"outlinewidth\":0,\"ticks\":\"\"},\"colorscale\":[[0.0,\"#0d0887\"],[0.1111111111111111,\"#46039f\"],[0.2222222222222222,\"#7201a8\"],[0.3333333333333333,\"#9c179e\"],[0.4444444444444444,\"#bd3786\"],[0.5555555555555556,\"#d8576b\"],[0.6666666666666666,\"#ed7953\"],[0.7777777777777778,\"#fb9f3a\"],[0.8888888888888888,\"#fdca26\"],[1.0,\"#f0f921\"]]}],\"choropleth\":[{\"type\":\"choropleth\",\"colorbar\":{\"outlinewidth\":0,\"ticks\":\"\"}}],\"histogram2d\":[{\"type\":\"histogram2d\",\"colorbar\":{\"outlinewidth\":0,\"ticks\":\"\"},\"colorscale\":[[0.0,\"#0d0887\"],[0.1111111111111111,\"#46039f\"],[0.2222222222222222,\"#7201a8\"],[0.3333333333333333,\"#9c179e\"],[0.4444444444444444,\"#bd3786\"],[0.5555555555555556,\"#d8576b\"],[0.6666666666666666,\"#ed7953\"],[0.7777777777777778,\"#fb9f3a\"],[0.8888888888888888,\"#fdca26\"],[1.0,\"#f0f921\"]]}],\"heatmap\":[{\"type\":\"heatmap\",\"colorbar\":{\"outlinewidth\":0,\"ticks\":\"\"},\"colorscale\":[[0.0,\"#0d0887\"],[0.1111111111111111,\"#46039f\"],[0.2222222222222222,\"#7201a8\"],[0.3333333333333333,\"#9c179e\"],[0.4444444444444444,\"#bd3786\"],[0.5555555555555556,\"#d8576b\"],[0.6666666666666666,\"#ed7953\"],[0.7777777777777778,\"#fb9f3a\"],[0.8888888888888888,\"#fdca26\"],[1.0,\"#f0f921\"]]}],\"heatmapgl\":[{\"type\":\"heatmapgl\",\"colorbar\":{\"outlinewidth\":0,\"ticks\":\"\"},\"colorscale\":[[0.0,\"#0d0887\"],[0.1111111111111111,\"#46039f\"],[0.2222222222222222,\"#7201a8\"],[0.3333333333333333,\"#9c179e\"],[0.4444444444444444,\"#bd3786\"],[0.5555555555555556,\"#d8576b\"],[0.6666666666666666,\"#ed7953\"],[0.7777777777777778,\"#fb9f3a\"],[0.8888888888888888,\"#fdca26\"],[1.0,\"#f0f921\"]]}],\"contourcarpet\":[{\"type\":\"contourcarpet\",\"colorbar\":{\"outlinewidth\":0,\"ticks\":\"\"}}],\"contour\":[{\"type\":\"contour\",\"colorbar\":{\"outlinewidth\":0,\"ticks\":\"\"},\"colorscale\":[[0.0,\"#0d0887\"],[0.1111111111111111,\"#46039f\"],[0.2222222222222222,\"#7201a8\"],[0.3333333333333333,\"#9c179e\"],[0.4444444444444444,\"#bd3786\"],[0.5555555555555556,\"#d8576b\"],[0.6666666666666666,\"#ed7953\"],[0.7777777777777778,\"#fb9f3a\"],[0.8888888888888888,\"#fdca26\"],[1.0,\"#f0f921\"]]}],\"surface\":[{\"type\":\"surface\",\"colorbar\":{\"outlinewidth\":0,\"ticks\":\"\"},\"colorscale\":[[0.0,\"#0d0887\"],[0.1111111111111111,\"#46039f\"],[0.2222222222222222,\"#7201a8\"],[0.3333333333333333,\"#9c179e\"],[0.4444444444444444,\"#bd3786\"],[0.5555555555555556,\"#d8576b\"],[0.6666666666666666,\"#ed7953\"],[0.7777777777777778,\"#fb9f3a\"],[0.8888888888888888,\"#fdca26\"],[1.0,\"#f0f921\"]]}],\"mesh3d\":[{\"type\":\"mesh3d\",\"colorbar\":{\"outlinewidth\":0,\"ticks\":\"\"}}],\"scatter\":[{\"marker\":{\"line\":{\"color\":\"#283442\"}},\"type\":\"scatter\"}],\"parcoords\":[{\"type\":\"parcoords\",\"line\":{\"colorbar\":{\"outlinewidth\":0,\"ticks\":\"\"}}}],\"scatterpolargl\":[{\"type\":\"scatterpolargl\",\"marker\":{\"colorbar\":{\"outlinewidth\":0,\"ticks\":\"\"}}}],\"bar\":[{\"error_x\":{\"color\":\"#f2f5fa\"},\"error_y\":{\"color\":\"#f2f5fa\"},\"marker\":{\"line\":{\"color\":\"rgb(17,17,17)\",\"width\":0.5},\"pattern\":{\"fillmode\":\"overlay\",\"size\":10,\"solidity\":0.2}},\"type\":\"bar\"}],\"scattergeo\":[{\"type\":\"scattergeo\",\"marker\":{\"colorbar\":{\"outlinewidth\":0,\"ticks\":\"\"}}}],\"scatterpolar\":[{\"type\":\"scatterpolar\",\"marker\":{\"colorbar\":{\"outlinewidth\":0,\"ticks\":\"\"}}}],\"histogram\":[{\"marker\":{\"pattern\":{\"fillmode\":\"overlay\",\"size\":10,\"solidity\":0.2}},\"type\":\"histogram\"}],\"scattergl\":[{\"marker\":{\"line\":{\"color\":\"#283442\"}},\"type\":\"scattergl\"}],\"scatter3d\":[{\"type\":\"scatter3d\",\"line\":{\"colorbar\":{\"outlinewidth\":0,\"ticks\":\"\"}},\"marker\":{\"colorbar\":{\"outlinewidth\":0,\"ticks\":\"\"}}}],\"scattermapbox\":[{\"type\":\"scattermapbox\",\"marker\":{\"colorbar\":{\"outlinewidth\":0,\"ticks\":\"\"}}}],\"scatterternary\":[{\"type\":\"scatterternary\",\"marker\":{\"colorbar\":{\"outlinewidth\":0,\"ticks\":\"\"}}}],\"scattercarpet\":[{\"type\":\"scattercarpet\",\"marker\":{\"colorbar\":{\"outlinewidth\":0,\"ticks\":\"\"}}}],\"carpet\":[{\"aaxis\":{\"endlinecolor\":\"#A2B1C6\",\"gridcolor\":\"#506784\",\"linecolor\":\"#506784\",\"minorgridcolor\":\"#506784\",\"startlinecolor\":\"#A2B1C6\"},\"baxis\":{\"endlinecolor\":\"#A2B1C6\",\"gridcolor\":\"#506784\",\"linecolor\":\"#506784\",\"minorgridcolor\":\"#506784\",\"startlinecolor\":\"#A2B1C6\"},\"type\":\"carpet\"}],\"table\":[{\"cells\":{\"fill\":{\"color\":\"#506784\"},\"line\":{\"color\":\"rgb(17,17,17)\"}},\"header\":{\"fill\":{\"color\":\"#2a3f5f\"},\"line\":{\"color\":\"rgb(17,17,17)\"}},\"type\":\"table\"}],\"barpolar\":[{\"marker\":{\"line\":{\"color\":\"rgb(17,17,17)\",\"width\":0.5},\"pattern\":{\"fillmode\":\"overlay\",\"size\":10,\"solidity\":0.2}},\"type\":\"barpolar\"}],\"pie\":[{\"automargin\":true,\"type\":\"pie\"}]},\"layout\":{\"autotypenumbers\":\"strict\",\"colorway\":[\"#636efa\",\"#EF553B\",\"#00cc96\",\"#ab63fa\",\"#FFA15A\",\"#19d3f3\",\"#FF6692\",\"#B6E880\",\"#FF97FF\",\"#FECB52\"],\"font\":{\"color\":\"#f2f5fa\"},\"hovermode\":\"closest\",\"hoverlabel\":{\"align\":\"left\"},\"paper_bgcolor\":\"rgb(17,17,17)\",\"plot_bgcolor\":\"rgb(17,17,17)\",\"polar\":{\"bgcolor\":\"rgb(17,17,17)\",\"angularaxis\":{\"gridcolor\":\"#506784\",\"linecolor\":\"#506784\",\"ticks\":\"\"},\"radialaxis\":{\"gridcolor\":\"#506784\",\"linecolor\":\"#506784\",\"ticks\":\"\"}},\"ternary\":{\"bgcolor\":\"rgb(17,17,17)\",\"aaxis\":{\"gridcolor\":\"#506784\",\"linecolor\":\"#506784\",\"ticks\":\"\"},\"baxis\":{\"gridcolor\":\"#506784\",\"linecolor\":\"#506784\",\"ticks\":\"\"},\"caxis\":{\"gridcolor\":\"#506784\",\"linecolor\":\"#506784\",\"ticks\":\"\"}},\"coloraxis\":{\"colorbar\":{\"outlinewidth\":0,\"ticks\":\"\"}},\"colorscale\":{\"sequential\":[[0.0,\"#0d0887\"],[0.1111111111111111,\"#46039f\"],[0.2222222222222222,\"#7201a8\"],[0.3333333333333333,\"#9c179e\"],[0.4444444444444444,\"#bd3786\"],[0.5555555555555556,\"#d8576b\"],[0.6666666666666666,\"#ed7953\"],[0.7777777777777778,\"#fb9f3a\"],[0.8888888888888888,\"#fdca26\"],[1.0,\"#f0f921\"]],\"sequentialminus\":[[0.0,\"#0d0887\"],[0.1111111111111111,\"#46039f\"],[0.2222222222222222,\"#7201a8\"],[0.3333333333333333,\"#9c179e\"],[0.4444444444444444,\"#bd3786\"],[0.5555555555555556,\"#d8576b\"],[0.6666666666666666,\"#ed7953\"],[0.7777777777777778,\"#fb9f3a\"],[0.8888888888888888,\"#fdca26\"],[1.0,\"#f0f921\"]],\"diverging\":[[0,\"#8e0152\"],[0.1,\"#c51b7d\"],[0.2,\"#de77ae\"],[0.3,\"#f1b6da\"],[0.4,\"#fde0ef\"],[0.5,\"#f7f7f7\"],[0.6,\"#e6f5d0\"],[0.7,\"#b8e186\"],[0.8,\"#7fbc41\"],[0.9,\"#4d9221\"],[1,\"#276419\"]]},\"xaxis\":{\"gridcolor\":\"#283442\",\"linecolor\":\"#506784\",\"ticks\":\"\",\"title\":{\"standoff\":15},\"zerolinecolor\":\"#283442\",\"automargin\":true,\"zerolinewidth\":2},\"yaxis\":{\"gridcolor\":\"#283442\",\"linecolor\":\"#506784\",\"ticks\":\"\",\"title\":{\"standoff\":15},\"zerolinecolor\":\"#283442\",\"automargin\":true,\"zerolinewidth\":2},\"scene\":{\"xaxis\":{\"backgroundcolor\":\"rgb(17,17,17)\",\"gridcolor\":\"#506784\",\"linecolor\":\"#506784\",\"showbackground\":true,\"ticks\":\"\",\"zerolinecolor\":\"#C8D4E3\",\"gridwidth\":2},\"yaxis\":{\"backgroundcolor\":\"rgb(17,17,17)\",\"gridcolor\":\"#506784\",\"linecolor\":\"#506784\",\"showbackground\":true,\"ticks\":\"\",\"zerolinecolor\":\"#C8D4E3\",\"gridwidth\":2},\"zaxis\":{\"backgroundcolor\":\"rgb(17,17,17)\",\"gridcolor\":\"#506784\",\"linecolor\":\"#506784\",\"showbackground\":true,\"ticks\":\"\",\"zerolinecolor\":\"#C8D4E3\",\"gridwidth\":2}},\"shapedefaults\":{\"line\":{\"color\":\"#f2f5fa\"}},\"annotationdefaults\":{\"arrowcolor\":\"#f2f5fa\",\"arrowhead\":0,\"arrowwidth\":1},\"geo\":{\"bgcolor\":\"rgb(17,17,17)\",\"landcolor\":\"rgb(17,17,17)\",\"subunitcolor\":\"#506784\",\"showland\":true,\"showlakes\":true,\"lakecolor\":\"rgb(17,17,17)\"},\"title\":{\"x\":0.05},\"updatemenudefaults\":{\"bgcolor\":\"#506784\",\"borderwidth\":0},\"sliderdefaults\":{\"bgcolor\":\"#C8D4E3\",\"borderwidth\":1,\"bordercolor\":\"rgb(17,17,17)\",\"tickwidth\":0},\"mapbox\":{\"style\":\"dark\"}}},\"xaxis\":{\"anchor\":\"y\",\"domain\":[0.0,1.0],\"title\":{\"text\":\"0\"}},\"yaxis\":{\"anchor\":\"x\",\"domain\":[0.0,1.0],\"title\":{\"text\":\"1\"}},\"legend\":{\"tracegroupgap\":0},\"margin\":{\"t\":60}},                        {\"responsive\": true}                    ).then(function(){\n                            \nvar gd = document.getElementById('083959a6-0195-4723-9f0b-2485208b4af0');\nvar x = new MutationObserver(function (mutations, observer) {{\n        var display = window.getComputedStyle(gd).display;\n        if (!display || display === 'none') {{\n            console.log([gd, 'removed!']);\n            Plotly.purge(gd);\n            observer.disconnect();\n        }}\n}});\n\n// Listen for the removal of the full notebook cells\nvar notebookContainer = gd.closest('#notebook-container');\nif (notebookContainer) {{\n    x.observe(notebookContainer, {childList: true});\n}}\n\n// Listen for the clearing of the current output cell\nvar outputEl = gd.closest('.output');\nif (outputEl) {{\n    x.observe(outputEl, {childList: true});\n}}\n\n                        })                };                });            </script>        </div>"
     },
     "metadata": {},
     "output_type": "display_data"
    }
   ],
   "source": [
    "fig = px.scatter(tnse_df, x=0, y=1)\n",
    "fig.add_scatter(x=tnse_centroids[0], y=tnse_centroids[1])\n",
    "fig.show()"
   ],
   "metadata": {
    "collapsed": false,
    "pycharm": {
     "name": "#%%\n"
    }
   }
  },
  {
   "cell_type": "code",
   "execution_count": null,
   "outputs": [],
   "source": [],
   "metadata": {
    "collapsed": false,
    "pycharm": {
     "name": "#%%\n",
     "is_executing": true
    }
   }
  },
  {
   "cell_type": "code",
   "execution_count": 26,
   "outputs": [],
   "source": [],
   "metadata": {
    "collapsed": false,
    "pycharm": {
     "name": "#%%\n"
    }
   }
  }
 ]
}