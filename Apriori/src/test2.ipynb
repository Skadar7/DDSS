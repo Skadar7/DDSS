{
 "cells": [
  {
   "cell_type": "code",
   "execution_count": 1,
   "metadata": {
    "collapsed": true,
    "pycharm": {
     "name": "#%%\n"
    }
   },
   "outputs": [],
   "source": [
    "import numpy as np\n",
    "import pandas as pd\n",
    "\n",
    "\n",
    "def generate_new_combinations(old_combinations):\n",
    "    \"\"\"\n",
    "    Generator of all combinations based on the last state of Apriori algorithm\n",
    "    Parameters\n",
    "    -----------\n",
    "    old_combinations: np.array\n",
    "        All combinations with enough support in the last step\n",
    "        Combinations are represented by a matrix.\n",
    "        Number of columns is equal to the combination size\n",
    "        of the previous step.\n",
    "        Each row represents one combination\n",
    "        and contains item type ids in the ascending order\n",
    "        ```\n",
    "               0        1\n",
    "        0      15       20\n",
    "        1      15       22\n",
    "        2      17       19\n",
    "        ```\n",
    "    Returns\n",
    "    -----------\n",
    "    Generator of all combinations from the last step x items\n",
    "    from the previous step.\n",
    "    Examples\n",
    "    -----------\n",
    "    For usage examples, please see\n",
    "    http://rasbt.github.io/mlxtend/user_guide/frequent_patterns/apriori\n",
    "    \"\"\"\n",
    "\n",
    "    items_types_in_previous_step = np.unique(old_combinations.flatten())\n",
    "    for old_combination in old_combinations:\n",
    "        max_combination = old_combination[-1]\n",
    "        mask = items_types_in_previous_step > max_combination\n",
    "        valid_items = items_types_in_previous_step[mask]\n",
    "        old_tuple = tuple(old_combination)\n",
    "        for item in valid_items:\n",
    "            yield from old_tuple\n",
    "            yield item\n",
    "\n",
    "\n",
    "def apriori(\n",
    "        df, min_support=0.5, use_colnames=True, max_len=None, verbose=0, low_memory=False\n",
    "):\n",
    "    \"\"\"Get frequent itemsets from a one-hot DataFrame\n",
    "    Parameters\n",
    "    -----------\n",
    "    df : pandas DataFrame\n",
    "      pandas DataFrame the encoded format. Also supports\n",
    "      DataFrames with sparse data; for more info, please\n",
    "      see (https://pandas.pydata.org/pandas-docs/stable/\n",
    "           user_guide/sparse.html#sparse-data-structures)\n",
    "      Please note that the old pandas SparseDataFrame format\n",
    "      is no longer supported in mlxtend >= 0.17.2.\n",
    "      The allowed values are either 0/1 or True/False.\n",
    "      For example,\n",
    "    ```\n",
    "             Apple  Bananas   Beer  Chicken   Milk   Rice\n",
    "        0     True    False   True     True  False   True\n",
    "        1     True    False   True    False  False   True\n",
    "        2     True    False   True    False  False  False\n",
    "        3     True     True  False    False  False  False\n",
    "        4    False    False   True     True   True   True\n",
    "        5    False    False   True    False   True   True\n",
    "        6    False    False   True    False   True  False\n",
    "        7     True     True  False    False  False  False\n",
    "    ```\n",
    "    min_support : float (default: 0.5)\n",
    "      A float between 0 and 1 for minumum support of the itemsets returned.\n",
    "      The support is computed as the fraction\n",
    "      `transactions_where_item(s)_occur / total_transactions`.\n",
    "    use_colnames : bool (default: False)\n",
    "      If `True`, uses the DataFrames' column names in the returned DataFrame\n",
    "      instead of column indices.\n",
    "    max_len : int (default: None)\n",
    "      Maximum length of the itemsets generated. If `None` (default) all\n",
    "      possible itemsets lengths (under the apriori condition) are evaluated.\n",
    "    verbose : int (default: 0)\n",
    "      Shows the number of iterations if >= 1 and `low_memory` is `True`. If\n",
    "      >=1 and `low_memory` is `False`, shows the number of combinations.\n",
    "    low_memory : bool (default: False)\n",
    "      If `True`, uses an iterator to search for combinations above\n",
    "      `min_support`.\n",
    "      Note that while `low_memory=True` should only be used for large dataset\n",
    "      if memory resources are limited, because this implementation is approx.\n",
    "      3-6x slower than the default.\n",
    "    Returns\n",
    "    -----------\n",
    "    pandas DataFrame with columns ['support', 'itemsets'] of all itemsets\n",
    "      that are >= `min_support` and < than `max_len`\n",
    "      (if `max_len` is not None).\n",
    "      Each itemset in the 'itemsets' column is of type `frozenset`,\n",
    "      which is a Python built-in type that behaves similarly to\n",
    "      sets except that it is immutable\n",
    "      (For more info, see\n",
    "      https://docs.python.org/3.6/library/stdtypes.html#frozenset).\n",
    "    Examples\n",
    "    -----------\n",
    "    For usage examples, please see\n",
    "    http://rasbt.github.io/mlxtend/user_guide/frequent_patterns/apriori/\n",
    "    \"\"\"\n",
    "\n",
    "    def _support(_x, _n_rows):\n",
    "        \"\"\"DRY private method to calculate support as the\n",
    "        row-wise sum of values / number of rows\n",
    "        Parameters\n",
    "        -----------\n",
    "        _x : matrix of bools or binary\n",
    "        _n_rows : numeric, number of rows in _x\n",
    "        _is_sparse : bool True if _x is sparse\n",
    "        Returns\n",
    "        -----------\n",
    "        np.array, shape = (n_rows, )\n",
    "        Examples\n",
    "        -----------\n",
    "        For usage examples, please see\n",
    "        http://rasbt.github.io/mlxtend/user_guide/frequent_patterns/apriori/\n",
    "        \"\"\"\n",
    "        out = np.sum(_x, axis=0) / _n_rows\n",
    "        return np.array(out).reshape(-1)\n",
    "\n",
    "    if min_support <= 0.0:\n",
    "        raise ValueError(\n",
    "            \"`min_support` must be a positive \"\n",
    "            \"number within the interval `(0, 1]`. \"\n",
    "            \"Got %s.\" % min_support\n",
    "        )\n",
    "    X = df.values\n",
    "    support = _support(X, X.shape[0])\n",
    "    ary_col_idx = np.arange(X.shape[1])\n",
    "    support_dict = {1: support[support >= min_support]}\n",
    "    itemset_dict = {1: ary_col_idx[support >= min_support].reshape(-1, 1)}\n",
    "    max_itemset = 1\n",
    "    rows_count = float(X.shape[0])\n",
    "\n",
    "    all_ones = np.ones((int(rows_count), 1))\n",
    "\n",
    "    while max_itemset and max_itemset < (max_len or float(\"inf\")):\n",
    "        next_max_itemset = max_itemset + 1\n",
    "\n",
    "        # With exceptionally large datasets, the matrix operations can use a\n",
    "        # substantial amount of memory. For low memory applications or large\n",
    "        # datasets, set `low_memory=True` to use a slower but more memory-\n",
    "        # efficient implementation.\n",
    "\n",
    "        combin = generate_new_combinations(itemset_dict[max_itemset])\n",
    "        combin = np.fromiter(combin, dtype=int)\n",
    "        combin = combin.reshape(-1, next_max_itemset)\n",
    "\n",
    "        if combin.size == 0:\n",
    "            break\n",
    "        if verbose:\n",
    "            print(\n",
    "                \"\\rProcessing %d combinations | Sampling itemset size %d\"\n",
    "                % (combin.size, next_max_itemset),\n",
    "                end=\"\",\n",
    "            )\n",
    "\n",
    "        _bools = np.all(X[:, combin], axis=2)\n",
    "        support = _support(np.array(_bools), rows_count)\n",
    "        _mask = (support >= min_support).reshape(-1)\n",
    "        if any(_mask):\n",
    "            itemset_dict[next_max_itemset] = np.array(combin[_mask])\n",
    "            support_dict[next_max_itemset] = np.array(support[_mask])\n",
    "            max_itemset = next_max_itemset\n",
    "        else:\n",
    "            # Exit condition\n",
    "            break\n",
    "\n",
    "    all_res = []\n",
    "    for k in sorted(itemset_dict):\n",
    "        support = pd.Series(support_dict[k])\n",
    "        itemsets = pd.Series([frozenset(i) for i in itemset_dict[k]], dtype=\"object\")\n",
    "\n",
    "        res = pd.concat((support, itemsets), axis=1)\n",
    "        all_res.append(res)\n",
    "\n",
    "    res_df = pd.concat(all_res)\n",
    "    res_df.columns = [\"support\", \"itemsets\"]\n",
    "    if use_colnames:\n",
    "        mapping = {idx: item for idx, item in enumerate(df.columns)}\n",
    "        res_df[\"itemsets\"] = res_df[\"itemsets\"].apply(\n",
    "            lambda x: frozenset([mapping[i] for i in x])\n",
    "        )\n",
    "    res_df = res_df.reset_index(drop=True)\n",
    "\n",
    "    if verbose:\n",
    "        print()  # adds newline if verbose counter was used\n",
    "\n",
    "    return res_df"
   ]
  },
  {
   "cell_type": "code",
   "execution_count": 29,
   "outputs": [],
   "source": [
    "from itertools import chain, combinations\n",
    "\n",
    "\n",
    "def subsets(arr):\n",
    "    \"\"\" Returns non empty subsets of arr\"\"\"\n",
    "    return list(chain(*[combinations(arr, i + 1) for i, a in enumerate(arr)]))"
   ],
   "metadata": {
    "collapsed": false,
    "pycharm": {
     "name": "#%%\n"
    }
   }
  },
  {
   "cell_type": "code",
   "execution_count": 37,
   "outputs": [],
   "source": [
    "df = pd.read_csv('../data/movies.csv')"
   ],
   "metadata": {
    "collapsed": false,
    "pycharm": {
     "name": "#%%\n"
    }
   }
  },
  {
   "cell_type": "code",
   "execution_count": 44,
   "outputs": [],
   "source": [
    "df_head = df.head(10)\n",
    "example = df_head[list(df.columns)[0:5]]\n",
    "example.to_excel('../data/example.xlsx', index=False)"
   ],
   "metadata": {
    "collapsed": false,
    "pycharm": {
     "name": "#%%\n"
    }
   }
  },
  {
   "cell_type": "code",
   "execution_count": 49,
   "outputs": [],
   "source": [
    "example_df = pd.read_excel('../data/example.xlsx')"
   ],
   "metadata": {
    "collapsed": false,
    "pycharm": {
     "name": "#%%\n"
    }
   }
  },
  {
   "cell_type": "code",
   "execution_count": 50,
   "outputs": [
    {
     "data": {
      "text/plain": "   !Women Art Revolution  'Gator Bait  'Twas the Night Before Christmas  \\\n0                      1            0                                 1   \n1                      0            0                                 0   \n2                      0            1                                 0   \n3                      1            0                                 1   \n4                      0            1                                 1   \n5                      1            1                                 0   \n6                      0            0                                 0   \n7                      0            0                                 0   \n8                      1            0                                 0   \n9                      0            0                                 1   \n\n   ...And God Created Woman  00 Schneider - Jagd auf Nihil Baxter  \n0                         0                                     1  \n1                         0                                     1  \n2                         1                                     0  \n3                         0                                     1  \n4                         1                                     0  \n5                         0                                     0  \n6                         1                                     1  \n7                         0                                     0  \n8                         0                                     0  \n9                         1                                     1  ",
      "text/html": "<div>\n<style scoped>\n    .dataframe tbody tr th:only-of-type {\n        vertical-align: middle;\n    }\n\n    .dataframe tbody tr th {\n        vertical-align: top;\n    }\n\n    .dataframe thead th {\n        text-align: right;\n    }\n</style>\n<table border=\"1\" class=\"dataframe\">\n  <thead>\n    <tr style=\"text-align: right;\">\n      <th></th>\n      <th>!Women Art Revolution</th>\n      <th>'Gator Bait</th>\n      <th>'Twas the Night Before Christmas</th>\n      <th>...And God Created Woman</th>\n      <th>00 Schneider - Jagd auf Nihil Baxter</th>\n    </tr>\n  </thead>\n  <tbody>\n    <tr>\n      <th>0</th>\n      <td>1</td>\n      <td>0</td>\n      <td>1</td>\n      <td>0</td>\n      <td>1</td>\n    </tr>\n    <tr>\n      <th>1</th>\n      <td>0</td>\n      <td>0</td>\n      <td>0</td>\n      <td>0</td>\n      <td>1</td>\n    </tr>\n    <tr>\n      <th>2</th>\n      <td>0</td>\n      <td>1</td>\n      <td>0</td>\n      <td>1</td>\n      <td>0</td>\n    </tr>\n    <tr>\n      <th>3</th>\n      <td>1</td>\n      <td>0</td>\n      <td>1</td>\n      <td>0</td>\n      <td>1</td>\n    </tr>\n    <tr>\n      <th>4</th>\n      <td>0</td>\n      <td>1</td>\n      <td>1</td>\n      <td>1</td>\n      <td>0</td>\n    </tr>\n    <tr>\n      <th>5</th>\n      <td>1</td>\n      <td>1</td>\n      <td>0</td>\n      <td>0</td>\n      <td>0</td>\n    </tr>\n    <tr>\n      <th>6</th>\n      <td>0</td>\n      <td>0</td>\n      <td>0</td>\n      <td>1</td>\n      <td>1</td>\n    </tr>\n    <tr>\n      <th>7</th>\n      <td>0</td>\n      <td>0</td>\n      <td>0</td>\n      <td>0</td>\n      <td>0</td>\n    </tr>\n    <tr>\n      <th>8</th>\n      <td>1</td>\n      <td>0</td>\n      <td>0</td>\n      <td>0</td>\n      <td>0</td>\n    </tr>\n    <tr>\n      <th>9</th>\n      <td>0</td>\n      <td>0</td>\n      <td>1</td>\n      <td>1</td>\n      <td>1</td>\n    </tr>\n  </tbody>\n</table>\n</div>"
     },
     "execution_count": 50,
     "metadata": {},
     "output_type": "execute_result"
    }
   ],
   "source": [
    "example_df"
   ],
   "metadata": {
    "collapsed": false,
    "pycharm": {
     "name": "#%%\n"
    }
   }
  },
  {
   "cell_type": "code",
   "execution_count": 5,
   "outputs": [],
   "source": [
    "def check_item(item, df):\n",
    "    t = df[item].sum(axis=1)\n",
    "    t = t[t == len(item)]\n",
    "    return len(t)"
   ],
   "metadata": {
    "collapsed": false,
    "pycharm": {
     "name": "#%%\n"
    }
   }
  },
  {
   "cell_type": "code",
   "execution_count": 76,
   "outputs": [],
   "source": [
    "ex_comb = list(map(lambda x: frozenset(x), combinations(df_head[list(df.columns)[0:5]], r=2)))"
   ],
   "metadata": {
    "collapsed": false,
    "pycharm": {
     "name": "#%%\n"
    }
   }
  },
  {
   "cell_type": "code",
   "execution_count": 3,
   "outputs": [
    {
     "ename": "NameError",
     "evalue": "name 'ex_comb' is not defined",
     "output_type": "error",
     "traceback": [
      "\u001B[1;31m---------------------------------------------------------------------------\u001B[0m",
      "\u001B[1;31mNameError\u001B[0m                                 Traceback (most recent call last)",
      "Input \u001B[1;32mIn [3]\u001B[0m, in \u001B[0;36m<cell line: 2>\u001B[1;34m()\u001B[0m\n\u001B[0;32m      1\u001B[0m ex_dict \u001B[38;5;241m=\u001B[39m {}\n\u001B[1;32m----> 2\u001B[0m \u001B[38;5;28;01mfor\u001B[39;00m comb \u001B[38;5;129;01min\u001B[39;00m \u001B[43mex_comb\u001B[49m:\n\u001B[0;32m      3\u001B[0m     t \u001B[38;5;241m=\u001B[39m check_item(comb, example_df)\n\u001B[0;32m      4\u001B[0m     ex_dict[\u001B[38;5;28mtuple\u001B[39m(comb)] \u001B[38;5;241m=\u001B[39m t\n",
      "\u001B[1;31mNameError\u001B[0m: name 'ex_comb' is not defined"
     ]
    }
   ],
   "source": [
    "ex_dict = {}\n",
    "for comb in ex_comb:\n",
    "    t = check_item(comb, example_df)\n",
    "    ex_dict[tuple(comb)] = t\n",
    "res = pd.DataFrame(ex_dict.items(), columns=['Набор','Кол-во'])\n",
    "res.to_excel('../data/set2.xlsx', index=False)"
   ],
   "metadata": {
    "collapsed": false,
    "pycharm": {
     "name": "#%%\n"
    }
   }
  },
  {
   "cell_type": "code",
   "execution_count": 95,
   "outputs": [
    {
     "data": {
      "text/plain": "                                               Набор  Кол-во\n0               (!Women Art Revolution, 'Gator Bait)       1\n1  (!Women Art Revolution, 'Twas the Night Before...       2\n2  (...And God Created Woman, !Women Art Revolution)       0\n3  (!Women Art Revolution, 00 Schneider - Jagd au...       2\n4    ('Gator Bait, 'Twas the Night Before Christmas)       1\n5            (...And God Created Woman, 'Gator Bait)       2\n6  (00 Schneider - Jagd auf Nihil Baxter, 'Gator ...       0\n7  (...And God Created Woman, 'Twas the Night Bef...       2\n8  (00 Schneider - Jagd auf Nihil Baxter, 'Twas t...       3\n9  (...And God Created Woman, 00 Schneider - Jagd...       2",
      "text/html": "<div>\n<style scoped>\n    .dataframe tbody tr th:only-of-type {\n        vertical-align: middle;\n    }\n\n    .dataframe tbody tr th {\n        vertical-align: top;\n    }\n\n    .dataframe thead th {\n        text-align: right;\n    }\n</style>\n<table border=\"1\" class=\"dataframe\">\n  <thead>\n    <tr style=\"text-align: right;\">\n      <th></th>\n      <th>Набор</th>\n      <th>Кол-во</th>\n    </tr>\n  </thead>\n  <tbody>\n    <tr>\n      <th>0</th>\n      <td>(!Women Art Revolution, 'Gator Bait)</td>\n      <td>1</td>\n    </tr>\n    <tr>\n      <th>1</th>\n      <td>(!Women Art Revolution, 'Twas the Night Before...</td>\n      <td>2</td>\n    </tr>\n    <tr>\n      <th>2</th>\n      <td>(...And God Created Woman, !Women Art Revolution)</td>\n      <td>0</td>\n    </tr>\n    <tr>\n      <th>3</th>\n      <td>(!Women Art Revolution, 00 Schneider - Jagd au...</td>\n      <td>2</td>\n    </tr>\n    <tr>\n      <th>4</th>\n      <td>('Gator Bait, 'Twas the Night Before Christmas)</td>\n      <td>1</td>\n    </tr>\n    <tr>\n      <th>5</th>\n      <td>(...And God Created Woman, 'Gator Bait)</td>\n      <td>2</td>\n    </tr>\n    <tr>\n      <th>6</th>\n      <td>(00 Schneider - Jagd auf Nihil Baxter, 'Gator ...</td>\n      <td>0</td>\n    </tr>\n    <tr>\n      <th>7</th>\n      <td>(...And God Created Woman, 'Twas the Night Bef...</td>\n      <td>2</td>\n    </tr>\n    <tr>\n      <th>8</th>\n      <td>(00 Schneider - Jagd auf Nihil Baxter, 'Twas t...</td>\n      <td>3</td>\n    </tr>\n    <tr>\n      <th>9</th>\n      <td>(...And God Created Woman, 00 Schneider - Jagd...</td>\n      <td>2</td>\n    </tr>\n  </tbody>\n</table>\n</div>"
     },
     "execution_count": 95,
     "metadata": {},
     "output_type": "execute_result"
    }
   ],
   "source": [
    "res"
   ],
   "metadata": {
    "collapsed": false,
    "pycharm": {
     "name": "#%%\n"
    }
   }
  },
  {
   "cell_type": "code",
   "execution_count": 100,
   "outputs": [
    {
     "name": "stdout",
     "output_type": "stream",
     "text": [
      "[('00 Schneider - Jagd auf Nihil Baxter',), (\"'Twas the Night Before Christmas\",)]\n"
     ]
    }
   ],
   "source": [
    "comb3 = list(combinations(('00 Schneider - Jagd auf Nihil Baxter', \"'Twas the Night Before Christmas\"), r=1))\n",
    "print(comb3, sep='\\n')"
   ],
   "metadata": {
    "collapsed": false,
    "pycharm": {
     "name": "#%%\n"
    }
   }
  },
  {
   "cell_type": "code",
   "execution_count": 102,
   "outputs": [
    {
     "data": {
      "text/plain": "3"
     },
     "execution_count": 102,
     "metadata": {},
     "output_type": "execute_result"
    }
   ],
   "source": [
    "check_item(['00 Schneider - Jagd auf Nihil Baxter', \"'Twas the Night Before Christmas\"],example_df)"
   ],
   "metadata": {
    "collapsed": false,
    "pycharm": {
     "name": "#%%\n"
    }
   }
  },
  {
   "cell_type": "code",
   "execution_count": 103,
   "outputs": [
    {
     "data": {
      "text/plain": "5"
     },
     "execution_count": 103,
     "metadata": {},
     "output_type": "execute_result"
    }
   ],
   "source": [
    "check_item(['00 Schneider - Jagd auf Nihil Baxter'],example_df)"
   ],
   "metadata": {
    "collapsed": false,
    "pycharm": {
     "name": "#%%\n"
    }
   }
  },
  {
   "cell_type": "code",
   "execution_count": 74,
   "outputs": [
    {
     "name": "stderr",
     "output_type": "stream",
     "text": [
      "C:\\Users\\Den Ka\\AppData\\Local\\Temp\\ipykernel_9632\\1523192012.py:1: FutureWarning: Passing a set as an indexer is deprecated and will raise in a future version. Use a list instead.\n",
      "  example_df[{'!Women Art Revolution', \"'Twas the Night Before Christmas\"}].sum(axis=1)\n"
     ]
    },
    {
     "data": {
      "text/plain": "0    2\n1    0\n2    0\n3    2\n4    1\n5    1\n6    0\n7    0\n8    1\n9    1\ndtype: int64"
     },
     "execution_count": 74,
     "metadata": {},
     "output_type": "execute_result"
    }
   ],
   "source": [
    "example_df[{'!Women Art Revolution', \"'Twas the Night Before Christmas\"}].sum(axis=1)"
   ],
   "metadata": {
    "collapsed": false,
    "pycharm": {
     "name": "#%%\n"
    }
   }
  },
  {
   "cell_type": "code",
   "execution_count": 62,
   "outputs": [
    {
     "data": {
      "text/plain": "array([2, 2], dtype=int64)"
     },
     "execution_count": 62,
     "metadata": {},
     "output_type": "execute_result"
    }
   ],
   "source": [
    "t.values"
   ],
   "metadata": {
    "collapsed": false,
    "pycharm": {
     "name": "#%%\n"
    }
   }
  },
  {
   "cell_type": "code",
   "execution_count": null,
   "outputs": [],
   "source": [
    "pd.DataFrame(\n",
    "    columns=['Набор', 'Кол-во']\n",
    ")"
   ],
   "metadata": {
    "collapsed": false,
    "pycharm": {
     "name": "#%%\n"
    }
   }
  },
  {
   "cell_type": "code",
   "execution_count": 3,
   "outputs": [],
   "source": [
    "res_df = apriori(df, min_support=0.07)"
   ],
   "metadata": {
    "collapsed": false,
    "pycharm": {
     "name": "#%%\n"
    }
   }
  },
  {
   "cell_type": "code",
   "execution_count": 5,
   "outputs": [
    {
     "data": {
      "text/plain": "        support                                           itemsets\n0      0.129657                     (20,000 Leagues Under the Sea)\n1      0.129657                            (2001: A Space Odyssey)\n2      0.298063                                          (48 Hrs.)\n3      0.292101                                      (5 Card Stud)\n4      0.093890                          (A Brief History of Time)\n...         ...                                                ...\n91003  0.071535  (Monsoon Wedding, Solaris, Terminator 3: Rise ...\n91004  0.073025  (Monsoon Wedding, Solaris, Terminator 3: Rise ...\n91005  0.071535  (Monsoon Wedding, Solaris, Terminator 3: Rise ...\n91006  0.071535  (Monsoon Wedding, Solaris, Terminator 3: Rise ...\n91007  0.070045  (Solaris, Terminator 3: Rise of the Machines, ...\n\n[91008 rows x 2 columns]",
      "text/html": "<div>\n<style scoped>\n    .dataframe tbody tr th:only-of-type {\n        vertical-align: middle;\n    }\n\n    .dataframe tbody tr th {\n        vertical-align: top;\n    }\n\n    .dataframe thead th {\n        text-align: right;\n    }\n</style>\n<table border=\"1\" class=\"dataframe\">\n  <thead>\n    <tr style=\"text-align: right;\">\n      <th></th>\n      <th>support</th>\n      <th>itemsets</th>\n    </tr>\n  </thead>\n  <tbody>\n    <tr>\n      <th>0</th>\n      <td>0.129657</td>\n      <td>(20,000 Leagues Under the Sea)</td>\n    </tr>\n    <tr>\n      <th>1</th>\n      <td>0.129657</td>\n      <td>(2001: A Space Odyssey)</td>\n    </tr>\n    <tr>\n      <th>2</th>\n      <td>0.298063</td>\n      <td>(48 Hrs.)</td>\n    </tr>\n    <tr>\n      <th>3</th>\n      <td>0.292101</td>\n      <td>(5 Card Stud)</td>\n    </tr>\n    <tr>\n      <th>4</th>\n      <td>0.093890</td>\n      <td>(A Brief History of Time)</td>\n    </tr>\n    <tr>\n      <th>...</th>\n      <td>...</td>\n      <td>...</td>\n    </tr>\n    <tr>\n      <th>91003</th>\n      <td>0.071535</td>\n      <td>(Monsoon Wedding, Solaris, Terminator 3: Rise ...</td>\n    </tr>\n    <tr>\n      <th>91004</th>\n      <td>0.073025</td>\n      <td>(Monsoon Wedding, Solaris, Terminator 3: Rise ...</td>\n    </tr>\n    <tr>\n      <th>91005</th>\n      <td>0.071535</td>\n      <td>(Monsoon Wedding, Solaris, Terminator 3: Rise ...</td>\n    </tr>\n    <tr>\n      <th>91006</th>\n      <td>0.071535</td>\n      <td>(Monsoon Wedding, Solaris, Terminator 3: Rise ...</td>\n    </tr>\n    <tr>\n      <th>91007</th>\n      <td>0.070045</td>\n      <td>(Solaris, Terminator 3: Rise of the Machines, ...</td>\n    </tr>\n  </tbody>\n</table>\n<p>91008 rows × 2 columns</p>\n</div>"
     },
     "execution_count": 5,
     "metadata": {},
     "output_type": "execute_result"
    }
   ],
   "source": [
    "res_df"
   ],
   "metadata": {
    "collapsed": false,
    "pycharm": {
     "name": "#%%\n"
    }
   }
  },
  {
   "cell_type": "code",
   "execution_count": 6,
   "outputs": [],
   "source": [
    "keys = res_df[\"itemsets\"].values\n",
    "values = res_df[\"support\"].values"
   ],
   "metadata": {
    "collapsed": false,
    "pycharm": {
     "name": "#%%\n"
    }
   }
  },
  {
   "cell_type": "code",
   "execution_count": 7,
   "outputs": [
    {
     "data": {
      "text/plain": "array([frozenset({'20,000 Leagues Under the Sea'}),\n       frozenset({'2001: A Space Odyssey'}), frozenset({'48 Hrs.'}), ...,\n       frozenset({'Monsoon Wedding', 'Solaris', 'Terminator 3: Rise of the Machines', 'Three Colors: Red', 'Rain Man', 'The Million Dollar Hotel', 'Titanic', 'Sissi'}),\n       frozenset({'Monsoon Wedding', 'Solaris', 'Terminator 3: Rise of the Machines', 'Three Colors: Red', 'The Million Dollar Hotel', 'The Hours', 'Titanic', 'Sissi'}),\n       frozenset({'Solaris', 'Terminator 3: Rise of the Machines', 'Rain Man', 'The Million Dollar Hotel', 'The Hours', 'Titanic', 'Sissi', 'Reservoir Dogs'})],\n      dtype=object)"
     },
     "execution_count": 7,
     "metadata": {},
     "output_type": "execute_result"
    }
   ],
   "source": [
    "keys"
   ],
   "metadata": {
    "collapsed": false,
    "pycharm": {
     "name": "#%%\n"
    }
   }
  },
  {
   "cell_type": "code",
   "execution_count": 8,
   "outputs": [
    {
     "data": {
      "text/plain": "array([0.12965723, 0.12965723, 0.29806259, ..., 0.07153502, 0.07153502,\n       0.07004471])"
     },
     "execution_count": 8,
     "metadata": {},
     "output_type": "execute_result"
    }
   ],
   "source": [
    "values"
   ],
   "metadata": {
    "collapsed": false,
    "pycharm": {
     "name": "#%%\n"
    }
   }
  },
  {
   "cell_type": "code",
   "execution_count": 9,
   "outputs": [],
   "source": [
    "frozenset_vect = np.vectorize(lambda x: frozenset(x))"
   ],
   "metadata": {
    "collapsed": false,
    "pycharm": {
     "name": "#%%\n"
    }
   }
  },
  {
   "cell_type": "code",
   "execution_count": 10,
   "outputs": [
    {
     "data": {
      "text/plain": "array([frozenset({'20,000 Leagues Under the Sea'}),\n       frozenset({'2001: A Space Odyssey'}), frozenset({'48 Hrs.'}), ...,\n       frozenset({'Monsoon Wedding', 'Solaris', 'Terminator 3: Rise of the Machines', 'Three Colors: Red', 'Rain Man', 'The Million Dollar Hotel', 'Titanic', 'Sissi'}),\n       frozenset({'Monsoon Wedding', 'Solaris', 'Terminator 3: Rise of the Machines', 'Three Colors: Red', 'The Million Dollar Hotel', 'The Hours', 'Titanic', 'Sissi'}),\n       frozenset({'Solaris', 'Terminator 3: Rise of the Machines', 'Rain Man', 'The Million Dollar Hotel', 'The Hours', 'Titanic', 'Sissi', 'Reservoir Dogs'})],\n      dtype=object)"
     },
     "execution_count": 10,
     "metadata": {},
     "output_type": "execute_result"
    }
   ],
   "source": [
    "frozenset_vect(keys)"
   ],
   "metadata": {
    "collapsed": false,
    "pycharm": {
     "name": "#%%\n"
    }
   }
  },
  {
   "cell_type": "code",
   "execution_count": 11,
   "outputs": [
    {
     "data": {
      "text/plain": "{frozenset({'20,000 Leagues Under the Sea'}): 0.12965722801788376,\n frozenset({'2001: A Space Odyssey'}): 0.12965722801788376,\n frozenset({'48 Hrs.'}): 0.29806259314456035,\n frozenset({'5 Card Stud'}): 0.29210134128166915,\n frozenset({'A Brief History of Time'}): 0.09388971684053651,\n frozenset({'A Clockwork Orange'}): 0.15052160953800298,\n frozenset({'A Nightmare on Elm Street'}): 0.2667660208643815,\n frozenset({'A River Runs Through It'}): 0.19523099850968703,\n frozenset({'A Time to Kill'}): 0.08941877794336811,\n frozenset({'Aguirre: The Wrath of God'}): 0.13263785394932937,\n frozenset({'Aliens vs Predator: Requiem'}): 0.13412816691505217,\n frozenset({'All the Way Boys'}): 0.23695976154992549,\n frozenset({'Almost Famous'}): 0.10134128166915052,\n frozenset({'American Pie'}): 0.07004470938897168,\n frozenset({'American Pie 2'}): 0.07600596125186289,\n frozenset({'Anatomy of Hell'}): 0.07004470938897168,\n frozenset({'And Then There Were None'}): 0.19076005961251863,\n frozenset({'Ariel'}): 0.15946348733233978,\n frozenset({'Arlington Road'}): 0.21758569299552907,\n frozenset({'Armageddon'}): 0.13859910581222057,\n frozenset({'Asterix at the Olympic Games'}): 0.10134128166915052,\n frozenset({'Avalon'}): 0.11326378539493294,\n frozenset({'Back to the Future'}): 0.07004470938897168,\n frozenset({'Back to the Future Part II'}): 0.21013412816691504,\n frozenset({'Back to the Future Part III'}): 0.08196721311475409,\n frozenset({'Bad Boys II'}): 0.18479880774962743,\n frozenset({'Bandyta'}): 0.07153502235469449,\n frozenset({'Bang, Boom, Bang'}): 0.2563338301043219,\n frozenset({'Barry Lyndon'}): 0.09687034277198212,\n frozenset({'Batman Returns'}): 0.29806259314456035,\n frozenset({'Battle Royale'}): 0.09687034277198212,\n frozenset({'Beauty and the Beast'}): 0.2503725782414307,\n frozenset({'Beetlejuice'}): 0.14008941877794337,\n frozenset({'Bell, Book and Candle'}): 0.08196721311475409,\n frozenset({'Belle Époque'}): 0.08792846497764531,\n frozenset({'Big Fish'}): 0.18777943368107303,\n frozenset({'Blackmail'}): 0.07749627421758569,\n frozenset({'Blood: The Last Vampire'}): 0.17585692995529062,\n frozenset({'Boat'}): 0.07749627421758569,\n frozenset({'Bollywood/Hollywood'}): 0.07451564828614009,\n frozenset({'Boogie Nights'}): 0.16989567809239942,\n frozenset({'Bread and Tulips'}): 0.07153502235469449,\n frozenset({'Bridge to Terabithia'}): 0.2459016393442623,\n frozenset({'Broken Blossoms'}): 0.09388971684053651,\n frozenset({\"Captain Corelli's Mandolin\"}): 0.07153502235469449,\n frozenset({'Carry On Screaming'}): 0.08643815201192251,\n frozenset({'Cars'}): 0.10134128166915052,\n frozenset({'Cat on a Hot Tin Roof'}): 0.07600596125186289,\n frozenset({\"Cheerleaders' Wild Weekend\"}): 0.11326378539493294,\n frozenset({'Cockles and Muscles'}): 0.17138599105812222,\n frozenset({'Comanche Station'}): 0.09239940387481371,\n frozenset({'Confession of a Child of the Century'}): 0.17734724292101342,\n frozenset({'Confidentially Yours'}): 0.07004470938897168,\n frozenset({'Contempt'}): 0.10730253353204174,\n frozenset({'Cool Hand Luke'}): 0.10283159463487332,\n frozenset({'Cousin, Cousine'}): 0.09239940387481371,\n frozenset({'Dancer in the Dark'}): 0.13114754098360656,\n frozenset({\"Dave Chappelle's Block Party\"}): 0.16244411326378538,\n frozenset({'Dawn of the Dead'}): 0.23845007451564829,\n frozenset({'Die Hard 2'}): 0.12071535022354694,\n frozenset({'Dogtown and Z-Boys'}): 0.09538002980625931,\n frozenset({'Dogville'}): 0.08494783904619971,\n frozenset({\"Don't Come Knocking\"}): 0.07898658718330849,\n frozenset({\"Don't Look Down\"}): 0.08494783904619971,\n frozenset({\"Don't Make Waves\"}): 0.11624441132637854,\n frozenset({'Donnie Darko'}): 0.13859910581222057,\n frozenset({'Downhill Racer'}): 0.07153502235469449,\n frozenset({'Dr. Jekyll and Mr. Hyde'}): 0.07004470938897168,\n frozenset({'Eight Miles High'}): 0.08047690014903129,\n frozenset({'Eyes Wide Shut'}): 0.07153502235469449,\n frozenset({'Fahrenheit 9/11'}): 0.10432190760059612,\n frozenset({'Fever Pitch'}): 0.14456035767511177,\n frozenset({'Fools Rush In'}): 0.17287630402384502,\n frozenset({'Forces of Nature'}): 0.09538002980625931,\n frozenset({'Four Rooms'}): 0.08345752608047691,\n frozenset({'Frankenstein Conquers the World'}): 0.08047690014903129,\n frozenset({'Gandhi'}): 0.07302533532041729,\n frozenset({'Get Carter'}): 0.10432190760059612,\n frozenset({'Ghost Rider'}): 0.09687034277198212,\n frozenset({'Gleaming the Cube'}): 0.13263785394932937,\n frozenset({'Gods and Monsters'}): 0.08643815201192251,\n frozenset({'Grbavica: The Land of My Dreams'}): 0.10432190760059612,\n frozenset({'Grill Point'}): 0.21311475409836064,\n frozenset({'Hard Target'}): 0.08047690014903129,\n frozenset({'Harry Potter and the Prisoner of Azkaban'}): 0.07302533532041729,\n frozenset({'Heathers'}): 0.11177347242921014,\n frozenset({'High Noon'}): 0.15946348733233978,\n frozenset({'Houseboat'}): 0.09538002980625931,\n frozenset({'I Love You to Death'}): 0.07302533532041729,\n frozenset({'Imagine Me & You'}): 0.09985096870342772,\n frozenset({'Interview with the Vampire'}): 0.07451564828614009,\n frozenset({'Italian for Beginners'}): 0.07153502235469449,\n frozenset({\"Jacob's Ladder\"}): 0.13263785394932937,\n frozenset({'Jarhead'}): 0.14903129657228018,\n frozenset({'Jay and Silent Bob Strike Back'}): 0.07898658718330849,\n frozenset({'Judgment Night'}): 0.15499254843517138,\n frozenset({'Jurassic Park'}): 0.16691505216095381,\n frozenset({'K-19: The Widowmaker'}): 0.10730253353204174,\n frozenset({'Klute'}): 0.08643815201192251,\n frozenset({\"Knockin' on Heaven's Door\"}): 0.08345752608047691,\n frozenset({'Kolya'}): 0.08643815201192251,\n frozenset({'La Vie en Rose'}): 0.10730253353204174,\n frozenset({'License to Wed'}): 0.29806259314456035,\n frozenset({'Light of Day'}): 0.14605067064083457,\n frozenset({'Lili Marleen'}): 0.09239940387481371,\n frozenset({'Live and Let Die'}): 0.18479880774962743,\n frozenset({'Local Color'}): 0.14754098360655737,\n frozenset({'Lolita'}): 0.10730253353204174,\n frozenset({'Lonely Hearts'}): 0.11177347242921014,\n frozenset({'Longitude'}): 0.09090909090909091,\n frozenset({'Loose Screws'}): 0.10879284649776454,\n frozenset({'Lost in Translation'}): 0.18777943368107303,\n frozenset({'Love Actually'}): 0.12816691505216096,\n frozenset({'Lucky Number Slevin'}): 0.07153502235469449,\n frozenset({'M'}): 0.11326378539493294,\n frozenset({'Madagascar'}): 0.10730253353204174,\n frozenset({'Man of Iron'}): 0.07749627421758569,\n frozenset({'Married to the Mob'}): 0.09538002980625931,\n frozenset({'Meet the Robinsons'}): 0.07302533532041729,\n frozenset({'Men in Black II'}): 0.33383010432190763,\n frozenset({'Mere Brother Ki Dulhan'}): 0.07302533532041729,\n frozenset({'Metropolis'}): 0.13561847988077497,\n frozenset({'Miffo'}): 0.09090909090909091,\n frozenset({'Million Dollar Baby'}): 0.07004470938897168,\n frozenset({'Mirror'}): 0.07600596125186289,\n frozenset({\"Monsieur  Hulot's Holiday\"}): 0.18330849478390462,\n frozenset({'Monsieur Ibrahim'}): 0.13114754098360656,\n frozenset({'Monsoon Wedding'}): 0.4068554396423249,\n frozenset({'Mothra vs. Godzilla'}): 0.20417287630402384,\n frozenset({\"Mr. Holland's Opus\"}): 0.11177347242921014,\n frozenset({'Mrs. Doubtfire'}): 0.10134128166915052,\n frozenset({'Murder She Said'}): 0.15499254843517138,\n frozenset({\"Muriel's Wedding\"}): 0.08792846497764531,\n frozenset({'Muxmäuschenstill'}): 0.15499254843517138,\n frozenset({\"My Best Friend's Wedding\"}): 0.10432190760059612,\n frozenset({'My Name Is Bruce'}): 0.17734724292101342,\n frozenset({'New York Doll'}): 0.07302533532041729,\n frozenset({'Night on Earth'}): 0.14903129657228018,\n frozenset({'Nosferatu'}): 0.09090909090909091,\n frozenset({'Nostalgia'}): 0.10432190760059612,\n frozenset({'Notes on a Scandal'}): 0.16691505216095381,\n frozenset({'Notting Hill'}): 0.11475409836065574,\n frozenset({\"Ocean's Eleven\"}): 0.13710879284649777,\n frozenset({\"Ocean's Twelve\"}): 0.09388971684053651,\n frozenset({'On Guard'}): 0.08792846497764531,\n frozenset({'Once Were Warriors'}): 0.3591654247391952,\n frozenset({'Parenthood'}): 0.08494783904619971,\n frozenset({'Persepolis'}): 0.14605067064083457,\n frozenset({'Pleasantville'}): 0.09388971684053651,\n frozenset({'Point Break'}): 0.19672131147540983,\n frozenset({'Popular Music'}): 0.14008941877794337,\n frozenset({'Princesses'}): 0.10581222056631892,\n frozenset({'Psycho'}): 0.18628912071535023,\n frozenset({'Rain Man'}): 0.293591654247392,\n frozenset({'Rambo III'}): 0.09687034277198212,\n frozenset({'Rebecca'}): 0.16095380029806258,\n frozenset({'Reign Over Me'}): 0.15499254843517138,\n frozenset({'Reservoir Dogs'}): 0.22801788375558868,\n frozenset({'Ringu'}): 0.09538002980625931,\n frozenset({'Rocky Balboa'}): 0.14157973174366617,\n frozenset({'Rocky IV'}): 0.10730253353204174,\n frozenset({'Rocky V'}): 0.07898658718330849,\n frozenset({'Romeo + Juliet'}): 0.16393442622950818,\n frozenset({'Rope'}): 0.2816691505216095,\n frozenset({\"Rosemary's Baby\"}): 0.07302533532041729,\n frozenset({'Run Lola Run'}): 0.13859910581222057,\n frozenset({'Rush Hour'}): 0.07302533532041729,\n frozenset({'Say Anything...'}): 0.28315946348733234,\n frozenset({'Scarface'}): 0.17287630402384502,\n frozenset({'School of Rock'}): 0.13710879284649777,\n frozenset({'Shadows in Paradise'}): 0.08643815201192251,\n frozenset({'Shaft in Africa'}): 0.09090909090909091,\n frozenset({'Shriek If You Know What I Did Last Friday the Thirteenth'}): 0.19672131147540983,\n frozenset({'Silent Hill'}): 0.31594634873323396,\n frozenset({'Silent Light'}): 0.13859910581222057,\n frozenset({'Sissi'}): 0.31594634873323396,\n frozenset({'Sister Act'}): 0.07600596125186289,\n frozenset({'Sleepless in Seattle'}): 0.29806259314456035,\n frozenset({'Solaris'}): 0.45007451564828616,\n frozenset({'Spanglish'}): 0.07600596125186289,\n frozenset({'Speed 2: Cruise Control'}): 0.09538002980625931,\n frozenset({'Stand by Me'}): 0.11326378539493294,\n frozenset({'Star 80'}): 0.09687034277198212,\n frozenset({'Star Trek V: The Final Frontier'}): 0.07004470938897168,\n frozenset({'Star Wars'}): 0.12220566318926974,\n frozenset({'Stranger Than Fiction'}): 0.07153502235469449,\n frozenset({'Street Kings'}): 0.08494783904619971,\n frozenset({'Summer Storm'}): 0.08196721311475409,\n frozenset({'Summer in Berlin'}): 0.10879284649776454,\n frozenset({'Superstar: The Karen Carpenter Story'}): 0.16095380029806258,\n frozenset({'Sweet Sixteen'}): 0.09388971684053651,\n frozenset({'Syriana'}): 0.23099850968703428,\n frozenset({'Terminator 3: Rise of the Machines'}): 0.481371087928465,\n frozenset({'That Man from Rio'}): 0.10879284649776454,\n frozenset({'The 39 Steps'}): 0.43219076005961254,\n frozenset({'The Arrival of a Train at La Ciotat'}): 0.09090909090909091,\n frozenset({'The Big Sleep'}): 0.09538002980625931,\n frozenset({'The Bourne Supremacy'}): 0.15797317436661698,\n frozenset({'The Butterfly Effect'}): 0.10134128166915052,\n frozenset({'The Cave of the Yellow Dog'}): 0.15648286140089418,\n frozenset({'The Chronicles of Riddick: Dark Fury'}): 0.15648286140089418,\n frozenset({'The Conversation'}): 0.29210134128166915,\n frozenset({'The Dark'}): 0.12816691505216096,\n frozenset({'The Day After Tomorrow'}): 0.08047690014903129,\n frozenset({'The Devil Wears Prada'}): 0.10432190760059612,\n frozenset({'The Dreamers'}): 0.11028315946348734,\n frozenset({'The Endless Summer'}): 0.14157973174366617,\n frozenset({'The Forbidden Kingdom'}): 0.08494783904619971,\n frozenset({'The Garden of Eden'}): 0.12518628912071536,\n frozenset({'The Goddess'}): 0.07749627421758569,\n frozenset({'The Golden Compass'}): 0.11326378539493294,\n frozenset({'The Good Shepherd'}): 0.13263785394932937,\n frozenset({'The Good Thief'}): 0.10283159463487332,\n frozenset({'The Grapes of Wrath'}): 0.09687034277198212,\n frozenset({'The Great Dictator'}): 0.07451564828614009,\n frozenset({'The Great Outdoors'}): 0.11773472429210134,\n frozenset({'The Green Mile'}): 0.08941877794336811,\n frozenset({'The Hidden Fortress'}): 0.08643815201192251,\n frozenset({'The Hours'}): 0.30104321907600595,\n frozenset({'The Last Castle'}): 0.07749627421758569,\n frozenset({'The Last Laugh'}): 0.07451564828614009,\n frozenset({'The Living Daylights'}): 0.08941877794336811,\n frozenset({'The Man with the Golden Arm'}): 0.21758569299552907,\n frozenset({'The Marriage of Maria Braun'}): 0.07898658718330849,\n frozenset({'The Million Dollar Hotel'}): 0.46348733233979134,\n frozenset({'The Motorcycle Diaries'}): 0.12518628912071536,\n frozenset({'The Passion of Joan of Arc'}): 0.32190760059612517,\n frozenset({'The Poseidon Adventure'}): 0.13263785394932937,\n frozenset({'The Prisoner of Zenda'}): 0.17734724292101342,\n frozenset({'The Prize'}): 0.07898658718330849,\n frozenset({'The Projected Man'}): 0.07749627421758569,\n frozenset({'The Red Elvis'}): 0.11773472429210134,\n frozenset({'The Science of Sleep'}): 0.13412816691505217,\n frozenset({'The Searchers'}): 0.18479880774962743,\n frozenset({'The Sixth Sense'}): 0.09090909090909091,\n frozenset({'The Talented Mr. Ripley'}): 0.19523099850968703,\n frozenset({'The Terminal'}): 0.10432190760059612,\n frozenset({'The Third Man'}): 0.08345752608047691,\n frozenset({'The Thirteenth Floor'}): 0.10134128166915052,\n frozenset({'The Thomas Crown Affair'}): 0.20864381520119224,\n frozenset({'The Tunnel'}): 0.2414307004470939,\n frozenset({'The Very Thought of You'}): 0.07451564828614009,\n frozenset({'Three Colors: Red'}): 0.338301043219076,\n frozenset({'Titanic'}): 0.27123695976154993,\n frozenset({'To Kill a Mockingbird'}): 0.26229508196721313,\n frozenset({'Torrente 3 The Protector'}): 0.08941877794336811,\n frozenset({'Tough Enough'}): 0.15648286140089418,\n frozenset({'Twin Peaks: Fire Walk with Me'}): 0.18181818181818182,\n frozenset({'Two Brothers'}): 0.09239940387481371,\n frozenset({'Under the Sand'}): 0.17883755588673622,\n frozenset({'Wag the Dog'}): 0.19076005961251863,\n frozenset({'Waiter'}): 0.12071535022354694,\n frozenset({'We Own the Night'}): 0.08494783904619971,\n frozenset({'Whale Rider'}): 0.07898658718330849,\n frozenset({'When Saturday Comes'}): 0.10432190760059612,\n frozenset({'Who Killed Bambi?'}): 0.16244411326378538,\n frozenset({'Will Penny'}): 0.10581222056631892,\n frozenset({'Windows on Monday'}): 0.10134128166915052,\n frozenset({'X-Men Origins: Wolverine'}): 0.07600596125186289,\n frozenset({'Y Tu Mamá También'}): 0.11624441132637854,\n frozenset({'Yesterday'}): 0.07898658718330849,\n frozenset({'Young and Innocent'}): 0.2846497764530551,\n frozenset({'Zatoichi'}): 0.08941877794336811,\n frozenset({'20,000 Leagues Under the Sea', '48 Hrs.'}): 0.07600596125186289,\n frozenset({'20,000 Leagues Under the Sea',\n            'A Nightmare on Elm Street'}): 0.08196721311475409,\n frozenset({'20,000 Leagues Under the Sea',\n            'Back to the Future Part II'}): 0.07749627421758569,\n frozenset({'20,000 Leagues Under the Sea',\n            'Bang, Boom, Bang'}): 0.07302533532041729,\n frozenset({'20,000 Leagues Under the Sea',\n            'Batman Returns'}): 0.07302533532041729,\n frozenset({'20,000 Leagues Under the Sea',\n            'Lost in Translation'}): 0.07153502235469449,\n frozenset({'20,000 Leagues Under the Sea',\n            'Monsoon Wedding'}): 0.09090909090909091,\n frozenset({'20,000 Leagues Under the Sea',\n            'Popular Music'}): 0.07153502235469449,\n frozenset({'20,000 Leagues Under the Sea', 'Rain Man'}): 0.08643815201192251,\n frozenset({'20,000 Leagues Under the Sea',\n            'Silent Hill'}): 0.07898658718330849,\n frozenset({'20,000 Leagues Under the Sea', 'Sissi'}): 0.08643815201192251,\n frozenset({'20,000 Leagues Under the Sea', 'Solaris'}): 0.08941877794336811,\n frozenset({'20,000 Leagues Under the Sea', 'Syriana'}): 0.07153502235469449,\n frozenset({'20,000 Leagues Under the Sea',\n            'Terminator 3: Rise of the Machines'}): 0.09687034277198212,\n frozenset({'20,000 Leagues Under the Sea',\n            'The Conversation'}): 0.08941877794336811,\n frozenset({'20,000 Leagues Under the Sea', 'The Hours'}): 0.07749627421758569,\n frozenset({'20,000 Leagues Under the Sea',\n            'The Million Dollar Hotel'}): 0.07451564828614009,\n frozenset({'20,000 Leagues Under the Sea',\n            'The Passion of Joan of Arc'}): 0.07451564828614009,\n frozenset({'20,000 Leagues Under the Sea',\n            'Three Colors: Red'}): 0.08047690014903129,\n frozenset({'20,000 Leagues Under the Sea', 'Titanic'}): 0.07004470938897168,\n frozenset({'2001: A Space Odyssey', 'Arlington Road'}): 0.08494783904619971,\n frozenset({'2001: A Space Odyssey', 'Batman Returns'}): 0.07451564828614009,\n frozenset({'2001: A Space Odyssey',\n            'Beauty and the Beast'}): 0.08345752608047691,\n frozenset({'2001: A Space Odyssey', 'Men in Black II'}): 0.08345752608047691,\n frozenset({'2001: A Space Odyssey', 'Monsoon Wedding'}): 0.07749627421758569,\n frozenset({'2001: A Space Odyssey', 'Reservoir Dogs'}): 0.07004470938897168,\n frozenset({'2001: A Space Odyssey', 'Silent Hill'}): 0.07600596125186289,\n frozenset({'2001: A Space Odyssey', 'Sissi'}): 0.07153502235469449,\n frozenset({'2001: A Space Odyssey', 'Solaris'}): 0.07749627421758569,\n frozenset({'2001: A Space Odyssey',\n            'Terminator 3: Rise of the Machines'}): 0.08196721311475409,\n frozenset({'2001: A Space Odyssey', 'The 39 Steps'}): 0.08047690014903129,\n frozenset({'2001: A Space Odyssey', 'The Conversation'}): 0.07004470938897168,\n frozenset({'2001: A Space Odyssey', 'The Hours'}): 0.07451564828614009,\n frozenset({'2001: A Space Odyssey',\n            'The Million Dollar Hotel'}): 0.07749627421758569,\n frozenset({'2001: A Space Odyssey',\n            'The Passion of Joan of Arc'}): 0.09388971684053651,\n frozenset({'2001: A Space Odyssey',\n            'Three Colors: Red'}): 0.07153502235469449,\n frozenset({'48 Hrs.', '5 Card Stud'}): 0.10879284649776454,\n frozenset({'48 Hrs.', 'A Clockwork Orange'}): 0.10134128166915052,\n frozenset({'48 Hrs.', 'A Nightmare on Elm Street'}): 0.15648286140089418,\n frozenset({'48 Hrs.', 'A River Runs Through It'}): 0.08792846497764531,\n frozenset({'48 Hrs.', 'Aliens vs Predator: Requiem'}): 0.09388971684053651,\n frozenset({'48 Hrs.', 'All the Way Boys'}): 0.10134128166915052,\n frozenset({'48 Hrs.', 'And Then There Were None'}): 0.07153502235469449,\n frozenset({'48 Hrs.', 'Ariel'}): 0.09687034277198212,\n frozenset({'48 Hrs.', 'Arlington Road'}): 0.08047690014903129,\n frozenset({'48 Hrs.', 'Armageddon'}): 0.07898658718330849,\n frozenset({'48 Hrs.', 'Back to the Future Part II'}): 0.14903129657228018,\n frozenset({'48 Hrs.', 'Bad Boys II'}): 0.07749627421758569,\n frozenset({'48 Hrs.', 'Bang, Boom, Bang'}): 0.16840536512667661,\n frozenset({'48 Hrs.', 'Batman Returns'}): 0.17138599105812222,\n frozenset({'48 Hrs.', 'Beauty and the Beast'}): 0.12369597615499255,\n frozenset({'48 Hrs.', 'Big Fish'}): 0.12518628912071536,\n frozenset({'48 Hrs.', 'Blood: The Last Vampire'}): 0.08196721311475409,\n frozenset({'48 Hrs.', 'Boogie Nights'}): 0.07600596125186289,\n frozenset({'48 Hrs.', 'Bridge to Terabithia'}): 0.09836065573770492,\n frozenset({'48 Hrs.', 'Cockles and Muscles'}): 0.12965722801788376,\n frozenset({'48 Hrs.', 'Contempt'}): 0.07600596125186289,\n frozenset({'48 Hrs.', \"Dave Chappelle's Block Party\"}): 0.11922503725782414,\n frozenset({'48 Hrs.', 'Dawn of the Dead'}): 0.09687034277198212,\n frozenset({'48 Hrs.', 'Donnie Darko'}): 0.07004470938897168,\n frozenset({'48 Hrs.', 'Fever Pitch'}): 0.07451564828614009,\n frozenset({'48 Hrs.', 'Fools Rush In'}): 0.07153502235469449,\n frozenset({'48 Hrs.', 'Grill Point'}): 0.14157973174366617,\n frozenset({'48 Hrs.', 'High Noon'}): 0.09985096870342772,\n frozenset({'48 Hrs.', 'Jarhead'}): 0.08643815201192251,\n frozenset({'48 Hrs.', 'Judgment Night'}): 0.08345752608047691,\n frozenset({'48 Hrs.', 'Jurassic Park'}): 0.10879284649776454,\n frozenset({'48 Hrs.', 'License to Wed'}): 0.09090909090909091,\n frozenset({'48 Hrs.', 'Live and Let Die'}): 0.12518628912071536,\n frozenset({'48 Hrs.', 'Lost in Translation'}): 0.12369597615499255,\n frozenset({'48 Hrs.', 'Love Actually'}): 0.09388971684053651,\n frozenset({'48 Hrs.', 'Men in Black II'}): 0.13561847988077497,\n frozenset({'48 Hrs.', 'Metropolis'}): 0.08196721311475409,\n frozenset({'48 Hrs.', \"Monsieur  Hulot's Holiday\"}): 0.07898658718330849,\n frozenset({'48 Hrs.', 'Monsieur Ibrahim'}): 0.08494783904619971,\n frozenset({'48 Hrs.', 'Monsoon Wedding'}): 0.21311475409836064,\n frozenset({'48 Hrs.', 'Mothra vs. Godzilla'}): 0.08792846497764531,\n frozenset({'48 Hrs.', 'My Name Is Bruce'}): 0.08643815201192251,\n frozenset({'48 Hrs.', 'Night on Earth'}): 0.09985096870342772,\n frozenset({'48 Hrs.', 'Notes on a Scandal'}): 0.07004470938897168,\n frozenset({'48 Hrs.', \"Ocean's Eleven\"}): 0.10134128166915052,\n frozenset({'48 Hrs.', 'Once Were Warriors'}): 0.15201192250372578,\n frozenset({'48 Hrs.', 'Point Break'}): 0.07749627421758569,\n frozenset({'48 Hrs.', 'Popular Music'}): 0.07898658718330849,\n frozenset({'48 Hrs.', 'Psycho'}): 0.11624441132637854,\n frozenset({'48 Hrs.', 'Rain Man'}): 0.19225037257824143,\n frozenset({'48 Hrs.', 'Rebecca'}): 0.08643815201192251,\n frozenset({'48 Hrs.', 'Reservoir Dogs'}): 0.14008941877794337,\n frozenset({'48 Hrs.', 'Rocky Balboa'}): 0.07153502235469449,\n frozenset({'48 Hrs.', 'Romeo + Juliet'}): 0.12369597615499255,\n frozenset({'48 Hrs.', 'Rope'}): 0.11624441132637854,\n frozenset({'48 Hrs.', 'Say Anything...'}): 0.11028315946348734,\n frozenset({'48 Hrs.', 'Scarface'}): 0.07153502235469449,\n frozenset({'48 Hrs.',\n            'Shriek If You Know What I Did Last Friday the Thirteenth'}): 0.07451564828614009,\n frozenset({'48 Hrs.', 'Silent Hill'}): 0.17436661698956782,\n frozenset({'48 Hrs.', 'Sissi'}): 0.20417287630402384,\n frozenset({'48 Hrs.', 'Sleepless in Seattle'}): 0.09985096870342772,\n frozenset({'48 Hrs.', 'Solaris'}): 0.21311475409836064,\n frozenset({'48 Hrs.', 'Stand by Me'}): 0.07451564828614009,\n frozenset({'48 Hrs.', 'Star Wars'}): 0.08047690014903129,\n frozenset({'48 Hrs.', 'Summer in Berlin'}): 0.07898658718330849,\n frozenset({'48 Hrs.',\n            'Superstar: The Karen Carpenter Story'}): 0.07898658718330849,\n frozenset({'48 Hrs.', 'Syriana'}): 0.14008941877794337,\n frozenset({'48 Hrs.',\n            'Terminator 3: Rise of the Machines'}): 0.22801788375558868,\n frozenset({'48 Hrs.', 'The 39 Steps'}): 0.15052160953800298,\n frozenset({'48 Hrs.', 'The Cave of the Yellow Dog'}): 0.08345752608047691,\n frozenset({'48 Hrs.', 'The Conversation'}): 0.18479880774962743,\n frozenset({'48 Hrs.', 'The Devil Wears Prada'}): 0.07302533532041729,\n frozenset({'48 Hrs.', 'The Endless Summer'}): 0.08941877794336811,\n frozenset({'48 Hrs.', 'The Hours'}): 0.20119225037257824,\n frozenset({'48 Hrs.', 'The Man with the Golden Arm'}): 0.07898658718330849,\n frozenset({'48 Hrs.', 'The Million Dollar Hotel'}): 0.20417287630402384,\n frozenset({'48 Hrs.', 'The Passion of Joan of Arc'}): 0.16095380029806258,\n frozenset({'48 Hrs.', 'The Science of Sleep'}): 0.11326378539493294,\n frozenset({'48 Hrs.', 'The Searchers'}): 0.07749627421758569,\n frozenset({'48 Hrs.', 'The Talented Mr. Ripley'}): 0.07898658718330849,\n frozenset({'48 Hrs.', 'The Thomas Crown Affair'}): 0.07153502235469449,\n frozenset({'48 Hrs.', 'The Tunnel'}): 0.09090909090909091,\n frozenset({'48 Hrs.', 'Three Colors: Red'}): 0.18330849478390462,\n frozenset({'48 Hrs.', 'Titanic'}): 0.14605067064083457,\n frozenset({'48 Hrs.', 'To Kill a Mockingbird'}): 0.15946348733233978,\n frozenset({'48 Hrs.', 'Tough Enough'}): 0.11177347242921014,\n frozenset({'48 Hrs.', 'Twin Peaks: Fire Walk with Me'}): 0.08345752608047691,\n frozenset({'48 Hrs.', 'Wag the Dog'}): 0.11624441132637854,\n frozenset({'48 Hrs.', 'Who Killed Bambi?'}): 0.08047690014903129,\n frozenset({'48 Hrs.', 'Young and Innocent'}): 0.10879284649776454,\n frozenset({'5 Card Stud', 'A Nightmare on Elm Street'}): 0.10581222056631892,\n frozenset({'5 Card Stud', 'A River Runs Through It'}): 0.09388971684053651,\n frozenset({'5 Card Stud', 'Aguirre: The Wrath of God'}): 0.07153502235469449,\n frozenset({'5 Card Stud', 'All the Way Boys'}): 0.13263785394932937,\n frozenset({'5 Card Stud', 'And Then There Were None'}): 0.14605067064083457,\n frozenset({'5 Card Stud', 'Ariel'}): 0.07898658718330849,\n frozenset({'5 Card Stud', 'Arlington Road'}): 0.08792846497764531,\n frozenset({'5 Card Stud', 'Bad Boys II'}): 0.14754098360655737,\n frozenset({'5 Card Stud', 'Bang, Boom, Bang'}): 0.09836065573770492,\n frozenset({'5 Card Stud', 'Batman Returns'}): 0.12965722801788376,\n frozenset({'5 Card Stud', 'Beauty and the Beast'}): 0.09687034277198212,\n frozenset({'5 Card Stud', 'Beetlejuice'}): 0.09836065573770492,\n frozenset({'5 Card Stud', 'Big Fish'}): 0.07451564828614009,\n frozenset({'5 Card Stud', 'Blood: The Last Vampire'}): 0.08345752608047691,\n frozenset({'5 Card Stud', 'Boogie Nights'}): 0.12816691505216096,\n frozenset({'5 Card Stud', 'Bridge to Terabithia'}): 0.12816691505216096,\n frozenset({'5 Card Stud', \"Cheerleaders' Wild Weekend\"}): 0.07451564828614009,\n frozenset({'5 Card Stud',\n            'Confession of a Child of the Century'}): 0.12667660208643816,\n frozenset({'5 Card Stud', 'Dawn of the Dead'}): 0.11177347242921014,\n frozenset({'5 Card Stud', \"Don't Look Down\"}): 0.07302533532041729,\n frozenset({'5 Card Stud', \"Don't Make Waves\"}): 0.07600596125186289,\n frozenset({'5 Card Stud', 'Fever Pitch'}): 0.07600596125186289,\n frozenset({'5 Card Stud', 'Fools Rush In'}): 0.09538002980625931,\n frozenset({'5 Card Stud', \"Jacob's Ladder\"}): 0.07749627421758569,\n frozenset({'5 Card Stud', 'K-19: The Widowmaker'}): 0.08643815201192251,\n frozenset({'5 Card Stud', 'License to Wed'}): 0.18479880774962743,\n frozenset({'5 Card Stud', 'Light of Day'}): 0.09836065573770492,\n frozenset({'5 Card Stud', 'Local Color'}): 0.08494783904619971,\n frozenset({'5 Card Stud', 'Loose Screws'}): 0.08494783904619971,\n frozenset({'5 Card Stud', 'Men in Black II'}): 0.10879284649776454,\n frozenset({'5 Card Stud', \"Monsieur  Hulot's Holiday\"}): 0.09090909090909091,\n frozenset({'5 Card Stud', 'Monsoon Wedding'}): 0.16244411326378538,\n frozenset({'5 Card Stud', 'Mothra vs. Godzilla'}): 0.12965722801788376,\n frozenset({'5 Card Stud', 'Murder She Said'}): 0.07153502235469449,\n frozenset({'5 Card Stud', 'Muxmäuschenstill'}): 0.12667660208643816,\n frozenset({'5 Card Stud', \"My Best Friend's Wedding\"}): 0.07600596125186289,\n frozenset({'5 Card Stud', 'My Name Is Bruce'}): 0.10730253353204174,\n frozenset({'5 Card Stud', 'Notes on a Scandal'}): 0.07004470938897168,\n frozenset({'5 Card Stud', 'On Guard'}): 0.07302533532041729,\n frozenset({'5 Card Stud', 'Once Were Warriors'}): 0.14307004470938897,\n frozenset({'5 Card Stud', 'Persepolis'}): 0.08345752608047691,\n frozenset({'5 Card Stud', 'Point Break'}): 0.10581222056631892,\n frozenset({'5 Card Stud', 'Rain Man'}): 0.09687034277198212,\n frozenset({'5 Card Stud', 'Rebecca'}): 0.07749627421758569,\n frozenset({'5 Card Stud', 'Reign Over Me'}): 0.08494783904619971,\n frozenset({'5 Card Stud', 'Reservoir Dogs'}): 0.09538002980625931,\n frozenset({'5 Card Stud', 'Rocky Balboa'}): 0.07600596125186289,\n frozenset({'5 Card Stud', 'Rope'}): 0.15648286140089418,\n frozenset({'5 Card Stud', 'Run Lola Run'}): 0.07153502235469449,\n frozenset({'5 Card Stud', 'Say Anything...'}): 0.14903129657228018,\n frozenset({'5 Card Stud', 'Scarface'}): 0.07451564828614009,\n frozenset({'5 Card Stud',\n            'Shriek If You Know What I Did Last Friday the Thirteenth'}): 0.13412816691505217,\n frozenset({'5 Card Stud', 'Silent Hill'}): 0.11177347242921014,\n frozenset({'5 Card Stud', 'Silent Light'}): 0.07898658718330849,\n frozenset({'5 Card Stud', 'Sissi'}): 0.11177347242921014,\n frozenset({'5 Card Stud', 'Sleepless in Seattle'}): 0.14456035767511177,\n frozenset({'5 Card Stud', 'Solaris'}): 0.17287630402384502,\n frozenset({'5 Card Stud', 'Star 80'}): 0.07004470938897168,\n frozenset({'5 Card Stud',\n            'Superstar: The Karen Carpenter Story'}): 0.08196721311475409,\n frozenset({'5 Card Stud', 'Syriana'}): 0.08941877794336811,\n frozenset({'5 Card Stud',\n            'Terminator 3: Rise of the Machines'}): 0.18628912071535023,\n frozenset({'5 Card Stud', 'The 39 Steps'}): 0.21609538002980627,\n frozenset({'5 Card Stud', 'The Bourne Supremacy'}): 0.10134128166915052,\n frozenset({'5 Card Stud', 'The Cave of the Yellow Dog'}): 0.08345752608047691,\n frozenset({'5 Card Stud',\n            'The Chronicles of Riddick: Dark Fury'}): 0.08196721311475409,\n frozenset({'5 Card Stud', 'The Conversation'}): 0.10283159463487332,\n frozenset({'5 Card Stud', 'The Garden of Eden'}): 0.09985096870342772,\n frozenset({'5 Card Stud', 'The Great Outdoors'}): 0.07451564828614009,\n frozenset({'5 Card Stud', 'The Hours'}): 0.09687034277198212,\n frozenset({'5 Card Stud',\n            'The Man with the Golden Arm'}): 0.11177347242921014,\n frozenset({'5 Card Stud', 'The Million Dollar Hotel'}): 0.19374068554396423,\n frozenset({'5 Card Stud', 'The Passion of Joan of Arc'}): 0.12667660208643816,\n frozenset({'5 Card Stud', 'The Prisoner of Zenda'}): 0.09687034277198212,\n frozenset({'5 Card Stud', 'The Searchers'}): 0.11326378539493294,\n frozenset({'5 Card Stud', 'The Talented Mr. Ripley'}): 0.09687034277198212,\n frozenset({'5 Card Stud', 'The Thomas Crown Affair'}): 0.08196721311475409,\n frozenset({'5 Card Stud', 'The Tunnel'}): 0.16393442622950818,\n frozenset({'5 Card Stud', 'Three Colors: Red'}): 0.14754098360655737,\n frozenset({'5 Card Stud', 'Titanic'}): 0.09538002980625931,\n frozenset({'5 Card Stud', 'To Kill a Mockingbird'}): 0.08792846497764531,\n frozenset({'5 Card Stud',\n            'Twin Peaks: Fire Walk with Me'}): 0.10581222056631892,\n frozenset({'5 Card Stud', 'Under the Sand'}): 0.10879284649776454,\n frozenset({'5 Card Stud', 'Wag the Dog'}): 0.08792846497764531,\n frozenset({'5 Card Stud', 'Waiter'}): 0.09538002980625931,\n frozenset({'5 Card Stud', 'Who Killed Bambi?'}): 0.09388971684053651,\n frozenset({'5 Card Stud', 'Windows on Monday'}): 0.07302533532041729,\n frozenset({'5 Card Stud', 'Yesterday'}): 0.07153502235469449,\n frozenset({'5 Card Stud', 'Young and Innocent'}): 0.15648286140089418,\n frozenset({'A Brief History of Time',\n            'Men in Black II'}): 0.07153502235469449,\n frozenset({'A Brief History of Time', 'Solaris'}): 0.07153502235469449,\n frozenset({'A Brief History of Time',\n            'Terminator 3: Rise of the Machines'}): 0.07451564828614009,\n frozenset({'A Brief History of Time',\n            'The Million Dollar Hotel'}): 0.07153502235469449,\n frozenset({'A Clockwork Orange',\n            'A Nightmare on Elm Street'}): 0.10432190760059612,\n frozenset({'A Clockwork Orange',\n            'Back to the Future Part II'}): 0.09687034277198212,\n frozenset({'A Clockwork Orange', 'Bang, Boom, Bang'}): 0.09687034277198212,\n frozenset({'A Clockwork Orange', 'Batman Returns'}): 0.10432190760059612,\n frozenset({'A Clockwork Orange',\n            'Beauty and the Beast'}): 0.07004470938897168,\n frozenset({'A Clockwork Orange', 'Big Fish'}): 0.07451564828614009,\n frozenset({'A Clockwork Orange', 'Cockles and Muscles'}): 0.08494783904619971,\n frozenset({'A Clockwork Orange',\n            \"Dave Chappelle's Block Party\"}): 0.09090909090909091,\n frozenset({'A Clockwork Orange', 'Grill Point'}): 0.09239940387481371,\n frozenset({'A Clockwork Orange', 'Jurassic Park'}): 0.07004470938897168,\n frozenset({'A Clockwork Orange', 'Live and Let Die'}): 0.07451564828614009,\n frozenset({'A Clockwork Orange', 'Lost in Translation'}): 0.09090909090909091,\n frozenset({'A Clockwork Orange', 'Monsoon Wedding'}): 0.12667660208643816,\n frozenset({'A Clockwork Orange', 'Night on Earth'}): 0.08196721311475409,\n frozenset({'A Clockwork Orange', 'Once Were Warriors'}): 0.07600596125186289,\n frozenset({'A Clockwork Orange', 'Psycho'}): 0.07898658718330849,\n frozenset({'A Clockwork Orange', 'Rain Man'}): 0.11475409836065574,\n frozenset({'A Clockwork Orange', 'Reservoir Dogs'}): 0.09538002980625931,\n frozenset({'A Clockwork Orange', 'Romeo + Juliet'}): 0.08643815201192251,\n frozenset({'A Clockwork Orange', 'Silent Hill'}): 0.11475409836065574,\n frozenset({'A Clockwork Orange', 'Sissi'}): 0.11028315946348734,\n frozenset({'A Clockwork Orange', 'Solaris'}): 0.10581222056631892,\n frozenset({'A Clockwork Orange', 'Syriana'}): 0.08494783904619971,\n frozenset({'A Clockwork Orange',\n            'Terminator 3: Rise of the Machines'}): 0.11773472429210134,\n frozenset({'A Clockwork Orange', 'The Conversation'}): 0.11177347242921014,\n frozenset({'A Clockwork Orange', 'The Hours'}): 0.11773472429210134,\n frozenset({'A Clockwork Orange',\n            'The Million Dollar Hotel'}): 0.09985096870342772,\n frozenset({'A Clockwork Orange',\n            'The Passion of Joan of Arc'}): 0.07898658718330849,\n frozenset({'A Clockwork Orange', 'Three Colors: Red'}): 0.10134128166915052,\n frozenset({'A Clockwork Orange', 'Titanic'}): 0.09538002980625931,\n frozenset({'A Clockwork Orange',\n            'To Kill a Mockingbird'}): 0.09239940387481371,\n frozenset({'A Clockwork Orange', 'Tough Enough'}): 0.07749627421758569,\n frozenset({'A Clockwork Orange', 'Wag the Dog'}): 0.07302533532041729,\n frozenset({'A Nightmare on Elm Street',\n            'A River Runs Through It'}): 0.10283159463487332,\n frozenset({'A Nightmare on Elm Street',\n            'Aguirre: The Wrath of God'}): 0.08047690014903129,\n frozenset({'A Nightmare on Elm Street',\n            'Aliens vs Predator: Requiem'}): 0.09836065573770492,\n frozenset({'A Nightmare on Elm Street',\n            'All the Way Boys'}): 0.12369597615499255,\n frozenset({'A Nightmare on Elm Street',\n            'And Then There Were None'}): 0.07600596125186289,\n frozenset({'A Nightmare on Elm Street', 'Ariel'}): 0.09836065573770492,\n frozenset({'A Nightmare on Elm Street',\n            'Arlington Road'}): 0.09239940387481371,\n frozenset({'A Nightmare on Elm Street', 'Armageddon'}): 0.07898658718330849,\n frozenset({'A Nightmare on Elm Street',\n            'Back to the Future Part II'}): 0.14605067064083457,\n frozenset({'A Nightmare on Elm Street', 'Bad Boys II'}): 0.07600596125186289,\n frozenset({'A Nightmare on Elm Street',\n            'Bang, Boom, Bang'}): 0.15052160953800298,\n frozenset({'A Nightmare on Elm Street',\n            'Batman Returns'}): 0.17436661698956782,\n frozenset({'A Nightmare on Elm Street',\n            'Beauty and the Beast'}): 0.13710879284649777,\n frozenset({'A Nightmare on Elm Street', 'Big Fish'}): 0.13561847988077497,\n frozenset({'A Nightmare on Elm Street',\n            'Blood: The Last Vampire'}): 0.08643815201192251,\n frozenset({'A Nightmare on Elm Street',\n            'Boogie Nights'}): 0.07451564828614009,\n frozenset({'A Nightmare on Elm Street',\n            'Bridge to Terabithia'}): 0.12071535022354694,\n frozenset({'A Nightmare on Elm Street',\n            'Cockles and Muscles'}): 0.11922503725782414,\n frozenset({'A Nightmare on Elm Street', 'Contempt'}): 0.07749627421758569,\n frozenset({'A Nightmare on Elm Street',\n            \"Dave Chappelle's Block Party\"}): 0.11624441132637854,\n frozenset({'A Nightmare on Elm Street',\n            'Dawn of the Dead'}): 0.09836065573770492,\n frozenset({'A Nightmare on Elm Street', 'Die Hard 2'}): 0.07749627421758569,\n frozenset({'A Nightmare on Elm Street',\n            \"Don't Make Waves\"}): 0.07153502235469449,\n frozenset({'A Nightmare on Elm Street', 'Donnie Darko'}): 0.07302533532041729,\n frozenset({'A Nightmare on Elm Street',\n            'Fahrenheit 9/11'}): 0.07302533532041729,\n frozenset({'A Nightmare on Elm Street', 'Fever Pitch'}): 0.08643815201192251,\n frozenset({'A Nightmare on Elm Street',\n            'Fools Rush In'}): 0.08196721311475409,\n frozenset({'A Nightmare on Elm Street',\n            'Gleaming the Cube'}): 0.08047690014903129,\n frozenset({'A Nightmare on Elm Street',\n            'Grbavica: The Land of My Dreams'}): 0.07898658718330849,\n frozenset({'A Nightmare on Elm Street', 'Grill Point'}): 0.13263785394932937,\n frozenset({'A Nightmare on Elm Street', 'High Noon'}): 0.10879284649776454,\n frozenset({'A Nightmare on Elm Street',\n            \"Jacob's Ladder\"}): 0.07451564828614009,\n frozenset({'A Nightmare on Elm Street', 'Jarhead'}): 0.07004470938897168,\n frozenset({'A Nightmare on Elm Street',\n            'Judgment Night'}): 0.07898658718330849,\n frozenset({'A Nightmare on Elm Street',\n            'Jurassic Park'}): 0.09687034277198212,\n frozenset({'A Nightmare on Elm Street',\n            'K-19: The Widowmaker'}): 0.07004470938897168,\n frozenset({'A Nightmare on Elm Street',\n            'La Vie en Rose'}): 0.07004470938897168,\n frozenset({'A Nightmare on Elm Street',\n            'License to Wed'}): 0.10730253353204174,\n frozenset({'A Nightmare on Elm Street', 'Light of Day'}): 0.09239940387481371,\n frozenset({'A Nightmare on Elm Street',\n            'Live and Let Die'}): 0.11624441132637854,\n frozenset({'A Nightmare on Elm Street',\n            'Lost in Translation'}): 0.12220566318926974,\n frozenset({'A Nightmare on Elm Street',\n            'Love Actually'}): 0.08494783904619971,\n frozenset({'A Nightmare on Elm Street',\n            'Men in Black II'}): 0.12816691505216096,\n frozenset({'A Nightmare on Elm Street', 'Metropolis'}): 0.08345752608047691,\n frozenset({'A Nightmare on Elm Street',\n            \"Monsieur  Hulot's Holiday\"}): 0.07153502235469449,\n frozenset({'A Nightmare on Elm Street',\n            'Monsieur Ibrahim'}): 0.07451564828614009,\n frozenset({'A Nightmare on Elm Street',\n            'Monsoon Wedding'}): 0.21609538002980627,\n frozenset({'A Nightmare on Elm Street',\n            'Mothra vs. Godzilla'}): 0.09388971684053651,\n frozenset({'A Nightmare on Elm Street',\n            'Muxmäuschenstill'}): 0.07451564828614009,\n frozenset({'A Nightmare on Elm Street',\n            'My Name Is Bruce'}): 0.08792846497764531,\n frozenset({'A Nightmare on Elm Street',\n            'Night on Earth'}): 0.10730253353204174,\n frozenset({'A Nightmare on Elm Street',\n            'Notes on a Scandal'}): 0.08345752608047691,\n frozenset({'A Nightmare on Elm Street', 'Notting Hill'}): 0.07004470938897168,\n frozenset({'A Nightmare on Elm Street',\n            \"Ocean's Eleven\"}): 0.08643815201192251,\n frozenset({'A Nightmare on Elm Street',\n            'Once Were Warriors'}): 0.15946348733233978,\n frozenset({'A Nightmare on Elm Street', 'Persepolis'}): 0.08196721311475409,\n frozenset({'A Nightmare on Elm Street', 'Point Break'}): 0.09090909090909091,\n frozenset({'A Nightmare on Elm Street',\n            'Popular Music'}): 0.09538002980625931,\n frozenset({'A Nightmare on Elm Street', 'Psycho'}): 0.13114754098360656,\n frozenset({'A Nightmare on Elm Street', 'Rain Man'}): 0.18479880774962743,\n frozenset({'A Nightmare on Elm Street', 'Rambo III'}): 0.07451564828614009,\n frozenset({'A Nightmare on Elm Street', 'Rebecca'}): 0.08345752608047691,\n frozenset({'A Nightmare on Elm Street',\n            'Reign Over Me'}): 0.08494783904619971,\n frozenset({'A Nightmare on Elm Street',\n            'Reservoir Dogs'}): 0.16542473919523099,\n frozenset({'A Nightmare on Elm Street', 'Rocky Balboa'}): 0.07004470938897168,\n frozenset({'A Nightmare on Elm Street',\n            'Romeo + Juliet'}): 0.12369597615499255,\n frozenset({'A Nightmare on Elm Street', 'Rope'}): 0.14008941877794337,\n frozenset({'A Nightmare on Elm Street',\n            'Say Anything...'}): 0.12369597615499255,\n frozenset({'A Nightmare on Elm Street', 'Scarface'}): 0.07004470938897168,\n frozenset({'A Nightmare on Elm Street',\n            'Shriek If You Know What I Did Last Friday the Thirteenth'}): 0.08196721311475409,\n frozenset({'A Nightmare on Elm Street', 'Silent Hill'}): 0.16393442622950818,\n frozenset({'A Nightmare on Elm Street', 'Silent Light'}): 0.08047690014903129,\n frozenset({'A Nightmare on Elm Street', 'Sissi'}): 0.19374068554396423,\n frozenset({'A Nightmare on Elm Street',\n            'Sleepless in Seattle'}): 0.11326378539493294,\n frozenset({'A Nightmare on Elm Street', 'Solaris'}): 0.19672131147540983,\n frozenset({'A Nightmare on Elm Street', 'Star Wars'}): 0.07600596125186289,\n frozenset({'A Nightmare on Elm Street',\n            'Superstar: The Karen Carpenter Story'}): 0.07898658718330849,\n frozenset({'A Nightmare on Elm Street', 'Syriana'}): 0.13263785394932937,\n frozenset({'A Nightmare on Elm Street',\n            'Terminator 3: Rise of the Machines'}): 0.20715350223546944,\n frozenset({'A Nightmare on Elm Street', 'The 39 Steps'}): 0.14157973174366617,\n frozenset({'A Nightmare on Elm Street',\n            'The Bourne Supremacy'}): 0.07451564828614009,\n frozenset({'A Nightmare on Elm Street',\n            'The Cave of the Yellow Dog'}): 0.09388971684053651,\n frozenset({'A Nightmare on Elm Street',\n            'The Chronicles of Riddick: Dark Fury'}): 0.07600596125186289,\n frozenset({'A Nightmare on Elm Street',\n            'The Conversation'}): 0.17287630402384502,\n frozenset({'A Nightmare on Elm Street',\n            'The Devil Wears Prada'}): 0.07600596125186289,\n frozenset({'A Nightmare on Elm Street',\n            'The Endless Summer'}): 0.08643815201192251,\n frozenset({'A Nightmare on Elm Street',\n            'The Great Outdoors'}): 0.07302533532041729,\n frozenset({'A Nightmare on Elm Street', 'The Hours'}): 0.16393442622950818,\n frozenset({'A Nightmare on Elm Street',\n            'The Man with the Golden Arm'}): 0.09239940387481371,\n frozenset({'A Nightmare on Elm Street',\n            'The Million Dollar Hotel'}): 0.18181818181818182,\n frozenset({'A Nightmare on Elm Street',\n            'The Passion of Joan of Arc'}): 0.16095380029806258,\n frozenset({'A Nightmare on Elm Street',\n            'The Poseidon Adventure'}): 0.07302533532041729,\n frozenset({'A Nightmare on Elm Street',\n            'The Prisoner of Zenda'}): 0.07749627421758569,\n frozenset({'A Nightmare on Elm Street',\n            'The Science of Sleep'}): 0.07898658718330849,\n frozenset({'A Nightmare on Elm Street',\n            'The Searchers'}): 0.08345752608047691,\n frozenset({'A Nightmare on Elm Street',\n            'The Talented Mr. Ripley'}): 0.08792846497764531,\n frozenset({'A Nightmare on Elm Street',\n            'The Thomas Crown Affair'}): 0.07600596125186289,\n frozenset({'A Nightmare on Elm Street', 'The Tunnel'}): 0.10283159463487332,\n frozenset({'A Nightmare on Elm Street',\n            'Three Colors: Red'}): 0.17436661698956782,\n frozenset({'A Nightmare on Elm Street', 'Titanic'}): 0.16691505216095381,\n frozenset({'A Nightmare on Elm Street',\n            'To Kill a Mockingbird'}): 0.14157973174366617,\n frozenset({'A Nightmare on Elm Street', 'Tough Enough'}): 0.10581222056631892,\n frozenset({'A Nightmare on Elm Street',\n            'Twin Peaks: Fire Walk with Me'}): 0.10432190760059612,\n frozenset({'A Nightmare on Elm Street', 'Wag the Dog'}): 0.12667660208643816,\n frozenset({'A Nightmare on Elm Street',\n            'Who Killed Bambi?'}): 0.08196721311475409,\n frozenset({'A Nightmare on Elm Street',\n            'Young and Innocent'}): 0.12518628912071536,\n frozenset({'A River Runs Through It',\n            'All the Way Boys'}): 0.07600596125186289,\n frozenset({'A River Runs Through It',\n            'And Then There Were None'}): 0.07302533532041729,\n frozenset({'A River Runs Through It',\n            'Back to the Future Part II'}): 0.08345752608047691,\n frozenset({'A River Runs Through It', 'Bad Boys II'}): 0.07004470938897168,\n frozenset({'A River Runs Through It',\n            'Bang, Boom, Bang'}): 0.08643815201192251,\n frozenset({'A River Runs Through It', 'Batman Returns'}): 0.10134128166915052,\n frozenset({'A River Runs Through It',\n            'Beauty and the Beast'}): 0.08494783904619971,\n frozenset({'A River Runs Through It', 'Beetlejuice'}): 0.07600596125186289,\n frozenset({'A River Runs Through It',\n            'Bridge to Terabithia'}): 0.09090909090909091,\n frozenset({'A River Runs Through It',\n            'Dawn of the Dead'}): 0.07898658718330849,\n frozenset({'A River Runs Through It', 'Grill Point'}): 0.07898658718330849,\n frozenset({'A River Runs Through It', 'High Noon'}): 0.08047690014903129,\n frozenset({'A River Runs Through It', 'Judgment Night'}): 0.07600596125186289,\n frozenset({'A River Runs Through It', 'License to Wed'}): 0.11177347242921014,\n frozenset({'A River Runs Through It',\n            'Live and Let Die'}): 0.07153502235469449,\n frozenset({'A River Runs Through It',\n            'Men in Black II'}): 0.10879284649776454,\n frozenset({'A River Runs Through It',\n            \"Monsieur  Hulot's Holiday\"}): 0.08196721311475409,\n frozenset({'A River Runs Through It',\n            'Monsoon Wedding'}): 0.12369597615499255,\n frozenset({'A River Runs Through It',\n            'Mothra vs. Godzilla'}): 0.08792846497764531,\n frozenset({'A River Runs Through It',\n            'Once Were Warriors'}): 0.10283159463487332,\n frozenset({'A River Runs Through It', 'Point Break'}): 0.08941877794336811,\n frozenset({'A River Runs Through It', 'Popular Music'}): 0.07302533532041729,\n frozenset({'A River Runs Through It', 'Rain Man'}): 0.09687034277198212,\n frozenset({'A River Runs Through It', 'Rebecca'}): 0.07302533532041729,\n frozenset({'A River Runs Through It', 'Reservoir Dogs'}): 0.07600596125186289,\n frozenset({'A River Runs Through It', 'Rope'}): 0.09538002980625931,\n frozenset({'A River Runs Through It',\n            'Say Anything...'}): 0.09985096870342772,\n frozenset({'A River Runs Through It', 'Scarface'}): 0.07302533532041729,\n frozenset({'A River Runs Through It',\n            'Shriek If You Know What I Did Last Friday the Thirteenth'}): 0.08345752608047691,\n frozenset({'A River Runs Through It', 'Silent Hill'}): 0.09388971684053651,\n frozenset({'A River Runs Through It', 'Sissi'}): 0.10283159463487332,\n frozenset({'A River Runs Through It',\n            'Sleepless in Seattle'}): 0.09388971684053651,\n frozenset({'A River Runs Through It', 'Solaris'}): 0.14754098360655737,\n frozenset({'A River Runs Through It', 'Syriana'}): 0.08792846497764531,\n frozenset({'A River Runs Through It',\n            'Terminator 3: Rise of the Machines'}): 0.15797317436661698,\n frozenset({'A River Runs Through It', 'The 39 Steps'}): 0.11028315946348734,\n frozenset({'A River Runs Through It',\n            'The Bourne Supremacy'}): 0.07004470938897168,\n frozenset({'A River Runs Through It',\n            'The Conversation'}): 0.09388971684053651,\n frozenset({'A River Runs Through It', 'The Hours'}): 0.09538002980625931,\n frozenset({'A River Runs Through It',\n            'The Man with the Golden Arm'}): 0.08196721311475409,\n frozenset({'A River Runs Through It',\n            'The Million Dollar Hotel'}): 0.14307004470938897,\n frozenset({'A River Runs Through It',\n            'The Passion of Joan of Arc'}): 0.09538002980625931,\n frozenset({'A River Runs Through It',\n            'The Prisoner of Zenda'}): 0.07898658718330849,\n frozenset({'A River Runs Through It',\n            'The Talented Mr. Ripley'}): 0.08345752608047691,\n frozenset({'A River Runs Through It', 'The Tunnel'}): 0.08643815201192251,\n frozenset({'A River Runs Through It',\n            'Three Colors: Red'}): 0.12220566318926974,\n frozenset({'A River Runs Through It', 'Titanic'}): 0.09239940387481371,\n frozenset({'A River Runs Through It',\n            'To Kill a Mockingbird'}): 0.08345752608047691,\n frozenset({'A River Runs Through It',\n            'Twin Peaks: Fire Walk with Me'}): 0.07004470938897168,\n frozenset({'A River Runs Through It', 'Wag the Dog'}): 0.08345752608047691,\n frozenset({'A River Runs Through It',\n            'Young and Innocent'}): 0.09090909090909091,\n frozenset({'A Time to Kill', 'Solaris'}): 0.07600596125186289,\n frozenset({'Aguirre: The Wrath of God',\n            'All the Way Boys'}): 0.07749627421758569,\n frozenset({'Aguirre: The Wrath of God',\n            'Bridge to Terabithia'}): 0.08792846497764531,\n frozenset({'Aguirre: The Wrath of God',\n            'Fools Rush In'}): 0.07451564828614009,\n frozenset({'Aguirre: The Wrath of God',\n            'License to Wed'}): 0.07004470938897168,\n frozenset({'Aguirre: The Wrath of God', 'Light of Day'}): 0.07451564828614009,\n frozenset({'Aguirre: The Wrath of God',\n            'Men in Black II'}): 0.08792846497764531,\n frozenset({'Aguirre: The Wrath of God',\n            'Monsoon Wedding'}): 0.09090909090909091,\n frozenset({'Aguirre: The Wrath of God',\n            'My Name Is Bruce'}): 0.07004470938897168,\n frozenset({'Aguirre: The Wrath of God',\n            'Once Were Warriors'}): 0.07302533532041729,\n frozenset({'Aguirre: The Wrath of God', 'Rain Man'}): 0.07153502235469449,\n frozenset({'Aguirre: The Wrath of God', 'Rope'}): 0.09388971684053651,\n frozenset({'Aguirre: The Wrath of God',\n            'Say Anything...'}): 0.09388971684053651,\n frozenset({'Aguirre: The Wrath of God', 'Sissi'}): 0.08494783904619971,\n frozenset({'Aguirre: The Wrath of God',\n            'Sleepless in Seattle'}): 0.08494783904619971,\n frozenset({'Aguirre: The Wrath of God', 'Solaris'}): 0.09239940387481371,\n frozenset({'Aguirre: The Wrath of God',\n            'Superstar: The Karen Carpenter Story'}): 0.07004470938897168,\n frozenset({'Aguirre: The Wrath of God',\n            'Terminator 3: Rise of the Machines'}): 0.09538002980625931,\n frozenset({'Aguirre: The Wrath of God', 'The 39 Steps'}): 0.10134128166915052,\n frozenset({'Aguirre: The Wrath of God',\n            'The Chronicles of Riddick: Dark Fury'}): 0.07451564828614009,\n frozenset({'Aguirre: The Wrath of God',\n            'The Conversation'}): 0.07302533532041729,\n frozenset({'Aguirre: The Wrath of God',\n            'The Man with the Golden Arm'}): 0.07153502235469449,\n frozenset({'Aguirre: The Wrath of God',\n            'The Million Dollar Hotel'}): 0.08643815201192251,\n frozenset({'Aguirre: The Wrath of God',\n            'The Passion of Joan of Arc'}): 0.08196721311475409,\n frozenset({'Aguirre: The Wrath of God',\n            'The Talented Mr. Ripley'}): 0.07451564828614009,\n frozenset({'Aguirre: The Wrath of God', 'The Tunnel'}): 0.07004470938897168,\n frozenset({'Aguirre: The Wrath of God',\n            'Three Colors: Red'}): 0.09538002980625931,\n frozenset({'Aguirre: The Wrath of God', 'Titanic'}): 0.07898658718330849,\n frozenset({'Aguirre: The Wrath of God',\n            'Twin Peaks: Fire Walk with Me'}): 0.07302533532041729,\n frozenset({'Aguirre: The Wrath of God',\n            'Who Killed Bambi?'}): 0.07004470938897168,\n frozenset({'Aguirre: The Wrath of God',\n            'Young and Innocent'}): 0.08494783904619971,\n frozenset({'Aliens vs Predator: Requiem',\n            'Back to the Future Part II'}): 0.07898658718330849,\n frozenset({'Aliens vs Predator: Requiem',\n            'Bang, Boom, Bang'}): 0.07600596125186289,\n frozenset({'Aliens vs Predator: Requiem',\n            'Batman Returns'}): 0.09090909090909091,\n frozenset({'Aliens vs Predator: Requiem', 'Big Fish'}): 0.08345752608047691,\n frozenset({'Aliens vs Predator: Requiem',\n            'Cockles and Muscles'}): 0.07451564828614009,\n frozenset({'Aliens vs Predator: Requiem',\n            'Grill Point'}): 0.07451564828614009,\n frozenset({'Aliens vs Predator: Requiem',\n            'Men in Black II'}): 0.07302533532041729,\n frozenset({'Aliens vs Predator: Requiem',\n            'Monsoon Wedding'}): 0.10283159463487332,\n frozenset({'Aliens vs Predator: Requiem',\n            'Once Were Warriors'}): 0.07600596125186289,\n frozenset({'Aliens vs Predator: Requiem', 'Psycho'}): 0.09090909090909091,\n frozenset({'Aliens vs Predator: Requiem', 'Rain Man'}): 0.09985096870342772,\n frozenset({'Aliens vs Predator: Requiem',\n            'Reservoir Dogs'}): 0.08941877794336811,\n frozenset({'Aliens vs Predator: Requiem',\n            'Romeo + Juliet'}): 0.07451564828614009,\n frozenset({'Aliens vs Predator: Requiem',\n            'Silent Hill'}): 0.09239940387481371,\n frozenset({'Aliens vs Predator: Requiem', 'Sissi'}): 0.10879284649776454,\n frozenset({'Aliens vs Predator: Requiem', 'Solaris'}): 0.09388971684053651,\n frozenset({'Aliens vs Predator: Requiem', 'Star Wars'}): 0.07302533532041729,\n frozenset({'Aliens vs Predator: Requiem',\n            'Terminator 3: Rise of the Machines'}): 0.10283159463487332,\n frozenset({'Aliens vs Predator: Requiem',\n            'The 39 Steps'}): 0.07004470938897168,\n frozenset({'Aliens vs Predator: Requiem',\n            'The Conversation'}): 0.08643815201192251,\n frozenset({'Aliens vs Predator: Requiem', 'The Hours'}): 0.09836065573770492,\n frozenset({'Aliens vs Predator: Requiem',\n            'The Million Dollar Hotel'}): 0.08941877794336811,\n frozenset({'Aliens vs Predator: Requiem',\n            'The Passion of Joan of Arc'}): 0.07600596125186289,\n frozenset({'Aliens vs Predator: Requiem',\n            'Three Colors: Red'}): 0.08047690014903129,\n frozenset({'Aliens vs Predator: Requiem', 'Titanic'}): 0.10134128166915052,\n frozenset({'Aliens vs Predator: Requiem',\n            'To Kill a Mockingbird'}): 0.08196721311475409,\n frozenset({'Aliens vs Predator: Requiem',\n            'Wag the Dog'}): 0.07302533532041729,\n frozenset({'All the Way Boys',\n            'And Then There Were None'}): 0.09239940387481371,\n frozenset({'All the Way Boys', 'Ariel'}): 0.07004470938897168,\n frozenset({'All the Way Boys', 'Arlington Road'}): 0.08941877794336811,\n frozenset({'All the Way Boys', 'Bad Boys II'}): 0.09836065573770492,\n frozenset({'All the Way Boys', 'Bang, Boom, Bang'}): 0.09985096870342772,\n frozenset({'All the Way Boys', 'Batman Returns'}): 0.12667660208643816,\n frozenset({'All the Way Boys', 'Beauty and the Beast'}): 0.10283159463487332,\n frozenset({'All the Way Boys', 'Big Fish'}): 0.09388971684053651,\n frozenset({'All the Way Boys',\n            'Blood: The Last Vampire'}): 0.08494783904619971,\n frozenset({'All the Way Boys', 'Boogie Nights'}): 0.08941877794336811,\n frozenset({'All the Way Boys', 'Bridge to Terabithia'}): 0.12518628912071536,\n frozenset({'All the Way Boys', 'Dawn of the Dead'}): 0.10432190760059612,\n frozenset({'All the Way Boys', 'Fever Pitch'}): 0.08345752608047691,\n frozenset({'All the Way Boys', 'Fools Rush In'}): 0.08941877794336811,\n frozenset({'All the Way Boys', 'Gleaming the Cube'}): 0.07451564828614009,\n frozenset({'All the Way Boys', \"Jacob's Ladder\"}): 0.08196721311475409,\n frozenset({'All the Way Boys', 'License to Wed'}): 0.11922503725782414,\n frozenset({'All the Way Boys', 'Light of Day'}): 0.09090909090909091,\n frozenset({'All the Way Boys', 'Men in Black II'}): 0.12369597615499255,\n frozenset({'All the Way Boys',\n            \"Monsieur  Hulot's Holiday\"}): 0.07600596125186289,\n frozenset({'All the Way Boys', 'Monsoon Wedding'}): 0.15648286140089418,\n frozenset({'All the Way Boys', 'Mothra vs. Godzilla'}): 0.12220566318926974,\n frozenset({'All the Way Boys', 'Murder She Said'}): 0.07153502235469449,\n frozenset({'All the Way Boys', 'Muxmäuschenstill'}): 0.08792846497764531,\n frozenset({'All the Way Boys', 'My Name Is Bruce'}): 0.10283159463487332,\n frozenset({'All the Way Boys', 'Notes on a Scandal'}): 0.07600596125186289,\n frozenset({'All the Way Boys', 'Once Were Warriors'}): 0.13710879284649777,\n frozenset({'All the Way Boys', 'Persepolis'}): 0.07898658718330849,\n frozenset({'All the Way Boys', 'Point Break'}): 0.08941877794336811,\n frozenset({'All the Way Boys', 'Psycho'}): 0.09538002980625931,\n frozenset({'All the Way Boys', 'Rain Man'}): 0.10134128166915052,\n frozenset({'All the Way Boys', 'Reign Over Me'}): 0.08643815201192251,\n frozenset({'All the Way Boys', 'Reservoir Dogs'}): 0.10581222056631892,\n frozenset({'All the Way Boys', 'Rocky Balboa'}): 0.08643815201192251,\n frozenset({'All the Way Boys', 'Rope'}): 0.16095380029806258,\n frozenset({'All the Way Boys', 'Say Anything...'}): 0.14157973174366617,\n frozenset({'All the Way Boys', 'Scarface'}): 0.07302533532041729,\n frozenset({'All the Way Boys', 'School of Rock'}): 0.08345752608047691,\n frozenset({'All the Way Boys',\n            'Shriek If You Know What I Did Last Friday the Thirteenth'}): 0.08941877794336811,\n frozenset({'All the Way Boys', 'Silent Hill'}): 0.12667660208643816,\n frozenset({'All the Way Boys', 'Silent Light'}): 0.07749627421758569,\n frozenset({'All the Way Boys', 'Sissi'}): 0.11326378539493294,\n frozenset({'All the Way Boys', 'Sleepless in Seattle'}): 0.11922503725782414,\n frozenset({'All the Way Boys', 'Solaris'}): 0.15797317436661698,\n frozenset({'All the Way Boys',\n            'Superstar: The Karen Carpenter Story'}): 0.08643815201192251,\n frozenset({'All the Way Boys', 'Syriana'}): 0.08345752608047691,\n frozenset({'All the Way Boys',\n            'Terminator 3: Rise of the Machines'}): 0.15648286140089418,\n frozenset({'All the Way Boys', 'The 39 Steps'}): 0.15201192250372578,\n frozenset({'All the Way Boys', 'The Bourne Supremacy'}): 0.07004470938897168,\n frozenset({'All the Way Boys',\n            'The Cave of the Yellow Dog'}): 0.10283159463487332,\n frozenset({'All the Way Boys',\n            'The Chronicles of Riddick: Dark Fury'}): 0.07898658718330849,\n frozenset({'All the Way Boys', 'The Conversation'}): 0.09985096870342772,\n frozenset({'All the Way Boys', 'The Garden of Eden'}): 0.07153502235469449,\n frozenset({'All the Way Boys', 'The Hours'}): 0.10581222056631892,\n frozenset({'All the Way Boys',\n            'The Man with the Golden Arm'}): 0.09538002980625931,\n frozenset({'All the Way Boys',\n            'The Million Dollar Hotel'}): 0.14903129657228018,\n frozenset({'All the Way Boys',\n            'The Passion of Joan of Arc'}): 0.12965722801788376,\n frozenset({'All the Way Boys', 'The Prisoner of Zenda'}): 0.08494783904619971,\n frozenset({'All the Way Boys', 'The Searchers'}): 0.09239940387481371,\n frozenset({'All the Way Boys',\n            'The Talented Mr. Ripley'}): 0.08941877794336811,\n frozenset({'All the Way Boys',\n            'The Thomas Crown Affair'}): 0.07898658718330849,\n frozenset({'All the Way Boys', 'The Tunnel'}): 0.11326378539493294,\n frozenset({'All the Way Boys', 'Three Colors: Red'}): 0.13114754098360656,\n frozenset({'All the Way Boys', 'Titanic'}): 0.11922503725782414,\n frozenset({'All the Way Boys', 'To Kill a Mockingbird'}): 0.09985096870342772,\n frozenset({'All the Way Boys',\n            'Twin Peaks: Fire Walk with Me'}): 0.11326378539493294,\n frozenset({'All the Way Boys', 'Under the Sand'}): 0.07302533532041729,\n frozenset({'All the Way Boys', 'Wag the Dog'}): 0.09836065573770492,\n frozenset({'All the Way Boys', 'Waiter'}): 0.07451564828614009,\n frozenset({'All the Way Boys', 'When Saturday Comes'}): 0.07004470938897168,\n frozenset({'All the Way Boys', 'Who Killed Bambi?'}): 0.08643815201192251,\n frozenset({'All the Way Boys', 'Young and Innocent'}): 0.15797317436661698,\n frozenset({'Almost Famous', 'Beauty and the Beast'}): 0.08047690014903129,\n frozenset({'Almost Famous', 'The 39 Steps'}): 0.07153502235469449,\n frozenset({'Almost Famous',\n            'The Passion of Joan of Arc'}): 0.08494783904619971,\n frozenset({'And Then There Were None',\n            'Arlington Road'}): 0.07749627421758569,\n frozenset({'And Then There Were None', 'Bad Boys II'}): 0.12369597615499255,\n frozenset({'And Then There Were None',\n            'Batman Returns'}): 0.08941877794336811,\n frozenset({'And Then There Were None', 'Beetlejuice'}): 0.07600596125186289,\n frozenset({'And Then There Were None',\n            'Blood: The Last Vampire'}): 0.07302533532041729,\n frozenset({'And Then There Were None', 'Boogie Nights'}): 0.09239940387481371,\n frozenset({'And Then There Were None',\n            'Bridge to Terabithia'}): 0.10581222056631892,\n frozenset({'And Then There Were None',\n            'Confession of a Child of the Century'}): 0.08792846497764531,\n frozenset({'And Then There Were None',\n            'Dawn of the Dead'}): 0.07302533532041729,\n frozenset({'And Then There Were None', 'Fools Rush In'}): 0.07004470938897168,\n frozenset({'And Then There Were None',\n            'License to Wed'}): 0.12369597615499255,\n frozenset({'And Then There Were None',\n            'Men in Black II'}): 0.08196721311475409,\n frozenset({'And Then There Were None',\n            'Monsoon Wedding'}): 0.10879284649776454,\n frozenset({'And Then There Were None',\n            'Mothra vs. Godzilla'}): 0.10134128166915052,\n frozenset({'And Then There Were None',\n            'Muxmäuschenstill'}): 0.10432190760059612,\n frozenset({'And Then There Were None',\n            'My Name Is Bruce'}): 0.07600596125186289,\n frozenset({'And Then There Were None',\n            'Once Were Warriors'}): 0.09388971684053651,\n frozenset({'And Then There Were None', 'Point Break'}): 0.07302533532041729,\n frozenset({'And Then There Were None', 'Reign Over Me'}): 0.08196721311475409,\n frozenset({'And Then There Were None',\n            'Reservoir Dogs'}): 0.07600596125186289,\n frozenset({'And Then There Were None', 'Rope'}): 0.10879284649776454,\n frozenset({'And Then There Were None',\n            'Say Anything...'}): 0.09687034277198212,\n frozenset({'And Then There Were None',\n            'Shriek If You Know What I Did Last Friday the Thirteenth'}): 0.09538002980625931,\n frozenset({'And Then There Were None', 'Silent Hill'}): 0.09090909090909091,\n frozenset({'And Then There Were None', 'Sissi'}): 0.07749627421758569,\n frozenset({'And Then There Were None',\n            'Sleepless in Seattle'}): 0.08941877794336811,\n frozenset({'And Then There Were None', 'Solaris'}): 0.11177347242921014,\n frozenset({'And Then There Were None',\n            'Terminator 3: Rise of the Machines'}): 0.11773472429210134,\n frozenset({'And Then There Were None', 'The 39 Steps'}): 0.13561847988077497,\n frozenset({'And Then There Were None',\n            'The Bourne Supremacy'}): 0.08196721311475409,\n frozenset({'And Then There Were None',\n            'The Conversation'}): 0.07153502235469449,\n frozenset({'And Then There Were None',\n            'The Garden of Eden'}): 0.07749627421758569,\n frozenset({'And Then There Were None',\n            'The Man with the Golden Arm'}): 0.07302533532041729,\n frozenset({'And Then There Were None',\n            'The Million Dollar Hotel'}): 0.12816691505216096,\n frozenset({'And Then There Were None',\n            'The Passion of Joan of Arc'}): 0.09388971684053651,\n frozenset({'And Then There Were None',\n            'The Prisoner of Zenda'}): 0.07153502235469449,\n frozenset({'And Then There Were None', 'The Searchers'}): 0.10432190760059612,\n frozenset({'And Then There Were None', 'The Tunnel'}): 0.10730253353204174,\n frozenset({'And Then There Were None',\n            'Three Colors: Red'}): 0.09388971684053651,\n frozenset({'And Then There Were None', 'Titanic'}): 0.07749627421758569,\n frozenset({'And Then There Were None',\n            'To Kill a Mockingbird'}): 0.07004470938897168,\n frozenset({'And Then There Were None',\n            'Twin Peaks: Fire Walk with Me'}): 0.07004470938897168,\n frozenset({'And Then There Were None',\n            'Under the Sand'}): 0.08345752608047691,\n frozenset({'And Then There Were None', 'Wag the Dog'}): 0.07451564828614009,\n frozenset({'And Then There Were None', 'Waiter'}): 0.07451564828614009,\n frozenset({'And Then There Were None',\n            'Young and Innocent'}): 0.11624441132637854,\n frozenset({'Ariel', 'Arlington Road'}): 0.07302533532041729,\n frozenset({'Ariel', 'Back to the Future Part II'}): 0.07302533532041729,\n frozenset({'Ariel', 'Bang, Boom, Bang'}): 0.10581222056631892,\n frozenset({'Ariel', 'Batman Returns'}): 0.12071535022354694,\n frozenset({'Ariel', 'Beauty and the Beast'}): 0.07749627421758569,\n frozenset({'Ariel', 'Big Fish'}): 0.07898658718330849,\n frozenset({'Ariel', 'Bridge to Terabithia'}): 0.07004470938897168,\n frozenset({'Ariel', \"Dave Chappelle's Block Party\"}): 0.07153502235469449,\n frozenset({'Ariel', 'Grill Point'}): 0.08643815201192251,\n frozenset({'Ariel', 'Live and Let Die'}): 0.07153502235469449,\n frozenset({'Ariel', 'Lost in Translation'}): 0.07898658718330849,\n frozenset({'Ariel', 'Monsoon Wedding'}): 0.12369597615499255,\n frozenset({'Ariel', 'Once Were Warriors'}): 0.08047690014903129,\n frozenset({'Ariel', 'Psycho'}): 0.07153502235469449,\n frozenset({'Ariel', 'Rain Man'}): 0.09538002980625931,\n frozenset({'Ariel', 'Reservoir Dogs'}): 0.10879284649776454,\n frozenset({'Ariel', 'Rope'}): 0.08941877794336811,\n frozenset({'Ariel', 'Silent Hill'}): 0.11624441132637854,\n frozenset({'Ariel', 'Sissi'}): 0.09090909090909091,\n frozenset({'Ariel', 'Solaris'}): 0.10879284649776454,\n frozenset({'Ariel', 'Syriana'}): 0.09090909090909091,\n frozenset({'Ariel',\n            'Terminator 3: Rise of the Machines'}): 0.10879284649776454,\n frozenset({'Ariel', 'The 39 Steps'}): 0.08047690014903129,\n frozenset({'Ariel', 'The Conversation'}): 0.09388971684053651,\n frozenset({'Ariel', 'The Hours'}): 0.08941877794336811,\n frozenset({'Ariel', 'The Million Dollar Hotel'}): 0.10432190760059612,\n frozenset({'Ariel', 'The Passion of Joan of Arc'}): 0.09388971684053651,\n frozenset({'Ariel', 'Three Colors: Red'}): 0.09836065573770492,\n frozenset({'Ariel', 'Titanic'}): 0.08941877794336811,\n frozenset({'Ariel', 'To Kill a Mockingbird'}): 0.10432190760059612,\n frozenset({'Ariel', 'Wag the Dog'}): 0.08792846497764531,\n frozenset({'Ariel', 'Young and Innocent'}): 0.07600596125186289,\n frozenset({'Arlington Road', 'Bad Boys II'}): 0.07153502235469449,\n frozenset({'Arlington Road', 'Bang, Boom, Bang'}): 0.08196721311475409,\n frozenset({'Arlington Road', 'Batman Returns'}): 0.11028315946348734,\n frozenset({'Arlington Road', 'Beauty and the Beast'}): 0.11624441132637854,\n frozenset({'Arlington Road', 'Big Fish'}): 0.08196721311475409,\n frozenset({'Arlington Road', 'Blood: The Last Vampire'}): 0.09836065573770492,\n frozenset({'Arlington Road', 'Bridge to Terabithia'}): 0.10879284649776454,\n frozenset({'Arlington Road', 'Dawn of the Dead'}): 0.07749627421758569,\n frozenset({'Arlington Road', 'Donnie Darko'}): 0.08494783904619971,\n frozenset({'Arlington Road', 'Fools Rush In'}): 0.08792846497764531,\n frozenset({'Arlington Road', 'Gleaming the Cube'}): 0.08643815201192251,\n frozenset({'Arlington Road', 'Jarhead'}): 0.07451564828614009,\n frozenset({'Arlington Road', 'Judgment Night'}): 0.07302533532041729,\n frozenset({'Arlington Road', 'License to Wed'}): 0.08047690014903129,\n frozenset({'Arlington Road', 'Light of Day'}): 0.07302533532041729,\n frozenset({'Arlington Road', 'Lolita'}): 0.07302533532041729,\n frozenset({'Arlington Road', 'Men in Black II'}): 0.13263785394932937,\n frozenset({'Arlington Road',\n            \"Monsieur  Hulot's Holiday\"}): 0.07153502235469449,\n frozenset({'Arlington Road', 'Monsoon Wedding'}): 0.11326378539493294,\n frozenset({'Arlington Road', 'Mothra vs. Godzilla'}): 0.08494783904619971,\n frozenset({'Arlington Road', \"Mr. Holland's Opus\"}): 0.07004470938897168,\n frozenset({'Arlington Road', 'Notes on a Scandal'}): 0.07898658718330849,\n frozenset({'Arlington Road', 'Once Were Warriors'}): 0.09090909090909091,\n frozenset({'Arlington Road', 'Point Break'}): 0.08047690014903129,\n frozenset({'Arlington Road', 'Psycho'}): 0.07451564828614009,\n frozenset({'Arlington Road', 'Rain Man'}): 0.09388971684053651,\n frozenset({'Arlington Road', 'Rebecca'}): 0.07302533532041729,\n frozenset({'Arlington Road', 'Reign Over Me'}): 0.07302533532041729,\n frozenset({'Arlington Road', 'Reservoir Dogs'}): 0.09836065573770492,\n frozenset({'Arlington Road', 'Rope'}): 0.11475409836065574,\n frozenset({'Arlington Road', 'Run Lola Run'}): 0.07898658718330849,\n frozenset({'Arlington Road', 'Say Anything...'}): 0.07898658718330849,\n frozenset({'Arlington Road', 'Silent Hill'}): 0.10730253353204174,\n frozenset({'Arlington Road', 'Sissi'}): 0.09985096870342772,\n frozenset({'Arlington Road', 'Sleepless in Seattle'}): 0.09687034277198212,\n frozenset({'Arlington Road', 'Solaris'}): 0.11475409836065574,\n frozenset({'Arlington Road',\n            'Superstar: The Karen Carpenter Story'}): 0.07898658718330849,\n frozenset({'Arlington Road', 'Syriana'}): 0.08345752608047691,\n frozenset({'Arlington Road',\n            'Terminator 3: Rise of the Machines'}): 0.12667660208643816,\n frozenset({'Arlington Road', 'The 39 Steps'}): 0.15499254843517138,\n frozenset({'Arlington Road', 'The Bourne Supremacy'}): 0.07451564828614009,\n frozenset({'Arlington Road',\n            'The Cave of the Yellow Dog'}): 0.08345752608047691,\n frozenset({'Arlington Road',\n            'The Chronicles of Riddick: Dark Fury'}): 0.07451564828614009,\n frozenset({'Arlington Road', 'The Conversation'}): 0.09687034277198212,\n frozenset({'Arlington Road', 'The Hours'}): 0.09836065573770492,\n frozenset({'Arlington Road',\n            'The Man with the Golden Arm'}): 0.07898658718330849,\n frozenset({'Arlington Road',\n            'The Million Dollar Hotel'}): 0.12518628912071536,\n frozenset({'Arlington Road',\n            'The Passion of Joan of Arc'}): 0.14008941877794337,\n frozenset({'Arlington Road', 'The Searchers'}): 0.07600596125186289,\n frozenset({'Arlington Road', 'The Tunnel'}): 0.07451564828614009,\n frozenset({'Arlington Road', 'Three Colors: Red'}): 0.09538002980625931,\n frozenset({'Arlington Road', 'Titanic'}): 0.09687034277198212,\n frozenset({'Arlington Road', 'To Kill a Mockingbird'}): 0.09687034277198212,\n frozenset({'Arlington Road',\n            'Twin Peaks: Fire Walk with Me'}): 0.07898658718330849,\n frozenset({'Arlington Road', 'Wag the Dog'}): 0.08345752608047691,\n frozenset({'Arlington Road', 'Young and Innocent'}): 0.08792846497764531,\n frozenset({'Armageddon', 'Back to the Future Part II'}): 0.07302533532041729,\n frozenset({'Armageddon', 'Bang, Boom, Bang'}): 0.07302533532041729,\n frozenset({'Armageddon', 'Beauty and the Beast'}): 0.09538002980625931,\n frozenset({'Armageddon', 'Grill Point'}): 0.07153502235469449,\n frozenset({'Armageddon', 'Judgment Night'}): 0.07153502235469449,\n frozenset({'Armageddon', 'Men in Black II'}): 0.08196721311475409,\n frozenset({'Armageddon', 'Monsoon Wedding'}): 0.09090909090909091,\n frozenset({'Armageddon', 'Rain Man'}): 0.09239940387481371,\n frozenset({'Armageddon', 'Sissi'}): 0.09090909090909091,\n frozenset({'Armageddon', 'Solaris'}): 0.07898658718330849,\n frozenset({'Armageddon',\n            'Terminator 3: Rise of the Machines'}): 0.09090909090909091,\n frozenset({'Armageddon', 'The 39 Steps'}): 0.08345752608047691,\n frozenset({'Armageddon', 'The Conversation'}): 0.08047690014903129,\n frozenset({'Armageddon', 'The Hours'}): 0.08345752608047691,\n frozenset({'Armageddon', 'The Passion of Joan of Arc'}): 0.10432190760059612,\n frozenset({'Armageddon', 'Three Colors: Red'}): 0.07600596125186289,\n frozenset({'Armageddon', 'Titanic'}): 0.07451564828614009,\n frozenset({'Avalon', 'Bridge to Terabithia'}): 0.07302533532041729,\n frozenset({'Avalon', 'Men in Black II'}): 0.07600596125186289,\n frozenset({'Avalon', 'Monsoon Wedding'}): 0.07004470938897168,\n frozenset({'Avalon', 'Once Were Warriors'}): 0.07302533532041729,\n frozenset({'Avalon', 'Rope'}): 0.07451564828614009,\n frozenset({'Avalon', 'Say Anything...'}): 0.07004470938897168,\n frozenset({'Avalon', 'Solaris'}): 0.07898658718330849,\n frozenset({'Avalon',\n            'Terminator 3: Rise of the Machines'}): 0.07898658718330849,\n frozenset({'Avalon', 'The 39 Steps'}): 0.07749627421758569,\n frozenset({'Avalon', 'The Million Dollar Hotel'}): 0.08196721311475409,\n frozenset({'Avalon', 'Titanic'}): 0.07153502235469449,\n frozenset({'Avalon', 'Young and Innocent'}): 0.07004470938897168,\n frozenset({'Back to the Future Part II',\n            'Bang, Boom, Bang'}): 0.14456035767511177,\n frozenset({'Back to the Future Part II',\n            'Batman Returns'}): 0.12667660208643816,\n frozenset({'Back to the Future Part II',\n            'Beauty and the Beast'}): 0.10730253353204174,\n frozenset({'Back to the Future Part II', 'Big Fish'}): 0.10283159463487332,\n frozenset({'Back to the Future Part II',\n            'Bridge to Terabithia'}): 0.07302533532041729,\n frozenset({'Back to the Future Part II',\n            'Cockles and Muscles'}): 0.12518628912071536,\n frozenset({'Back to the Future Part II',\n            \"Dave Chappelle's Block Party\"}): 0.11326378539493294,\n frozenset({'Back to the Future Part II', 'Grill Point'}): 0.12071535022354694,\n frozenset({'Back to the Future Part II', 'High Noon'}): 0.09985096870342772,\n frozenset({'Back to the Future Part II',\n            'Jurassic Park'}): 0.09687034277198212,\n frozenset({'Back to the Future Part II',\n            'License to Wed'}): 0.07004470938897168,\n frozenset({'Back to the Future Part II',\n            'Live and Let Die'}): 0.10879284649776454,\n frozenset({'Back to the Future Part II',\n            'Lost in Translation'}): 0.12071535022354694,\n frozenset({'Back to the Future Part II',\n            'Love Actually'}): 0.08047690014903129,\n frozenset({'Back to the Future Part II',\n            'Men in Black II'}): 0.08643815201192251,\n frozenset({'Back to the Future Part II', 'Metropolis'}): 0.08047690014903129,\n frozenset({'Back to the Future Part II',\n            'Monsoon Wedding'}): 0.16691505216095381,\n frozenset({'Back to the Future Part II',\n            'Night on Earth'}): 0.09538002980625931,\n frozenset({'Back to the Future Part II',\n            \"Ocean's Eleven\"}): 0.07898658718330849,\n frozenset({'Back to the Future Part II',\n            'Once Were Warriors'}): 0.10879284649776454,\n frozenset({'Back to the Future Part II',\n            'Popular Music'}): 0.08047690014903129,\n frozenset({'Back to the Future Part II', 'Psycho'}): 0.09388971684053651,\n frozenset({'Back to the Future Part II', 'Rain Man'}): 0.16691505216095381,\n frozenset({'Back to the Future Part II', 'Rambo III'}): 0.07153502235469449,\n frozenset({'Back to the Future Part II',\n            'Reservoir Dogs'}): 0.11624441132637854,\n frozenset({'Back to the Future Part II',\n            'Romeo + Juliet'}): 0.10879284649776454,\n frozenset({'Back to the Future Part II', 'Rope'}): 0.08196721311475409,\n frozenset({'Back to the Future Part II',\n            'Say Anything...'}): 0.07749627421758569,\n frozenset({'Back to the Future Part II', 'Silent Hill'}): 0.13114754098360656,\n frozenset({'Back to the Future Part II', 'Sissi'}): 0.16542473919523099,\n frozenset({'Back to the Future Part II', 'Solaris'}): 0.14754098360655737,\n frozenset({'Back to the Future Part II', 'Syriana'}): 0.12518628912071536,\n frozenset({'Back to the Future Part II',\n            'Terminator 3: Rise of the Machines'}): 0.17436661698956782,\n ...}"
     },
     "execution_count": 11,
     "metadata": {},
     "output_type": "execute_result"
    }
   ],
   "source": [
    "frequent_items_dict = dict(zip(frozenset_vect(keys), values))\n",
    "frequent_items_dict"
   ],
   "metadata": {
    "collapsed": false,
    "pycharm": {
     "name": "#%%\n"
    }
   }
  },
  {
   "cell_type": "code",
   "execution_count": 18,
   "outputs": [
    {
     "data": {
      "text/plain": "frozenset({'Back to the Future Part II', 'The 39 Steps'})"
     },
     "execution_count": 18,
     "metadata": {},
     "output_type": "execute_result"
    }
   ],
   "source": [
    "list(frequent_items_dict.keys())[1000]"
   ],
   "metadata": {
    "collapsed": false,
    "pycharm": {
     "name": "#%%\n"
    }
   }
  },
  {
   "cell_type": "code",
   "execution_count": 24,
   "outputs": [],
   "source": [
    "k1 = frozenset({'Back to the Future Part II', 'The 39 Steps'})"
   ],
   "metadata": {
    "collapsed": false,
    "pycharm": {
     "name": "#%%\n"
    }
   }
  },
  {
   "cell_type": "code",
   "execution_count": 25,
   "outputs": [
    {
     "data": {
      "text/plain": "frozenset({'Back to the Future Part II', 'The 39 Steps'})"
     },
     "execution_count": 25,
     "metadata": {},
     "output_type": "execute_result"
    }
   ],
   "source": [
    "k1"
   ],
   "metadata": {
    "collapsed": false,
    "pycharm": {
     "name": "#%%\n"
    }
   }
  },
  {
   "cell_type": "code",
   "execution_count": 30,
   "outputs": [],
   "source": [
    "all_subsets = subsets({'Back to the Future Part II', 'The 39 Steps'})"
   ],
   "metadata": {
    "collapsed": false,
    "pycharm": {
     "name": "#%%\n"
    }
   }
  },
  {
   "cell_type": "code",
   "execution_count": 31,
   "outputs": [],
   "source": [
    "condition = all_subsets[0]\n",
    "consequence = k1.difference(condition)"
   ],
   "metadata": {
    "collapsed": false,
    "pycharm": {
     "name": "#%%\n"
    }
   }
  },
  {
   "cell_type": "code",
   "execution_count": 32,
   "outputs": [
    {
     "data": {
      "text/plain": "frozenset({'The 39 Steps'})"
     },
     "execution_count": 32,
     "metadata": {},
     "output_type": "execute_result"
    }
   ],
   "source": [
    "consequence"
   ],
   "metadata": {
    "collapsed": false,
    "pycharm": {
     "name": "#%%\n"
    }
   }
  },
  {
   "cell_type": "code",
   "execution_count": 33,
   "outputs": [
    {
     "data": {
      "text/plain": "('Back to the Future Part II',)"
     },
     "execution_count": 33,
     "metadata": {},
     "output_type": "execute_result"
    }
   ],
   "source": [
    "condition"
   ],
   "metadata": {
    "collapsed": false,
    "pycharm": {
     "name": "#%%\n"
    }
   }
  },
  {
   "cell_type": "code",
   "execution_count": 34,
   "outputs": [
    {
     "data": {
      "text/plain": "frozenset({'Back to the Future Part II', 'The 39 Steps'})"
     },
     "execution_count": 34,
     "metadata": {},
     "output_type": "execute_result"
    }
   ],
   "source": [
    "k1"
   ],
   "metadata": {
    "collapsed": false,
    "pycharm": {
     "name": "#%%\n"
    }
   }
  },
  {
   "cell_type": "code",
   "execution_count": 1,
   "outputs": [],
   "source": [
    "from src.apriori import association_rules\n",
    "import pandas as pd"
   ],
   "metadata": {
    "collapsed": false,
    "pycharm": {
     "name": "#%%\n"
    }
   }
  },
  {
   "cell_type": "code",
   "execution_count": 2,
   "outputs": [
    {
     "data": {
      "text/plain": "                                                 condition  \\\n0                           (20,000 Leagues Under the Sea)   \n1                           (20,000 Leagues Under the Sea)   \n2                           (20,000 Leagues Under the Sea)   \n3                           (20,000 Leagues Under the Sea)   \n4                           (20,000 Leagues Under the Sea)   \n...                                                    ...   \n1043320  (Rain Man, Terminator 3: Rise of the Machines,...   \n1043321  (Rain Man, Terminator 3: Rise of the Machines,...   \n1043322  (Rain Man, Terminator 3: Rise of the Machines,...   \n1043323  (Rain Man, The Hours, The Million Dollar Hotel...   \n1043324  (Terminator 3: Rise of the Machines, The Hours...   \n\n                                  consequence  condition support  \\\n0                 (A Nightmare on Elm Street)           0.129657   \n1                           (Monsoon Wedding)           0.129657   \n2                                  (Rain Man)           0.129657   \n3                               (Silent Hill)           0.129657   \n4                                     (Sissi)           0.129657   \n...                                       ...                ...   \n1043320                             (Solaris)           0.074516   \n1043321            (The Million Dollar Hotel)           0.076006   \n1043322                           (The Hours)           0.081967   \n1043323  (Terminator 3: Rise of the Machines)           0.074516   \n1043324                            (Rain Man)           0.074516   \n\n         consequence support   support  confidence      lift  leverage  \n0                   0.266766  0.081967    0.632184  2.369807  0.047379  \n1                   0.406855  0.090909    0.701149  1.723338  0.038157  \n2                   0.293592  0.086438    0.666667  2.270728  0.048372  \n3                   0.315946  0.078987    0.609195  1.928161  0.038022  \n4                   0.315946  0.086438    0.666667  2.110063  0.045473  \n...                      ...       ...         ...       ...       ...  \n1043320             0.450075  0.070045    0.940000  2.088543  0.036507  \n1043321             0.463487  0.070045    0.921569  1.988336  0.034817  \n1043322             0.301043  0.070045    0.854545  2.838614  0.045369  \n1043323             0.481371  0.070045    0.940000  1.952755  0.034175  \n1043324             0.293592  0.070045    0.940000  3.201726  0.048168  \n\n[1043325 rows x 8 columns]",
      "text/html": "<div>\n<style scoped>\n    .dataframe tbody tr th:only-of-type {\n        vertical-align: middle;\n    }\n\n    .dataframe tbody tr th {\n        vertical-align: top;\n    }\n\n    .dataframe thead th {\n        text-align: right;\n    }\n</style>\n<table border=\"1\" class=\"dataframe\">\n  <thead>\n    <tr style=\"text-align: right;\">\n      <th></th>\n      <th>condition</th>\n      <th>consequence</th>\n      <th>condition support</th>\n      <th>consequence support</th>\n      <th>support</th>\n      <th>confidence</th>\n      <th>lift</th>\n      <th>leverage</th>\n    </tr>\n  </thead>\n  <tbody>\n    <tr>\n      <th>0</th>\n      <td>(20,000 Leagues Under the Sea)</td>\n      <td>(A Nightmare on Elm Street)</td>\n      <td>0.129657</td>\n      <td>0.266766</td>\n      <td>0.081967</td>\n      <td>0.632184</td>\n      <td>2.369807</td>\n      <td>0.047379</td>\n    </tr>\n    <tr>\n      <th>1</th>\n      <td>(20,000 Leagues Under the Sea)</td>\n      <td>(Monsoon Wedding)</td>\n      <td>0.129657</td>\n      <td>0.406855</td>\n      <td>0.090909</td>\n      <td>0.701149</td>\n      <td>1.723338</td>\n      <td>0.038157</td>\n    </tr>\n    <tr>\n      <th>2</th>\n      <td>(20,000 Leagues Under the Sea)</td>\n      <td>(Rain Man)</td>\n      <td>0.129657</td>\n      <td>0.293592</td>\n      <td>0.086438</td>\n      <td>0.666667</td>\n      <td>2.270728</td>\n      <td>0.048372</td>\n    </tr>\n    <tr>\n      <th>3</th>\n      <td>(20,000 Leagues Under the Sea)</td>\n      <td>(Silent Hill)</td>\n      <td>0.129657</td>\n      <td>0.315946</td>\n      <td>0.078987</td>\n      <td>0.609195</td>\n      <td>1.928161</td>\n      <td>0.038022</td>\n    </tr>\n    <tr>\n      <th>4</th>\n      <td>(20,000 Leagues Under the Sea)</td>\n      <td>(Sissi)</td>\n      <td>0.129657</td>\n      <td>0.315946</td>\n      <td>0.086438</td>\n      <td>0.666667</td>\n      <td>2.110063</td>\n      <td>0.045473</td>\n    </tr>\n    <tr>\n      <th>...</th>\n      <td>...</td>\n      <td>...</td>\n      <td>...</td>\n      <td>...</td>\n      <td>...</td>\n      <td>...</td>\n      <td>...</td>\n      <td>...</td>\n    </tr>\n    <tr>\n      <th>1043320</th>\n      <td>(Rain Man, Terminator 3: Rise of the Machines,...</td>\n      <td>(Solaris)</td>\n      <td>0.074516</td>\n      <td>0.450075</td>\n      <td>0.070045</td>\n      <td>0.940000</td>\n      <td>2.088543</td>\n      <td>0.036507</td>\n    </tr>\n    <tr>\n      <th>1043321</th>\n      <td>(Rain Man, Terminator 3: Rise of the Machines,...</td>\n      <td>(The Million Dollar Hotel)</td>\n      <td>0.076006</td>\n      <td>0.463487</td>\n      <td>0.070045</td>\n      <td>0.921569</td>\n      <td>1.988336</td>\n      <td>0.034817</td>\n    </tr>\n    <tr>\n      <th>1043322</th>\n      <td>(Rain Man, Terminator 3: Rise of the Machines,...</td>\n      <td>(The Hours)</td>\n      <td>0.081967</td>\n      <td>0.301043</td>\n      <td>0.070045</td>\n      <td>0.854545</td>\n      <td>2.838614</td>\n      <td>0.045369</td>\n    </tr>\n    <tr>\n      <th>1043323</th>\n      <td>(Rain Man, The Hours, The Million Dollar Hotel...</td>\n      <td>(Terminator 3: Rise of the Machines)</td>\n      <td>0.074516</td>\n      <td>0.481371</td>\n      <td>0.070045</td>\n      <td>0.940000</td>\n      <td>1.952755</td>\n      <td>0.034175</td>\n    </tr>\n    <tr>\n      <th>1043324</th>\n      <td>(Terminator 3: Rise of the Machines, The Hours...</td>\n      <td>(Rain Man)</td>\n      <td>0.074516</td>\n      <td>0.293592</td>\n      <td>0.070045</td>\n      <td>0.940000</td>\n      <td>3.201726</td>\n      <td>0.048168</td>\n    </tr>\n  </tbody>\n</table>\n<p>1043325 rows × 8 columns</p>\n</div>"
     },
     "execution_count": 2,
     "metadata": {},
     "output_type": "execute_result"
    }
   ],
   "source": [
    "df = pd.read_csv('../data/movies.csv')\n",
    "res_df = association_rules(df, min_support=0.07, min_confidence=0.6)\n",
    "res_df"
   ],
   "metadata": {
    "collapsed": false,
    "pycharm": {
     "name": "#%%\n"
    }
   }
  },
  {
   "cell_type": "code",
   "execution_count": 12,
   "outputs": [
    {
     "data": {
      "text/plain": "                                                 condition  \\\n23421                                           (On Guard)   \n23423               (The Garden of Eden, Muxmäuschenstill)   \n69839                                     (Big Fish, Rope)   \n69836                           (Psycho, All the Way Boys)   \n1029284  (48 Hrs., A Nightmare on Elm Street, Cockles a...   \n...                                                    ...   \n228                             (And Then There Were None)   \n9175          (The Passion of Joan of Arc, Arlington Road)   \n1213                                                (Rope)   \n588                                         (Donnie Darko)   \n1448                                              (Waiter)   \n\n                                               consequence  condition support  \\\n23421               (The Garden of Eden, Muxmäuschenstill)           0.087928   \n23423                                           (On Guard)           0.099851   \n69839                           (Psycho, All the Way Boys)           0.092399   \n69836                                     (Big Fish, Rope)           0.095380   \n1029284  (Sissi, Rain Man, The Hours, Monsoon Wedding, ...           0.093890   \n...                                                    ...                ...   \n228                   (Terminator 3: Rise of the Machines)           0.190760   \n9175                  (Terminator 3: Rise of the Machines)           0.140089   \n1213                  (Terminator 3: Rise of the Machines)           0.281669   \n588                   (Terminator 3: Rise of the Machines)           0.138599   \n1448                  (Terminator 3: Rise of the Machines)           0.120715   \n\n         consequence support   support  confidence      lift  leverage  \n23421               0.099851  0.070045    0.796610  7.977991  0.061265  \n23423               0.087928  0.070045    0.701493  7.977991  0.061265  \n69839               0.095380  0.070045    0.758065  7.947833  0.061232  \n69836               0.092399  0.070045    0.734375  7.947833  0.061232  \n1029284             0.098361  0.071535    0.761905  7.746032  0.062300  \n...                      ...       ...         ...       ...       ...  \n228                 0.481371  0.117735    0.617188  1.282145  0.025908  \n9175                0.481371  0.086438    0.617021  1.281800  0.019003  \n1213                0.481371  0.172876    0.613757  1.275018  0.037289  \n588                 0.481371  0.084948    0.612903  1.273245  0.018230  \n1448                0.481371  0.073025    0.604938  1.256698  0.014916  \n\n[1043325 rows x 8 columns]",
      "text/html": "<div>\n<style scoped>\n    .dataframe tbody tr th:only-of-type {\n        vertical-align: middle;\n    }\n\n    .dataframe tbody tr th {\n        vertical-align: top;\n    }\n\n    .dataframe thead th {\n        text-align: right;\n    }\n</style>\n<table border=\"1\" class=\"dataframe\">\n  <thead>\n    <tr style=\"text-align: right;\">\n      <th></th>\n      <th>condition</th>\n      <th>consequence</th>\n      <th>condition support</th>\n      <th>consequence support</th>\n      <th>support</th>\n      <th>confidence</th>\n      <th>lift</th>\n      <th>leverage</th>\n    </tr>\n  </thead>\n  <tbody>\n    <tr>\n      <th>23421</th>\n      <td>(On Guard)</td>\n      <td>(The Garden of Eden, Muxmäuschenstill)</td>\n      <td>0.087928</td>\n      <td>0.099851</td>\n      <td>0.070045</td>\n      <td>0.796610</td>\n      <td>7.977991</td>\n      <td>0.061265</td>\n    </tr>\n    <tr>\n      <th>23423</th>\n      <td>(The Garden of Eden, Muxmäuschenstill)</td>\n      <td>(On Guard)</td>\n      <td>0.099851</td>\n      <td>0.087928</td>\n      <td>0.070045</td>\n      <td>0.701493</td>\n      <td>7.977991</td>\n      <td>0.061265</td>\n    </tr>\n    <tr>\n      <th>69839</th>\n      <td>(Big Fish, Rope)</td>\n      <td>(Psycho, All the Way Boys)</td>\n      <td>0.092399</td>\n      <td>0.095380</td>\n      <td>0.070045</td>\n      <td>0.758065</td>\n      <td>7.947833</td>\n      <td>0.061232</td>\n    </tr>\n    <tr>\n      <th>69836</th>\n      <td>(Psycho, All the Way Boys)</td>\n      <td>(Big Fish, Rope)</td>\n      <td>0.095380</td>\n      <td>0.092399</td>\n      <td>0.070045</td>\n      <td>0.734375</td>\n      <td>7.947833</td>\n      <td>0.061232</td>\n    </tr>\n    <tr>\n      <th>1029284</th>\n      <td>(48 Hrs., A Nightmare on Elm Street, Cockles a...</td>\n      <td>(Sissi, Rain Man, The Hours, Monsoon Wedding, ...</td>\n      <td>0.093890</td>\n      <td>0.098361</td>\n      <td>0.071535</td>\n      <td>0.761905</td>\n      <td>7.746032</td>\n      <td>0.062300</td>\n    </tr>\n    <tr>\n      <th>...</th>\n      <td>...</td>\n      <td>...</td>\n      <td>...</td>\n      <td>...</td>\n      <td>...</td>\n      <td>...</td>\n      <td>...</td>\n      <td>...</td>\n    </tr>\n    <tr>\n      <th>228</th>\n      <td>(And Then There Were None)</td>\n      <td>(Terminator 3: Rise of the Machines)</td>\n      <td>0.190760</td>\n      <td>0.481371</td>\n      <td>0.117735</td>\n      <td>0.617188</td>\n      <td>1.282145</td>\n      <td>0.025908</td>\n    </tr>\n    <tr>\n      <th>9175</th>\n      <td>(The Passion of Joan of Arc, Arlington Road)</td>\n      <td>(Terminator 3: Rise of the Machines)</td>\n      <td>0.140089</td>\n      <td>0.481371</td>\n      <td>0.086438</td>\n      <td>0.617021</td>\n      <td>1.281800</td>\n      <td>0.019003</td>\n    </tr>\n    <tr>\n      <th>1213</th>\n      <td>(Rope)</td>\n      <td>(Terminator 3: Rise of the Machines)</td>\n      <td>0.281669</td>\n      <td>0.481371</td>\n      <td>0.172876</td>\n      <td>0.613757</td>\n      <td>1.275018</td>\n      <td>0.037289</td>\n    </tr>\n    <tr>\n      <th>588</th>\n      <td>(Donnie Darko)</td>\n      <td>(Terminator 3: Rise of the Machines)</td>\n      <td>0.138599</td>\n      <td>0.481371</td>\n      <td>0.084948</td>\n      <td>0.612903</td>\n      <td>1.273245</td>\n      <td>0.018230</td>\n    </tr>\n    <tr>\n      <th>1448</th>\n      <td>(Waiter)</td>\n      <td>(Terminator 3: Rise of the Machines)</td>\n      <td>0.120715</td>\n      <td>0.481371</td>\n      <td>0.073025</td>\n      <td>0.604938</td>\n      <td>1.256698</td>\n      <td>0.014916</td>\n    </tr>\n  </tbody>\n</table>\n<p>1043325 rows × 8 columns</p>\n</div>"
     },
     "execution_count": 12,
     "metadata": {},
     "output_type": "execute_result"
    }
   ],
   "source": [
    "res_df.sort_values('lift', ascending=False)"
   ],
   "metadata": {
    "collapsed": false,
    "pycharm": {
     "name": "#%%\n"
    }
   }
  },
  {
   "cell_type": "code",
   "execution_count": 11,
   "outputs": [
    {
     "ename": "KeyError",
     "evalue": "'condition'",
     "output_type": "error",
     "traceback": [
      "\u001B[1;31m---------------------------------------------------------------------------\u001B[0m",
      "\u001B[1;31mKeyError\u001B[0m                                  Traceback (most recent call last)",
      "File \u001B[1;32mC:\\Anaconda\\lib\\site-packages\\pandas\\core\\indexes\\base.py:3621\u001B[0m, in \u001B[0;36mIndex.get_loc\u001B[1;34m(self, key, method, tolerance)\u001B[0m\n\u001B[0;32m   3620\u001B[0m \u001B[38;5;28;01mtry\u001B[39;00m:\n\u001B[1;32m-> 3621\u001B[0m     \u001B[38;5;28;01mreturn\u001B[39;00m \u001B[38;5;28;43mself\u001B[39;49m\u001B[38;5;241;43m.\u001B[39;49m\u001B[43m_engine\u001B[49m\u001B[38;5;241;43m.\u001B[39;49m\u001B[43mget_loc\u001B[49m\u001B[43m(\u001B[49m\u001B[43mcasted_key\u001B[49m\u001B[43m)\u001B[49m\n\u001B[0;32m   3622\u001B[0m \u001B[38;5;28;01mexcept\u001B[39;00m \u001B[38;5;167;01mKeyError\u001B[39;00m \u001B[38;5;28;01mas\u001B[39;00m err:\n",
      "File \u001B[1;32mC:\\Anaconda\\lib\\site-packages\\pandas\\_libs\\index.pyx:136\u001B[0m, in \u001B[0;36mpandas._libs.index.IndexEngine.get_loc\u001B[1;34m()\u001B[0m\n",
      "File \u001B[1;32mC:\\Anaconda\\lib\\site-packages\\pandas\\_libs\\index.pyx:163\u001B[0m, in \u001B[0;36mpandas._libs.index.IndexEngine.get_loc\u001B[1;34m()\u001B[0m\n",
      "File \u001B[1;32mpandas\\_libs\\hashtable_class_helper.pxi:5198\u001B[0m, in \u001B[0;36mpandas._libs.hashtable.PyObjectHashTable.get_item\u001B[1;34m()\u001B[0m\n",
      "File \u001B[1;32mpandas\\_libs\\hashtable_class_helper.pxi:5206\u001B[0m, in \u001B[0;36mpandas._libs.hashtable.PyObjectHashTable.get_item\u001B[1;34m()\u001B[0m\n",
      "\u001B[1;31mKeyError\u001B[0m: 'condition'",
      "\nThe above exception was the direct cause of the following exception:\n",
      "\u001B[1;31mKeyError\u001B[0m                                  Traceback (most recent call last)",
      "Input \u001B[1;32mIn [11]\u001B[0m, in \u001B[0;36m<cell line: 1>\u001B[1;34m()\u001B[0m\n\u001B[1;32m----> 1\u001B[0m length \u001B[38;5;241m=\u001B[39m \u001B[43mdf\u001B[49m\u001B[43m[\u001B[49m\u001B[38;5;124;43m'\u001B[39;49m\u001B[38;5;124;43mcondition\u001B[39;49m\u001B[38;5;124;43m'\u001B[39;49m\u001B[43m]\u001B[49m\u001B[38;5;241m.\u001B[39mapply(\u001B[38;5;28;01mlambda\u001B[39;00m x: \u001B[38;5;28mlen\u001B[39m(x))\n\u001B[0;32m      2\u001B[0m length\n",
      "File \u001B[1;32mC:\\Anaconda\\lib\\site-packages\\pandas\\core\\frame.py:3505\u001B[0m, in \u001B[0;36mDataFrame.__getitem__\u001B[1;34m(self, key)\u001B[0m\n\u001B[0;32m   3503\u001B[0m \u001B[38;5;28;01mif\u001B[39;00m \u001B[38;5;28mself\u001B[39m\u001B[38;5;241m.\u001B[39mcolumns\u001B[38;5;241m.\u001B[39mnlevels \u001B[38;5;241m>\u001B[39m \u001B[38;5;241m1\u001B[39m:\n\u001B[0;32m   3504\u001B[0m     \u001B[38;5;28;01mreturn\u001B[39;00m \u001B[38;5;28mself\u001B[39m\u001B[38;5;241m.\u001B[39m_getitem_multilevel(key)\n\u001B[1;32m-> 3505\u001B[0m indexer \u001B[38;5;241m=\u001B[39m \u001B[38;5;28;43mself\u001B[39;49m\u001B[38;5;241;43m.\u001B[39;49m\u001B[43mcolumns\u001B[49m\u001B[38;5;241;43m.\u001B[39;49m\u001B[43mget_loc\u001B[49m\u001B[43m(\u001B[49m\u001B[43mkey\u001B[49m\u001B[43m)\u001B[49m\n\u001B[0;32m   3506\u001B[0m \u001B[38;5;28;01mif\u001B[39;00m is_integer(indexer):\n\u001B[0;32m   3507\u001B[0m     indexer \u001B[38;5;241m=\u001B[39m [indexer]\n",
      "File \u001B[1;32mC:\\Anaconda\\lib\\site-packages\\pandas\\core\\indexes\\base.py:3623\u001B[0m, in \u001B[0;36mIndex.get_loc\u001B[1;34m(self, key, method, tolerance)\u001B[0m\n\u001B[0;32m   3621\u001B[0m     \u001B[38;5;28;01mreturn\u001B[39;00m \u001B[38;5;28mself\u001B[39m\u001B[38;5;241m.\u001B[39m_engine\u001B[38;5;241m.\u001B[39mget_loc(casted_key)\n\u001B[0;32m   3622\u001B[0m \u001B[38;5;28;01mexcept\u001B[39;00m \u001B[38;5;167;01mKeyError\u001B[39;00m \u001B[38;5;28;01mas\u001B[39;00m err:\n\u001B[1;32m-> 3623\u001B[0m     \u001B[38;5;28;01mraise\u001B[39;00m \u001B[38;5;167;01mKeyError\u001B[39;00m(key) \u001B[38;5;28;01mfrom\u001B[39;00m \u001B[38;5;21;01merr\u001B[39;00m\n\u001B[0;32m   3624\u001B[0m \u001B[38;5;28;01mexcept\u001B[39;00m \u001B[38;5;167;01mTypeError\u001B[39;00m:\n\u001B[0;32m   3625\u001B[0m     \u001B[38;5;66;03m# If we have a listlike key, _check_indexing_error will raise\u001B[39;00m\n\u001B[0;32m   3626\u001B[0m     \u001B[38;5;66;03m#  InvalidIndexError. Otherwise we fall through and re-raise\u001B[39;00m\n\u001B[0;32m   3627\u001B[0m     \u001B[38;5;66;03m#  the TypeError.\u001B[39;00m\n\u001B[0;32m   3628\u001B[0m     \u001B[38;5;28mself\u001B[39m\u001B[38;5;241m.\u001B[39m_check_indexing_error(key)\n",
      "\u001B[1;31mKeyError\u001B[0m: 'condition'"
     ]
    }
   ],
   "source": [
    "length = res_df['condition'].apply(lambda x: len(x))\n",
    "length"
   ],
   "metadata": {
    "collapsed": false,
    "pycharm": {
     "name": "#%%\n"
    }
   }
  },
  {
   "cell_type": "code",
   "execution_count": 7,
   "outputs": [
    {
     "ename": "ValueError",
     "evalue": "No axis named 1 for object type Series",
     "output_type": "error",
     "traceback": [
      "\u001B[1;31m---------------------------------------------------------------------------\u001B[0m",
      "\u001B[1;31mKeyError\u001B[0m                                  Traceback (most recent call last)",
      "File \u001B[1;32mC:\\Anaconda\\lib\\site-packages\\pandas\\core\\generic.py:550\u001B[0m, in \u001B[0;36mNDFrame._get_axis_number\u001B[1;34m(cls, axis)\u001B[0m\n\u001B[0;32m    549\u001B[0m \u001B[38;5;28;01mtry\u001B[39;00m:\n\u001B[1;32m--> 550\u001B[0m     \u001B[38;5;28;01mreturn\u001B[39;00m \u001B[38;5;28;43mcls\u001B[39;49m\u001B[38;5;241;43m.\u001B[39;49m\u001B[43m_AXIS_TO_AXIS_NUMBER\u001B[49m\u001B[43m[\u001B[49m\u001B[43maxis\u001B[49m\u001B[43m]\u001B[49m\n\u001B[0;32m    551\u001B[0m \u001B[38;5;28;01mexcept\u001B[39;00m \u001B[38;5;167;01mKeyError\u001B[39;00m:\n",
      "\u001B[1;31mKeyError\u001B[0m: 1",
      "\nDuring handling of the above exception, another exception occurred:\n",
      "\u001B[1;31mValueError\u001B[0m                                Traceback (most recent call last)",
      "Input \u001B[1;32mIn [7]\u001B[0m, in \u001B[0;36m<cell line: 1>\u001B[1;34m()\u001B[0m\n\u001B[1;32m----> 1\u001B[0m \u001B[43mcheck_item\u001B[49m\u001B[43m(\u001B[49m\u001B[38;5;124;43m\"\u001B[39;49m\u001B[38;5;124;43m'\u001B[39;49m\u001B[38;5;124;43mTwas the Night Before Christmas\u001B[39;49m\u001B[38;5;124;43m\"\u001B[39;49m\u001B[43m,\u001B[49m\u001B[43m \u001B[49m\u001B[43mdf\u001B[49m\u001B[43m)\u001B[49m\n",
      "Input \u001B[1;32mIn [5]\u001B[0m, in \u001B[0;36mcheck_item\u001B[1;34m(item, df)\u001B[0m\n\u001B[0;32m      1\u001B[0m \u001B[38;5;28;01mdef\u001B[39;00m \u001B[38;5;21mcheck_item\u001B[39m(item, df):\n\u001B[1;32m----> 2\u001B[0m     t \u001B[38;5;241m=\u001B[39m \u001B[43mdf\u001B[49m\u001B[43m[\u001B[49m\u001B[43mitem\u001B[49m\u001B[43m]\u001B[49m\u001B[38;5;241;43m.\u001B[39;49m\u001B[43msum\u001B[49m\u001B[43m(\u001B[49m\u001B[43maxis\u001B[49m\u001B[38;5;241;43m=\u001B[39;49m\u001B[38;5;241;43m1\u001B[39;49m\u001B[43m)\u001B[49m\n\u001B[0;32m      3\u001B[0m     t \u001B[38;5;241m=\u001B[39m t[t \u001B[38;5;241m==\u001B[39m \u001B[38;5;28mlen\u001B[39m(item)]\n\u001B[0;32m      4\u001B[0m     \u001B[38;5;28;01mreturn\u001B[39;00m \u001B[38;5;28mlen\u001B[39m(t)\n",
      "File \u001B[1;32mC:\\Anaconda\\lib\\site-packages\\pandas\\core\\generic.py:11067\u001B[0m, in \u001B[0;36mNDFrame._add_numeric_operations.<locals>.sum\u001B[1;34m(self, axis, skipna, level, numeric_only, min_count, **kwargs)\u001B[0m\n\u001B[0;32m  11047\u001B[0m \u001B[38;5;129m@doc\u001B[39m(\n\u001B[0;32m  11048\u001B[0m     _num_doc,\n\u001B[0;32m  11049\u001B[0m     desc\u001B[38;5;241m=\u001B[39m\u001B[38;5;124m\"\u001B[39m\u001B[38;5;124mReturn the sum of the values over the requested axis.\u001B[39m\u001B[38;5;130;01m\\n\u001B[39;00m\u001B[38;5;130;01m\\n\u001B[39;00m\u001B[38;5;124m\"\u001B[39m\n\u001B[1;32m   (...)\u001B[0m\n\u001B[0;32m  11065\u001B[0m     \u001B[38;5;241m*\u001B[39m\u001B[38;5;241m*\u001B[39mkwargs,\n\u001B[0;32m  11066\u001B[0m ):\n\u001B[1;32m> 11067\u001B[0m     \u001B[38;5;28;01mreturn\u001B[39;00m NDFrame\u001B[38;5;241m.\u001B[39msum(\n\u001B[0;32m  11068\u001B[0m         \u001B[38;5;28mself\u001B[39m, axis, skipna, level, numeric_only, min_count, \u001B[38;5;241m*\u001B[39m\u001B[38;5;241m*\u001B[39mkwargs\n\u001B[0;32m  11069\u001B[0m     )\n",
      "File \u001B[1;32mC:\\Anaconda\\lib\\site-packages\\pandas\\core\\generic.py:10787\u001B[0m, in \u001B[0;36mNDFrame.sum\u001B[1;34m(self, axis, skipna, level, numeric_only, min_count, **kwargs)\u001B[0m\n\u001B[0;32m  10778\u001B[0m \u001B[38;5;28;01mdef\u001B[39;00m \u001B[38;5;21msum\u001B[39m(\n\u001B[0;32m  10779\u001B[0m     \u001B[38;5;28mself\u001B[39m,\n\u001B[0;32m  10780\u001B[0m     axis: Axis \u001B[38;5;241m|\u001B[39m \u001B[38;5;28;01mNone\u001B[39;00m \u001B[38;5;241m=\u001B[39m \u001B[38;5;28;01mNone\u001B[39;00m,\n\u001B[1;32m   (...)\u001B[0m\n\u001B[0;32m  10785\u001B[0m     \u001B[38;5;241m*\u001B[39m\u001B[38;5;241m*\u001B[39mkwargs,\n\u001B[0;32m  10786\u001B[0m ):\n\u001B[1;32m> 10787\u001B[0m     \u001B[38;5;28;01mreturn\u001B[39;00m \u001B[38;5;28mself\u001B[39m\u001B[38;5;241m.\u001B[39m_min_count_stat_function(\n\u001B[0;32m  10788\u001B[0m         \u001B[38;5;124m\"\u001B[39m\u001B[38;5;124msum\u001B[39m\u001B[38;5;124m\"\u001B[39m, nanops\u001B[38;5;241m.\u001B[39mnansum, axis, skipna, level, numeric_only, min_count, \u001B[38;5;241m*\u001B[39m\u001B[38;5;241m*\u001B[39mkwargs\n\u001B[0;32m  10789\u001B[0m     )\n",
      "File \u001B[1;32mC:\\Anaconda\\lib\\site-packages\\pandas\\core\\generic.py:10769\u001B[0m, in \u001B[0;36mNDFrame._min_count_stat_function\u001B[1;34m(self, name, func, axis, skipna, level, numeric_only, min_count, **kwargs)\u001B[0m\n\u001B[0;32m  10753\u001B[0m     warnings\u001B[38;5;241m.\u001B[39mwarn(\n\u001B[0;32m  10754\u001B[0m         \u001B[38;5;124m\"\u001B[39m\u001B[38;5;124mUsing the level keyword in DataFrame and Series aggregations is \u001B[39m\u001B[38;5;124m\"\u001B[39m\n\u001B[0;32m  10755\u001B[0m         \u001B[38;5;124m\"\u001B[39m\u001B[38;5;124mdeprecated and will be removed in a future version. Use groupby \u001B[39m\u001B[38;5;124m\"\u001B[39m\n\u001B[1;32m   (...)\u001B[0m\n\u001B[0;32m  10758\u001B[0m         stacklevel\u001B[38;5;241m=\u001B[39mfind_stack_level(),\n\u001B[0;32m  10759\u001B[0m     )\n\u001B[0;32m  10760\u001B[0m     \u001B[38;5;28;01mreturn\u001B[39;00m \u001B[38;5;28mself\u001B[39m\u001B[38;5;241m.\u001B[39m_agg_by_level(\n\u001B[0;32m  10761\u001B[0m         name,\n\u001B[0;32m  10762\u001B[0m         axis\u001B[38;5;241m=\u001B[39maxis,\n\u001B[1;32m   (...)\u001B[0m\n\u001B[0;32m  10766\u001B[0m         numeric_only\u001B[38;5;241m=\u001B[39mnumeric_only,\n\u001B[0;32m  10767\u001B[0m     )\n\u001B[1;32m> 10769\u001B[0m \u001B[38;5;28;01mreturn\u001B[39;00m \u001B[38;5;28;43mself\u001B[39;49m\u001B[38;5;241;43m.\u001B[39;49m\u001B[43m_reduce\u001B[49m\u001B[43m(\u001B[49m\n\u001B[0;32m  10770\u001B[0m \u001B[43m    \u001B[49m\u001B[43mfunc\u001B[49m\u001B[43m,\u001B[49m\n\u001B[0;32m  10771\u001B[0m \u001B[43m    \u001B[49m\u001B[43mname\u001B[49m\u001B[38;5;241;43m=\u001B[39;49m\u001B[43mname\u001B[49m\u001B[43m,\u001B[49m\n\u001B[0;32m  10772\u001B[0m \u001B[43m    \u001B[49m\u001B[43maxis\u001B[49m\u001B[38;5;241;43m=\u001B[39;49m\u001B[43maxis\u001B[49m\u001B[43m,\u001B[49m\n\u001B[0;32m  10773\u001B[0m \u001B[43m    \u001B[49m\u001B[43mskipna\u001B[49m\u001B[38;5;241;43m=\u001B[39;49m\u001B[43mskipna\u001B[49m\u001B[43m,\u001B[49m\n\u001B[0;32m  10774\u001B[0m \u001B[43m    \u001B[49m\u001B[43mnumeric_only\u001B[49m\u001B[38;5;241;43m=\u001B[39;49m\u001B[43mnumeric_only\u001B[49m\u001B[43m,\u001B[49m\n\u001B[0;32m  10775\u001B[0m \u001B[43m    \u001B[49m\u001B[43mmin_count\u001B[49m\u001B[38;5;241;43m=\u001B[39;49m\u001B[43mmin_count\u001B[49m\u001B[43m,\u001B[49m\n\u001B[0;32m  10776\u001B[0m \u001B[43m\u001B[49m\u001B[43m)\u001B[49m\n",
      "File \u001B[1;32mC:\\Anaconda\\lib\\site-packages\\pandas\\core\\series.py:4455\u001B[0m, in \u001B[0;36mSeries._reduce\u001B[1;34m(self, op, name, axis, skipna, numeric_only, filter_type, **kwds)\u001B[0m\n\u001B[0;32m   4452\u001B[0m delegate \u001B[38;5;241m=\u001B[39m \u001B[38;5;28mself\u001B[39m\u001B[38;5;241m.\u001B[39m_values\n\u001B[0;32m   4454\u001B[0m \u001B[38;5;28;01mif\u001B[39;00m axis \u001B[38;5;129;01mis\u001B[39;00m \u001B[38;5;129;01mnot\u001B[39;00m \u001B[38;5;28;01mNone\u001B[39;00m:\n\u001B[1;32m-> 4455\u001B[0m     \u001B[38;5;28;43mself\u001B[39;49m\u001B[38;5;241;43m.\u001B[39;49m\u001B[43m_get_axis_number\u001B[49m\u001B[43m(\u001B[49m\u001B[43maxis\u001B[49m\u001B[43m)\u001B[49m\n\u001B[0;32m   4457\u001B[0m \u001B[38;5;28;01mif\u001B[39;00m \u001B[38;5;28misinstance\u001B[39m(delegate, ExtensionArray):\n\u001B[0;32m   4458\u001B[0m     \u001B[38;5;66;03m# dispatch to ExtensionArray interface\u001B[39;00m\n\u001B[0;32m   4459\u001B[0m     \u001B[38;5;28;01mreturn\u001B[39;00m delegate\u001B[38;5;241m.\u001B[39m_reduce(name, skipna\u001B[38;5;241m=\u001B[39mskipna, \u001B[38;5;241m*\u001B[39m\u001B[38;5;241m*\u001B[39mkwds)\n",
      "File \u001B[1;32mC:\\Anaconda\\lib\\site-packages\\pandas\\core\\generic.py:552\u001B[0m, in \u001B[0;36mNDFrame._get_axis_number\u001B[1;34m(cls, axis)\u001B[0m\n\u001B[0;32m    550\u001B[0m     \u001B[38;5;28;01mreturn\u001B[39;00m \u001B[38;5;28mcls\u001B[39m\u001B[38;5;241m.\u001B[39m_AXIS_TO_AXIS_NUMBER[axis]\n\u001B[0;32m    551\u001B[0m \u001B[38;5;28;01mexcept\u001B[39;00m \u001B[38;5;167;01mKeyError\u001B[39;00m:\n\u001B[1;32m--> 552\u001B[0m     \u001B[38;5;28;01mraise\u001B[39;00m \u001B[38;5;167;01mValueError\u001B[39;00m(\u001B[38;5;124mf\u001B[39m\u001B[38;5;124m\"\u001B[39m\u001B[38;5;124mNo axis named \u001B[39m\u001B[38;5;132;01m{\u001B[39;00maxis\u001B[38;5;132;01m}\u001B[39;00m\u001B[38;5;124m for object type \u001B[39m\u001B[38;5;132;01m{\u001B[39;00m\u001B[38;5;28mcls\u001B[39m\u001B[38;5;241m.\u001B[39m\u001B[38;5;18m__name__\u001B[39m\u001B[38;5;132;01m}\u001B[39;00m\u001B[38;5;124m\"\u001B[39m)\n",
      "\u001B[1;31mValueError\u001B[0m: No axis named 1 for object type Series"
     ]
    }
   ],
   "source": [
    "check_item(\"'Twas the Night Before Christmas\", df)"
   ],
   "metadata": {
    "collapsed": false,
    "pycharm": {
     "name": "#%%\n"
    }
   }
  },
  {
   "cell_type": "code",
   "execution_count": 9,
   "outputs": [
    {
     "data": {
      "text/plain": "2"
     },
     "execution_count": 9,
     "metadata": {},
     "output_type": "execute_result"
    }
   ],
   "source": [
    "df[\"'Twas the Night Before Christmas\"].sum(axis=0)"
   ],
   "metadata": {
    "collapsed": false,
    "pycharm": {
     "name": "#%%\n"
    }
   }
  },
  {
   "cell_type": "code",
   "execution_count": null,
   "outputs": [],
   "source": [
    "df['']"
   ],
   "metadata": {
    "collapsed": false,
    "pycharm": {
     "name": "#%%\n"
    }
   }
  }
 ],
 "metadata": {
  "kernelspec": {
   "display_name": "Python 3",
   "language": "python",
   "name": "python3"
  },
  "language_info": {
   "codemirror_mode": {
    "name": "ipython",
    "version": 2
   },
   "file_extension": ".py",
   "mimetype": "text/x-python",
   "name": "python",
   "nbconvert_exporter": "python",
   "pygments_lexer": "ipython2",
   "version": "2.7.6"
  }
 },
 "nbformat": 4,
 "nbformat_minor": 0
}